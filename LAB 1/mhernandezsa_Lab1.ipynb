{
  "nbformat": 4,
  "nbformat_minor": 0,
  "metadata": {
    "colab": {
      "name": "mhernandezsa_Lab1.ipynb",
      "provenance": [],
      "authorship_tag": "ABX9TyMuX6u4fC1inl6VGcRbIT0U",
      "include_colab_link": true
    },
    "kernelspec": {
      "name": "python3",
      "display_name": "Python 3"
    },
    "language_info": {
      "name": "python"
    }
  },
  "cells": [
    {
      "cell_type": "markdown",
      "metadata": {
        "id": "view-in-github",
        "colab_type": "text"
      },
      "source": [
        "<a href=\"https://colab.research.google.com/github/mhernandezsa/MetNumUN2022II/blob/main/LAB%201/mhernandezsa_Lab1.ipynb\" target=\"_parent\"><img src=\"https://colab.research.google.com/assets/colab-badge.svg\" alt=\"Open In Colab\"/></a>"
      ]
    },
    {
      "cell_type": "markdown",
      "source": [
        "INTRODUCTION TO RESEARCH"
      ],
      "metadata": {
        "id": "hv1soFDvmjlv"
      }
    },
    {
      "cell_type": "markdown",
      "source": [
        "My own example 1 - Executing a Command"
      ],
      "metadata": {
        "id": "U9W5V36FI9Ar"
      }
    },
    {
      "cell_type": "code",
      "source": [
        "395985*2"
      ],
      "metadata": {
        "colab": {
          "base_uri": "https://localhost:8080/"
        },
        "id": "Ws8ie-grI9LG",
        "outputId": "9811920b-5689-475d-e244-b08ca9e50381"
      },
      "execution_count": null,
      "outputs": [
        {
          "output_type": "execute_result",
          "data": {
            "text/plain": [
              "791970"
            ]
          },
          "metadata": {},
          "execution_count": 13
        }
      ]
    },
    {
      "cell_type": "markdown",
      "source": [
        "My own example 2 "
      ],
      "metadata": {
        "id": "T7tyMpogKNuC"
      }
    },
    {
      "cell_type": "code",
      "source": [
        "x=2.6"
      ],
      "metadata": {
        "id": "7Bag9YnuKYza"
      },
      "execution_count": null,
      "outputs": []
    },
    {
      "cell_type": "markdown",
      "source": [
        "My own example 3"
      ],
      "metadata": {
        "id": "onUJpN9ZKdTu"
      }
    },
    {
      "cell_type": "code",
      "source": [
        "2.6+3.88\n",
        "5/7"
      ],
      "metadata": {
        "colab": {
          "base_uri": "https://localhost:8080/"
        },
        "id": "yxpzv3ucKgHk",
        "outputId": "00929605-f990-4575-c535-8ff503ad6825"
      },
      "execution_count": null,
      "outputs": [
        {
          "output_type": "execute_result",
          "data": {
            "text/plain": [
              "0.7142857142857143"
            ]
          },
          "metadata": {},
          "execution_count": 15
        }
      ]
    },
    {
      "cell_type": "code",
      "source": [
        "2.6+3.88\n",
        "5/7\n",
        "print(2.6+3.88)"
      ],
      "metadata": {
        "colab": {
          "base_uri": "https://localhost:8080/"
        },
        "id": "RFh5QbtMKqlq",
        "outputId": "4abde7f4-a94a-494e-f51e-7e1187e3c21d"
      },
      "execution_count": null,
      "outputs": [
        {
          "output_type": "stream",
          "name": "stdout",
          "text": [
            "6.48\n"
          ]
        }
      ]
    },
    {
      "cell_type": "markdown",
      "source": [
        "\n",
        "My own example 4 - Importing Libraries"
      ],
      "metadata": {
        "id": "_-VkjtXCLJI8"
      }
    },
    {
      "cell_type": "code",
      "source": [
        "import tensorflow as tf"
      ],
      "metadata": {
        "id": "R548LOveLWBT"
      },
      "execution_count": null,
      "outputs": []
    },
    {
      "cell_type": "markdown",
      "source": [
        "My own example 5 - Getting Documentation Help"
      ],
      "metadata": {
        "id": "Atwh7urpLjy0"
      }
    },
    {
      "cell_type": "code",
      "source": [
        "tf.nn.softmax_cross_entropy_with_logits?"
      ],
      "metadata": {
        "id": "Pd_c87o8LqdN"
      },
      "execution_count": null,
      "outputs": []
    },
    {
      "cell_type": "markdown",
      "source": [
        "My own example 6 - Sampling"
      ],
      "metadata": {
        "id": "UFJwttikNHPK"
      }
    },
    {
      "cell_type": "code",
      "source": [
        "import numpy as np\n",
        "z=np.random.normal(0,50,10)\n",
        "z"
      ],
      "metadata": {
        "colab": {
          "base_uri": "https://localhost:8080/"
        },
        "id": "Vp1QN754NNur",
        "outputId": "312afe5d-26e1-49b0-9039-57fa08fec8fc"
      },
      "execution_count": null,
      "outputs": [
        {
          "output_type": "execute_result",
          "data": {
            "text/plain": [
              "array([ 30.68342414,  56.27204282, -59.20530355, -42.68687824,\n",
              "       -12.01857385,  76.79629845, -16.44981978,   9.70268064,\n",
              "        43.74444643, -27.03857922])"
            ]
          },
          "metadata": {},
          "execution_count": 19
        }
      ]
    },
    {
      "cell_type": "markdown",
      "source": [
        "My own example 7 - Plotting"
      ],
      "metadata": {
        "id": "kj3vqmZgOU_F"
      }
    },
    {
      "cell_type": "code",
      "source": [
        "import matplotlib.pyplot as plt\n",
        "plt.plot(z)"
      ],
      "metadata": {
        "colab": {
          "base_uri": "https://localhost:8080/",
          "height": 282
        },
        "id": "auGaxyPHOaWh",
        "outputId": "df4cd3ec-32f9-493b-8530-5b527a1e9a50"
      },
      "execution_count": null,
      "outputs": [
        {
          "output_type": "execute_result",
          "data": {
            "text/plain": [
              "[<matplotlib.lines.Line2D at 0x7fb95f6d7110>]"
            ]
          },
          "metadata": {},
          "execution_count": 20
        },
        {
          "output_type": "display_data",
          "data": {
            "text/plain": [
              "<Figure size 432x288 with 1 Axes>"
            ],
            "image/png": "[encoded data removed]"
          },
          "metadata": {
            "needs_background": "light"
          }
        }
      ]
    },
    {
      "cell_type": "markdown",
      "source": [
        "My own example 8 - Squelching Line Output"
      ],
      "metadata": {
        "id": "F3dGGd5oO8Kt"
      }
    },
    {
      "cell_type": "code",
      "source": [
        "plt.plot(z);"
      ],
      "metadata": {
        "colab": {
          "base_uri": "https://localhost:8080/",
          "height": 265
        },
        "id": "ts66wWpwPf8c",
        "outputId": "106c8835-c2ba-4041-d5f0-d9830860033d"
      },
      "execution_count": null,
      "outputs": [
        {
          "output_type": "display_data",
          "data": {
            "text/plain": [
              "<Figure size 432x288 with 1 Axes>"
            ],
            "image/png": "[encoded data removed]"
          },
          "metadata": {
            "needs_background": "light"
          }
        }
      ]
    },
    {
      "cell_type": "markdown",
      "source": [
        "My own example 9 - Adding Axis Labels"
      ],
      "metadata": {
        "id": "yPduLXEsPuhj"
      }
    },
    {
      "cell_type": "code",
      "source": [
        "plt.plot(z);\n",
        "plt.xlabel('Tiempo')\n",
        "plt.ylabel('Cantidad')\n",
        "plt.legend(['A']);"
      ],
      "metadata": {
        "colab": {
          "base_uri": "https://localhost:8080/",
          "height": 279
        },
        "id": "ZQtzmO1qP1s-",
        "outputId": "5f6cfb9e-a68c-407f-8d6f-ea80e959fe0a"
      },
      "execution_count": null,
      "outputs": [
        {
          "output_type": "display_data",
          "data": {
            "text/plain": [
              "<Figure size 432x288 with 1 Axes>"
            ],
            "image/png": "[encoded data removed]"
          },
          "metadata": {
            "needs_background": "light"
          }
        }
      ]
    },
    {
      "cell_type": "markdown",
      "source": [
        "My own example 10 - Generating statistics"
      ],
      "metadata": {
        "id": "7OfNYYXNRJ9C"
      }
    },
    {
      "cell_type": "code",
      "source": [
        "np.mean(z)"
      ],
      "metadata": {
        "colab": {
          "base_uri": "https://localhost:8080/"
        },
        "id": "5ipyqem2RO12",
        "outputId": "1b5e8edb-975c-4d8b-b713-4a022ff1e34e"
      },
      "execution_count": null,
      "outputs": [
        {
          "output_type": "execute_result",
          "data": {
            "text/plain": [
              "5.979973784399168"
            ]
          },
          "metadata": {},
          "execution_count": 23
        }
      ]
    },
    {
      "cell_type": "markdown",
      "source": [
        "My own example 11 - Getting Real Pricing Data"
      ],
      "metadata": {
        "id": "gdxqbRHqRflF"
      }
    },
    {
      "cell_type": "code",
      "source": [
        "!pip install yfinance"
      ],
      "metadata": {
        "colab": {
          "base_uri": "https://localhost:8080/"
        },
        "id": "C1HnvYjXRpx-",
        "outputId": "9fe6d047-1052-42a0-9187-543784cae696"
      },
      "execution_count": null,
      "outputs": [
        {
          "output_type": "stream",
          "name": "stdout",
          "text": [
            "Looking in indexes: https://pypi.org/simple, https://us-python.pkg.dev/colab-wheels/public/simple/\n",
            "Requirement already satisfied: yfinance in /usr/local/lib/python3.7/dist-packages (0.1.74)\n",
            "Requirement already satisfied: requests>=2.26 in /usr/local/lib/python3.7/dist-packages (from yfinance) (2.28.1)\n",
            "Requirement already satisfied: multitasking>=0.0.7 in /usr/local/lib/python3.7/dist-packages (from yfinance) (0.0.11)\n",
            "Requirement already satisfied: pandas>=0.24.0 in /usr/local/lib/python3.7/dist-packages (from yfinance) (1.3.5)\n",
            "Requirement already satisfied: numpy>=1.15 in /usr/local/lib/python3.7/dist-packages (from yfinance) (1.21.6)\n",
            "Requirement already satisfied: lxml>=4.5.1 in /usr/local/lib/python3.7/dist-packages (from yfinance) (4.9.1)\n",
            "Requirement already satisfied: python-dateutil>=2.7.3 in /usr/local/lib/python3.7/dist-packages (from pandas>=0.24.0->yfinance) (2.8.2)\n",
            "Requirement already satisfied: pytz>=2017.3 in /usr/local/lib/python3.7/dist-packages (from pandas>=0.24.0->yfinance) (2022.2.1)\n",
            "Requirement already satisfied: six>=1.5 in /usr/local/lib/python3.7/dist-packages (from python-dateutil>=2.7.3->pandas>=0.24.0->yfinance) (1.15.0)\n",
            "Requirement already satisfied: charset-normalizer<3,>=2 in /usr/local/lib/python3.7/dist-packages (from requests>=2.26->yfinance) (2.1.0)\n",
            "Requirement already satisfied: idna<4,>=2.5 in /usr/local/lib/python3.7/dist-packages (from requests>=2.26->yfinance) (2.10)\n",
            "Requirement already satisfied: certifi>=2017.4.17 in /usr/local/lib/python3.7/dist-packages (from requests>=2.26->yfinance) (2022.6.15)\n",
            "Requirement already satisfied: urllib3<1.27,>=1.21.1 in /usr/local/lib/python3.7/dist-packages (from requests>=2.26->yfinance) (1.24.3)\n"
          ]
        }
      ]
    },
    {
      "cell_type": "code",
      "source": [
        "import yfinance as yf\n",
        "yf.download?"
      ],
      "metadata": {
        "id": "nzZlgWTGSlM-"
      },
      "execution_count": null,
      "outputs": []
    },
    {
      "cell_type": "code",
      "source": [
        "datos = yf.download(\"NOK\", start=\"2021-1-1\", end=\"2022-1-1\")\n",
        "datos"
      ],
      "metadata": {
        "colab": {
          "base_uri": "https://localhost:8080/",
          "height": 472
        },
        "id": "ta-4MRjTS3_M",
        "outputId": "6c518867-c5a2-445d-8452-2dae4593bb22"
      },
      "execution_count": null,
      "outputs": [
        {
          "output_type": "stream",
          "name": "stdout",
          "text": [
            "\r[*********************100%***********************]  1 of 1 completed\n"
          ]
        },
        {
          "output_type": "execute_result",
          "data": {
            "text/plain": [
              "            Open  High   Low  Close  Adj Close    Volume\n",
              "Date                                                    \n",
              "2021-01-04  3.99  3.99  3.85   3.89   3.873792  30281400\n",
              "2021-01-05  3.99  4.06  3.95   4.04   4.023167  38446200\n",
              "2021-01-06  4.01  4.09  4.01   4.04   4.023167  37467400\n",
              "2021-01-07  4.01  4.03  3.97   3.99   3.973375  25318000\n",
              "2021-01-08  3.94  3.96  3.90   3.93   3.913625  23978700\n",
              "...          ...   ...   ...    ...        ...       ...\n",
              "2021-12-27  6.28  6.35  6.24   6.34   6.313583  15681700\n",
              "2021-12-28  6.37  6.40  6.28   6.30   6.273750  12315300\n",
              "2021-12-29  6.28  6.31  6.26   6.29   6.263792   9834900\n",
              "2021-12-30  6.29  6.32  6.26   6.26   6.233917  12171400\n",
              "2021-12-31  6.25  6.27  6.16   6.22   6.194083  10957100\n",
              "\n",
              "[252 rows x 6 columns]"
            ],
            "text/html": [
              "\n",
              "  <div id=\"df-cefee2d0-3d28-4485-ad60-37eee837a974\">\n",
              "    <div class=\"colab-df-container\">\n",
              "      <div>\n",
              "<style scoped>\n",
              "    .dataframe tbody tr th:only-of-type {\n",
              "        vertical-align: middle;\n",
              "    }\n",
              "\n",
              "    .dataframe tbody tr th {\n",
              "        vertical-align: top;\n",
              "    }\n",
              "\n",
              "    .dataframe thead th {\n",
              "        text-align: right;\n",
              "    }\n",
              "</style>\n",
              "<table border=\"1\" class=\"dataframe\">\n",
              "  <thead>\n",
              "    <tr style=\"text-align: right;\">\n",
              "      <th></th>\n",
              "      <th>Open</th>\n",
              "      <th>High</th>\n",
              "      <th>Low</th>\n",
              "      <th>Close</th>\n",
              "      <th>Adj Close</th>\n",
              "      <th>Volume</th>\n",
              "    </tr>\n",
              "    <tr>\n",
              "      <th>Date</th>\n",
              "      <th></th>\n",
              "      <th></th>\n",
              "      <th></th>\n",
              "      <th></th>\n",
              "      <th></th>\n",
              "      <th></th>\n",
              "    </tr>\n",
              "  </thead>\n",
              "  <tbody>\n",
              "    <tr>\n",
              "      <th>2021-01-04</th>\n",
              "      <td>3.99</td>\n",
              "      <td>3.99</td>\n",
              "      <td>3.85</td>\n",
              "      <td>3.89</td>\n",
              "      <td>3.873792</td>\n",
              "      <td>30281400</td>\n",
              "    </tr>\n",
              "    <tr>\n",
              "      <th>2021-01-05</th>\n",
              "      <td>3.99</td>\n",
              "      <td>4.06</td>\n",
              "      <td>3.95</td>\n",
              "      <td>4.04</td>\n",
              "      <td>4.023167</td>\n",
              "      <td>38446200</td>\n",
              "    </tr>\n",
              "    <tr>\n",
              "      <th>2021-01-06</th>\n",
              "      <td>4.01</td>\n",
              "      <td>4.09</td>\n",
              "      <td>4.01</td>\n",
              "      <td>4.04</td>\n",
              "      <td>4.023167</td>\n",
              "      <td>37467400</td>\n",
              "    </tr>\n",
              "    <tr>\n",
              "      <th>2021-01-07</th>\n",
              "      <td>4.01</td>\n",
              "      <td>4.03</td>\n",
              "      <td>3.97</td>\n",
              "      <td>3.99</td>\n",
              "      <td>3.973375</td>\n",
              "      <td>25318000</td>\n",
              "    </tr>\n",
              "    <tr>\n",
              "      <th>2021-01-08</th>\n",
              "      <td>3.94</td>\n",
              "      <td>3.96</td>\n",
              "      <td>3.90</td>\n",
              "      <td>3.93</td>\n",
              "      <td>3.913625</td>\n",
              "      <td>23978700</td>\n",
              "    </tr>\n",
              "    <tr>\n",
              "      <th>...</th>\n",
              "      <td>...</td>\n",
              "      <td>...</td>\n",
              "      <td>...</td>\n",
              "      <td>...</td>\n",
              "      <td>...</td>\n",
              "      <td>...</td>\n",
              "    </tr>\n",
              "    <tr>\n",
              "      <th>2021-12-27</th>\n",
              "      <td>6.28</td>\n",
              "      <td>6.35</td>\n",
              "      <td>6.24</td>\n",
              "      <td>6.34</td>\n",
              "      <td>6.313583</td>\n",
              "      <td>15681700</td>\n",
              "    </tr>\n",
              "    <tr>\n",
              "      <th>2021-12-28</th>\n",
              "      <td>6.37</td>\n",
              "      <td>6.40</td>\n",
              "      <td>6.28</td>\n",
              "      <td>6.30</td>\n",
              "      <td>6.273750</td>\n",
              "      <td>12315300</td>\n",
              "    </tr>\n",
              "    <tr>\n",
              "      <th>2021-12-29</th>\n",
              "      <td>6.28</td>\n",
              "      <td>6.31</td>\n",
              "      <td>6.26</td>\n",
              "      <td>6.29</td>\n",
              "      <td>6.263792</td>\n",
              "      <td>9834900</td>\n",
              "    </tr>\n",
              "    <tr>\n",
              "      <th>2021-12-30</th>\n",
              "      <td>6.29</td>\n",
              "      <td>6.32</td>\n",
              "      <td>6.26</td>\n",
              "      <td>6.26</td>\n",
              "      <td>6.233917</td>\n",
              "      <td>12171400</td>\n",
              "    </tr>\n",
              "    <tr>\n",
              "      <th>2021-12-31</th>\n",
              "      <td>6.25</td>\n",
              "      <td>6.27</td>\n",
              "      <td>6.16</td>\n",
              "      <td>6.22</td>\n",
              "      <td>6.194083</td>\n",
              "      <td>10957100</td>\n",
              "    </tr>\n",
              "  </tbody>\n",
              "</table>\n",
              "<p>252 rows × 6 columns</p>\n",
              "</div>\n",
              "      <button class=\"colab-df-convert\" onclick=\"convertToInteractive('df-cefee2d0-3d28-4485-ad60-37eee837a974')\"\n",
              "              title=\"Convert this dataframe to an interactive table.\"\n",
              "              style=\"display:none;\">\n",
              "        \n",
              "  <svg xmlns=\"http://www.w3.org/2000/svg\" height=\"24px\"viewBox=\"0 0 24 24\"\n",
              "       width=\"24px\">\n",
              "    <path d=\"M0 0h24v24H0V0z\" fill=\"none\"/>\n",
              "    <path d=\"M18.56 5.44l.94 2.06.94-2.06 2.06-.94-2.06-.94-.94-2.06-.94 2.06-2.06.94zm-11 1L8.5 8.5l.94-2.06 2.06-.94-2.06-.94L8.5 2.5l-.94 2.06-2.06.94zm10 10l.94 2.06.94-2.06 2.06-.94-2.06-.94-.94-2.06-.94 2.06-2.06.94z\"/><path d=\"M17.41 7.96l-1.37-1.37c-.4-.4-.92-.59-1.43-.59-.52 0-1.04.2-1.43.59L10.3 9.45l-7.72 7.72c-.78.78-.78 2.05 0 2.83L4 21.41c.39.39.9.59 1.41.59.51 0 1.02-.2 1.41-.59l7.78-7.78 2.81-2.81c.8-.78.8-2.07 0-2.86zM5.41 20L4 18.59l7.72-7.72 1.47 1.35L5.41 20z\"/>\n",
              "  </svg>\n",
              "      </button>\n",
              "      \n",
              "  <style>\n",
              "    .colab-df-container {\n",
              "      display:flex;\n",
              "      flex-wrap:wrap;\n",
              "      gap: 12px;\n",
              "    }\n",
              "\n",
              "    .colab-df-convert {\n",
              "      background-color: #E8F0FE;\n",
              "      border: none;\n",
              "      border-radius: 50%;\n",
              "      cursor: pointer;\n",
              "      display: none;\n",
              "      fill: #1967D2;\n",
              "      height: 32px;\n",
              "      padding: 0 0 0 0;\n",
              "      width: 32px;\n",
              "    }\n",
              "\n",
              "    .colab-df-convert:hover {\n",
              "      background-color: #E2EBFA;\n",
              "      box-shadow: 0px 1px 2px rgba(60, 64, 67, 0.3), 0px 1px 3px 1px rgba(60, 64, 67, 0.15);\n",
              "      fill: #174EA6;\n",
              "    }\n",
              "\n",
              "    [theme=dark] .colab-df-convert {\n",
              "      background-color: #3B4455;\n",
              "      fill: #D2E3FC;\n",
              "    }\n",
              "\n",
              "    [theme=dark] .colab-df-convert:hover {\n",
              "      background-color: #434B5C;\n",
              "      box-shadow: 0px 1px 3px 1px rgba(0, 0, 0, 0.15);\n",
              "      filter: drop-shadow(0px 1px 2px rgba(0, 0, 0, 0.3));\n",
              "      fill: #FFFFFF;\n",
              "    }\n",
              "  </style>\n",
              "\n",
              "      <script>\n",
              "        const buttonEl =\n",
              "          document.querySelector('#df-cefee2d0-3d28-4485-ad60-37eee837a974 button.colab-df-convert');\n",
              "        buttonEl.style.display =\n",
              "          google.colab.kernel.accessAllowed ? 'block' : 'none';\n",
              "\n",
              "        async function convertToInteractive(key) {\n",
              "          const element = document.querySelector('#df-cefee2d0-3d28-4485-ad60-37eee837a974');\n",
              "          const dataTable =\n",
              "            await google.colab.kernel.invokeFunction('convertToInteractive',\n",
              "                                                     [key], {});\n",
              "          if (!dataTable) return;\n",
              "\n",
              "          const docLinkHtml = 'Like what you see? Visit the ' +\n",
              "            '<a target=\"_blank\" href=https://colab.research.google.com/notebooks/data_table.ipynb>data table notebook</a>'\n",
              "            + ' to learn more about interactive tables.';\n",
              "          element.innerHTML = '';\n",
              "          dataTable['output_type'] = 'display_data';\n",
              "          await google.colab.output.renderOutput(dataTable, element);\n",
              "          const docLink = document.createElement('div');\n",
              "          docLink.innerHTML = docLinkHtml;\n",
              "          element.appendChild(docLink);\n",
              "        }\n",
              "      </script>\n",
              "    </div>\n",
              "  </div>\n",
              "  "
            ]
          },
          "metadata": {},
          "execution_count": 29
        }
      ]
    },
    {
      "cell_type": "markdown",
      "source": [
        "My own example 12"
      ],
      "metadata": {
        "id": "1og4MzjrlHgn"
      }
    },
    {
      "cell_type": "code",
      "source": [
        "Precio=datos['Close']\n",
        "Precio"
      ],
      "metadata": {
        "colab": {
          "base_uri": "https://localhost:8080/"
        },
        "id": "2Bhxm4zJTnZb",
        "outputId": "925ef3ff-8d55-4c32-d256-02d2a1e69e33"
      },
      "execution_count": null,
      "outputs": [
        {
          "output_type": "execute_result",
          "data": {
            "text/plain": [
              "Date\n",
              "2021-01-04    3.89\n",
              "2021-01-05    4.04\n",
              "2021-01-06    4.04\n",
              "2021-01-07    3.99\n",
              "2021-01-08    3.93\n",
              "              ... \n",
              "2021-12-27    6.34\n",
              "2021-12-28    6.30\n",
              "2021-12-29    6.29\n",
              "2021-12-30    6.26\n",
              "2021-12-31    6.22\n",
              "Name: Close, Length: 252, dtype: float64"
            ]
          },
          "metadata": {},
          "execution_count": 10
        }
      ]
    },
    {
      "cell_type": "markdown",
      "source": [
        "My own example 13"
      ],
      "metadata": {
        "id": "zYe9fWetj-WH"
      }
    },
    {
      "cell_type": "code",
      "source": [
        "plt.plot(Precio.index, Precio.values)\n",
        "plt.ylabel('Precio')\n",
        "plt.legend(['NOK']);"
      ],
      "metadata": {
        "colab": {
          "base_uri": "https://localhost:8080/",
          "height": 265
        },
        "id": "95JbxwraUO5a",
        "outputId": "ab63177f-a39c-4ec2-a928-5ee160ca372c"
      },
      "execution_count": null,
      "outputs": [
        {
          "output_type": "display_data",
          "data": {
            "text/plain": [
              "<Figure size 432x288 with 1 Axes>"
            ],
            "image/png": "[encoded data removed]"
          },
          "metadata": {
            "needs_background": "light"
          }
        }
      ]
    },
    {
      "cell_type": "markdown",
      "source": [
        "My own example 14"
      ],
      "metadata": {
        "id": "65IgJm5Cj52g"
      }
    },
    {
      "cell_type": "code",
      "source": [
        "np.mean(Precio)"
      ],
      "metadata": {
        "colab": {
          "base_uri": "https://localhost:8080/"
        },
        "id": "YNeF5VJ6Up7q",
        "outputId": "00038702-d2a9-4b82-a8ab-5d664cbef4a8"
      },
      "execution_count": null,
      "outputs": [
        {
          "output_type": "execute_result",
          "data": {
            "text/plain": [
              "5.171587291217985"
            ]
          },
          "metadata": {},
          "execution_count": 25
        }
      ]
    },
    {
      "cell_type": "markdown",
      "source": [
        "My own example 15"
      ],
      "metadata": {
        "id": "JvquHCPulhZ3"
      }
    },
    {
      "cell_type": "code",
      "source": [
        "np.std(Precio)"
      ],
      "metadata": {
        "colab": {
          "base_uri": "https://localhost:8080/"
        },
        "id": "AtYRzfByV1X6",
        "outputId": "4f2520be-4eab-40af-88a2-1bd914e35b36"
      },
      "execution_count": null,
      "outputs": [
        {
          "output_type": "execute_result",
          "data": {
            "text/plain": [
              "0.7823265155645822"
            ]
          },
          "metadata": {},
          "execution_count": 26
        }
      ]
    },
    {
      "cell_type": "markdown",
      "source": [
        "My own example 16 - Getting Returns from Prices"
      ],
      "metadata": {
        "id": "79rNfJ_zWBcC"
      }
    },
    {
      "cell_type": "code",
      "source": [
        "R=Precio.pct_change()"
      ],
      "metadata": {
        "id": "wRg0IZb7WJy7"
      },
      "execution_count": null,
      "outputs": []
    },
    {
      "cell_type": "markdown",
      "source": [
        "My own example 17"
      ],
      "metadata": {
        "id": "Qmx0oasflNNn"
      }
    },
    {
      "cell_type": "code",
      "source": [
        "plt.hist(R, bins=40)\n",
        "plt.xlabel('Return')\n",
        "plt.ylabel('Frequency')\n",
        "plt.legend(['NOK Returns']);"
      ],
      "metadata": {
        "id": "MR0yEW-CdtAm",
        "colab": {
          "base_uri": "https://localhost:8080/",
          "height": 279
        },
        "outputId": "b4798fce-f9e5-4171-d52b-b88ea8d15dd1"
      },
      "execution_count": null,
      "outputs": [
        {
          "output_type": "display_data",
          "data": {
            "text/plain": [
              "<Figure size 432x288 with 1 Axes>"
            ],
            "image/png": "[encoded data removed]"
          },
          "metadata": {
            "needs_background": "light"
          }
        }
      ]
    },
    {
      "cell_type": "markdown",
      "source": [
        "My own example 18"
      ],
      "metadata": {
        "id": "sWzfNIwijtQG"
      }
    },
    {
      "cell_type": "code",
      "source": [
        "np.mean(R)"
      ],
      "metadata": {
        "colab": {
          "base_uri": "https://localhost:8080/"
        },
        "id": "lqBmkg3Yg0KF",
        "outputId": "aa5b80e5-7216-486a-d288-8cdc6cef72e9"
      },
      "execution_count": null,
      "outputs": [
        {
          "output_type": "execute_result",
          "data": {
            "text/plain": [
              "0.0025883991248311362"
            ]
          },
          "metadata": {},
          "execution_count": 38
        }
      ]
    },
    {
      "cell_type": "code",
      "source": [
        "np.std(R)"
      ],
      "metadata": {
        "colab": {
          "base_uri": "https://localhost:8080/"
        },
        "id": "HIxnZKhZharv",
        "outputId": "24cd26a3-1c05-4375-a057-ec037aa35cfb"
      },
      "execution_count": null,
      "outputs": [
        {
          "output_type": "execute_result",
          "data": {
            "text/plain": [
              "0.038520919337810995"
            ]
          },
          "metadata": {},
          "execution_count": 39
        }
      ]
    },
    {
      "cell_type": "markdown",
      "source": [
        "My own example 19"
      ],
      "metadata": {
        "id": "cj4BAynCjzCG"
      }
    },
    {
      "cell_type": "code",
      "source": [
        "plt.hist(np.random.normal(np.mean(R), np.std(R), 10000), bins=40)\n",
        "plt.xlabel('Return')\n",
        "plt.ylabel('Frequency')\n",
        "plt.legend(['Normally Distributed Returns']);"
      ],
      "metadata": {
        "colab": {
          "base_uri": "https://localhost:8080/",
          "height": 279
        },
        "id": "C4MEEuoyhfte",
        "outputId": "0e696ae1-561a-4e97-dfc4-5baf5d6a6423"
      },
      "execution_count": null,
      "outputs": [
        {
          "output_type": "display_data",
          "data": {
            "text/plain": [
              "<Figure size 432x288 with 1 Axes>"
            ],
            "image/png": "[encoded data removed]"
          },
          "metadata": {
            "needs_background": "light"
          }
        }
      ]
    },
    {
      "cell_type": "markdown",
      "source": [
        "My own example 20 - Generating a Moving Average"
      ],
      "metadata": {
        "id": "pcrQnANDiILA"
      }
    },
    {
      "cell_type": "code",
      "source": [
        "MAVG = Precio.rolling(4).mean()\n",
        "plt.plot(Precio.index, Precio.values)\n",
        "plt.plot(MAVG.index, MAVG.values)\n",
        "plt.ylabel('Price')\n",
        "plt.legend(['NOK', '60-day MAVG']);"
      ],
      "metadata": {
        "colab": {
          "base_uri": "https://localhost:8080/",
          "height": 265
        },
        "id": "xLAYgmHdiTg5",
        "outputId": "d55d2805-6777-4d1d-9dc0-5603037a2ee9"
      },
      "execution_count": null,
      "outputs": [
        {
          "output_type": "display_data",
          "data": {
            "text/plain": [
              "<Figure size 432x288 with 1 Axes>"
            ],
            "image/png": "[encoded data removed]"
          },
          "metadata": {
            "needs_background": "light"
          }
        }
      ]
    },
    {
      "cell_type": "markdown",
      "source": [
        "INTRODUCTION TO PYTHON"
      ],
      "metadata": {
        "id": "wOkimB65prdB"
      }
    },
    {
      "cell_type": "markdown",
      "source": [
        "My own example 21 - Code Comments"
      ],
      "metadata": {
        "id": "UF6fIa92p38s"
      }
    },
    {
      "cell_type": "code",
      "source": [
        "# Alo policía, hay un wapo en mi ksa"
      ],
      "metadata": {
        "id": "lM_ineAAqDOP"
      },
      "execution_count": null,
      "outputs": []
    },
    {
      "cell_type": "markdown",
      "source": [
        "My own example 22 "
      ],
      "metadata": {
        "id": "lSm5-pX3qVKn"
      }
    },
    {
      "cell_type": "code",
      "source": [
        "\"\"\"ah, no se preocupe, soy yo!\"\"\""
      ],
      "metadata": {
        "colab": {
          "base_uri": "https://localhost:8080/",
          "height": 35
        },
        "id": "XRV_96YPqYA_",
        "outputId": "7b61ec18-c2aa-4c4a-aae3-71c2987cd923"
      },
      "execution_count": null,
      "outputs": [
        {
          "output_type": "execute_result",
          "data": {
            "text/plain": [
              "'ah, no se preocupe, soy yo!'"
            ],
            "application/vnd.google.colaboratory.intrinsic+json": {
              "type": "string"
            }
          },
          "metadata": {},
          "execution_count": 50
        }
      ]
    },
    {
      "cell_type": "markdown",
      "source": [
        "My own example 23 - Variables"
      ],
      "metadata": {
        "id": "MT6Mxx1UXe56"
      }
    },
    {
      "cell_type": "code",
      "source": [
        "n=500\n",
        "print(n, type(n))"
      ],
      "metadata": {
        "colab": {
          "base_uri": "https://localhost:8080/"
        },
        "id": "_1aMFJeVXkzg",
        "outputId": "e25a26f0-1d62-48ee-bcec-373b13082517"
      },
      "execution_count": null,
      "outputs": [
        {
          "output_type": "stream",
          "name": "stdout",
          "text": [
            "500 <class 'int'>\n"
          ]
        }
      ]
    },
    {
      "cell_type": "code",
      "source": [
        "o=3.0\n",
        "print(o, type(o))"
      ],
      "metadata": {
        "colab": {
          "base_uri": "https://localhost:8080/"
        },
        "id": "kOZWBeyFYP2E",
        "outputId": "0ba2c782-f6fc-4432-b920-e8deafab8861"
      },
      "execution_count": null,
      "outputs": [
        {
          "output_type": "stream",
          "name": "stdout",
          "text": [
            "3.0 <class 'float'>\n"
          ]
        }
      ]
    },
    {
      "cell_type": "code",
      "source": [
        "\n",
        "o=float(3)\n",
        "print(o,type(o))"
      ],
      "metadata": {
        "colab": {
          "base_uri": "https://localhost:8080/"
        },
        "id": "sbbig6V1YfLS",
        "outputId": "10884564-b2ca-4ee0-f7ea-b7046a8f869b"
      },
      "execution_count": null,
      "outputs": [
        {
          "output_type": "stream",
          "name": "stdout",
          "text": [
            "3.0 <class 'float'>\n"
          ]
        }
      ]
    },
    {
      "cell_type": "markdown",
      "source": [
        "My own example 24"
      ],
      "metadata": {
        "id": "mJV2BJdvZvxQ"
      }
    },
    {
      "cell_type": "code",
      "source": [
        "p=int(4.869)\n",
        "print(p, type(p))"
      ],
      "metadata": {
        "colab": {
          "base_uri": "https://localhost:8080/"
        },
        "id": "b9-VS2_nYzir",
        "outputId": "6aec3dca-d3b6-4d06-f60b-2cf15cb80a63"
      },
      "execution_count": null,
      "outputs": [
        {
          "output_type": "stream",
          "name": "stdout",
          "text": [
            "4 <class 'int'>\n"
          ]
        }
      ]
    },
    {
      "cell_type": "markdown",
      "source": [
        "My own example 25"
      ],
      "metadata": {
        "id": "bl1JR2cFZkXm"
      }
    },
    {
      "cell_type": "code",
      "source": [
        "text='qué tal?'\n",
        "print(text)\n",
        "text=\"qué tal?\"\n",
        "print(text)"
      ],
      "metadata": {
        "colab": {
          "base_uri": "https://localhost:8080/"
        },
        "id": "diX-WD41Z9hl",
        "outputId": "a19d5550-017d-465b-91d3-0c3b0e5a86e2"
      },
      "execution_count": null,
      "outputs": [
        {
          "output_type": "stream",
          "name": "stdout",
          "text": [
            "qué tal?\n",
            "qué tal?\n"
          ]
        }
      ]
    },
    {
      "cell_type": "markdown",
      "source": [
        "My own example 26"
      ],
      "metadata": {
        "id": "OaBfrKFBcAef"
      }
    },
    {
      "cell_type": "code",
      "source": [
        "texto='\"Está más cerca Talpa que Zenzontla\".'\n",
        "print(texto)\n",
        "texto=\"Entonces 'el chihuila' se levantó.\"\n",
        "print(texto)"
      ],
      "metadata": {
        "colab": {
          "base_uri": "https://localhost:8080/"
        },
        "id": "RDmO584FaSE1",
        "outputId": "d8ef5dc6-d48f-4282-acba-c68957a14410"
      },
      "execution_count": null,
      "outputs": [
        {
          "output_type": "stream",
          "name": "stdout",
          "text": [
            "\"Está más cerca Talpa que Zenzontla\".\n",
            "Entonces 'el chihuila' se levantó.\n"
          ]
        }
      ]
    },
    {
      "cell_type": "markdown",
      "source": [
        "My own example 27"
      ],
      "metadata": {
        "id": "7eeiNS7Qcn_J"
      }
    },
    {
      "cell_type": "code",
      "source": [
        "bin= False\n",
        "print(bin, type(bin))"
      ],
      "metadata": {
        "colab": {
          "base_uri": "https://localhost:8080/"
        },
        "id": "B4wZi-8Kb_QH",
        "outputId": "d6208884-4828-495b-d755-1c11936883b2"
      },
      "execution_count": null,
      "outputs": [
        {
          "output_type": "stream",
          "name": "stdout",
          "text": [
            "False <class 'bool'>\n"
          ]
        }
      ]
    },
    {
      "cell_type": "markdown",
      "source": [
        "My own example 38"
      ],
      "metadata": {
        "id": "8yG_HaIGdTrK"
      }
    },
    {
      "cell_type": "code",
      "source": [
        "print('suma: ', 3.6 + 7.01)\n",
        "print('resta: ', 4 - 6)\n",
        "print('multiplicacion: ', 3 * 9)\n",
        "print('division: ', 104 / 5)\n",
        "print('Exponenciacion: ', 7**10)"
      ],
      "metadata": {
        "colab": {
          "base_uri": "https://localhost:8080/"
        },
        "id": "IQFd6WORchu0",
        "outputId": "c6018300-46c7-4fc9-a41f-07069cccac87"
      },
      "execution_count": null,
      "outputs": [
        {
          "output_type": "stream",
          "name": "stdout",
          "text": [
            "suma:  10.61\n",
            "resta:  -2\n",
            "multiplicacion:  27\n",
            "division:  20.8\n",
            "Exponenciacion:  282475249\n"
          ]
        }
      ]
    },
    {
      "cell_type": "markdown",
      "source": [
        "My own example 29"
      ],
      "metadata": {
        "id": "i1V3S39SdoQp"
      }
    },
    {
      "cell_type": "code",
      "source": [
        "print('Residuo: ', 43 % 5)"
      ],
      "metadata": {
        "colab": {
          "base_uri": "https://localhost:8080/"
        },
        "id": "Cg5Cvo96dSG2",
        "outputId": "a8b93feb-3708-4bc6-931f-9d073a0cb43e"
      },
      "execution_count": null,
      "outputs": [
        {
          "output_type": "stream",
          "name": "stdout",
          "text": [
            "Residuo:  3\n"
          ]
        }
      ]
    },
    {
      "cell_type": "markdown",
      "source": [
        "My own example 30"
      ],
      "metadata": {
        "id": "HM5jHVh9e9gm"
      }
    },
    {
      "cell_type": "code",
      "source": [
        "prim = 4\n",
        "seg = 5\n",
        "print(prim/(prim + seg))"
      ],
      "metadata": {
        "colab": {
          "base_uri": "https://localhost:8080/"
        },
        "id": "oMXDO4wEeceX",
        "outputId": "564521fa-6d75-487a-eff4-2303fbe1fc74"
      },
      "execution_count": null,
      "outputs": [
        {
          "output_type": "stream",
          "name": "stdout",
          "text": [
            "0.4444444444444444\n"
          ]
        }
      ]
    },
    {
      "cell_type": "markdown",
      "source": [
        "My own example 31"
      ],
      "metadata": {
        "id": "p6m-qhcEgN-4"
      }
    },
    {
      "cell_type": "code",
      "source": [
        "a = 4\n",
        "b = 5\n",
        "print(a*(b+1))"
      ],
      "metadata": {
        "colab": {
          "base_uri": "https://localhost:8080/"
        },
        "id": "DMBGhMPye6hD",
        "outputId": "298c1934-52f4-4358-d175-5d539bdee718"
      },
      "execution_count": null,
      "outputs": [
        {
          "output_type": "stream",
          "name": "stdout",
          "text": [
            "24\n"
          ]
        }
      ]
    },
    {
      "cell_type": "code",
      "source": [
        "a = 4.0\n",
        "b = 5.0\n",
        "print(a*(b+1.0))"
      ],
      "metadata": {
        "colab": {
          "base_uri": "https://localhost:8080/"
        },
        "id": "hgsW1njNgGtB",
        "outputId": "4a3f2fd7-b5b8-4e76-f691-9ebc8cce9e4e"
      },
      "execution_count": null,
      "outputs": [
        {
          "output_type": "stream",
          "name": "stdout",
          "text": [
            "24.0\n"
          ]
        }
      ]
    },
    {
      "cell_type": "markdown",
      "source": [
        "My own example 32"
      ],
      "metadata": {
        "id": "lxdRpd9Bgrs4"
      }
    },
    {
      "cell_type": "code",
      "source": [
        "import math\n",
        "math.sqrt(16)"
      ],
      "metadata": {
        "colab": {
          "base_uri": "https://localhost:8080/"
        },
        "id": "rI3oPHjAgMaO",
        "outputId": "0f9cf6cc-4edc-44b4-c9c3-f02c50f10b34"
      },
      "execution_count": null,
      "outputs": [
        {
          "output_type": "execute_result",
          "data": {
            "text/plain": [
              "4.0"
            ]
          },
          "metadata": {},
          "execution_count": 22
        }
      ]
    },
    {
      "cell_type": "code",
      "source": [
        "seno=math.sin(90)\n",
        "print(seno)"
      ],
      "metadata": {
        "colab": {
          "base_uri": "https://localhost:8080/"
        },
        "id": "86XOgHvChEQd",
        "outputId": "fe2dd3a5-dd31-4e47-c9c0-a11c04c02261"
      },
      "execution_count": null,
      "outputs": [
        {
          "output_type": "stream",
          "name": "stdout",
          "text": [
            "0.8939966636005579\n"
          ]
        }
      ]
    },
    {
      "cell_type": "markdown",
      "source": [
        "My own example 33"
      ],
      "metadata": {
        "id": "-WmTbC5EhAVr"
      }
    },
    {
      "cell_type": "code",
      "source": [
        "lista=[5,8,9]\n",
        "print(lista)"
      ],
      "metadata": {
        "colab": {
          "base_uri": "https://localhost:8080/"
        },
        "id": "Or5pYHBzgqOS",
        "outputId": "f0b03abf-a00a-470f-c9b2-c00b98fe7ba1"
      },
      "execution_count": null,
      "outputs": [
        {
          "output_type": "stream",
          "name": "stdout",
          "text": [
            "[5, 8, 9]\n"
          ]
        }
      ]
    },
    {
      "cell_type": "code",
      "source": [
        "print(lista[0])\n",
        "print(lista[2])"
      ],
      "metadata": {
        "colab": {
          "base_uri": "https://localhost:8080/"
        },
        "id": "fiYComXRg8nd",
        "outputId": "529699cb-9660-450d-9938-0993866af29c"
      },
      "execution_count": null,
      "outputs": [
        {
          "output_type": "stream",
          "name": "stdout",
          "text": [
            "5\n",
            "9\n"
          ]
        }
      ]
    },
    {
      "cell_type": "markdown",
      "source": [
        "My own example 34"
      ],
      "metadata": {
        "id": "573IdJwFiqek"
      }
    },
    {
      "cell_type": "code",
      "source": [
        "print(len(lista))"
      ],
      "metadata": {
        "colab": {
          "base_uri": "https://localhost:8080/"
        },
        "id": "EMzfl30ohqx5",
        "outputId": "f23635b2-790a-43d8-e76e-bf7bfb8063c0"
      },
      "execution_count": null,
      "outputs": [
        {
          "output_type": "stream",
          "name": "stdout",
          "text": [
            "3\n"
          ]
        }
      ]
    },
    {
      "cell_type": "code",
      "source": [
        "print(lista)\n",
        "lista[1]=60\n",
        "print(lista)"
      ],
      "metadata": {
        "colab": {
          "base_uri": "https://localhost:8080/"
        },
        "id": "LONwHUcmh3iP",
        "outputId": "3cb53291-006b-4a7f-9fb1-edba6498a46e"
      },
      "execution_count": null,
      "outputs": [
        {
          "output_type": "stream",
          "name": "stdout",
          "text": [
            "[5, 8, 9]\n",
            "[5, 60, 9]\n"
          ]
        }
      ]
    },
    {
      "cell_type": "markdown",
      "source": [
        "My own example 35"
      ],
      "metadata": {
        "id": "nyVnDidpjitv"
      }
    },
    {
      "cell_type": "code",
      "source": [
        "lista1= [2,'kk']\n",
        "lista2=[3,'ww',8.6]\n",
        "listota=lista1 + lista2\n",
        "print(listota)"
      ],
      "metadata": {
        "colab": {
          "base_uri": "https://localhost:8080/"
        },
        "id": "PiXG0v5Ai5ZG",
        "outputId": "1a4eb471-3d4c-493f-90fc-4013b7856517"
      },
      "execution_count": null,
      "outputs": [
        {
          "output_type": "stream",
          "name": "stdout",
          "text": [
            "[2, 'kk', 3, 'ww', 8.6]\n"
          ]
        }
      ]
    },
    {
      "cell_type": "code",
      "source": [
        "print(listota[1:4])"
      ],
      "metadata": {
        "colab": {
          "base_uri": "https://localhost:8080/"
        },
        "id": "6nGOLhdcjdqU",
        "outputId": "7ca03b0b-6188-461c-94b2-207250dbcdf5"
      },
      "execution_count": null,
      "outputs": [
        {
          "output_type": "stream",
          "name": "stdout",
          "text": [
            "['kk', 3, 'ww']\n"
          ]
        }
      ]
    },
    {
      "cell_type": "markdown",
      "source": [
        "My own example 36"
      ],
      "metadata": {
        "id": "0o4NY-Djlhc_"
      }
    },
    {
      "cell_type": "code",
      "source": [
        "print(listota[:3])"
      ],
      "metadata": {
        "colab": {
          "base_uri": "https://localhost:8080/"
        },
        "id": "PWYpWphjj9_Z",
        "outputId": "68125a72-a3c9-42a4-e799-c24ed33fea8e"
      },
      "execution_count": null,
      "outputs": [
        {
          "output_type": "stream",
          "name": "stdout",
          "text": [
            "[2, 'kk', 3]\n"
          ]
        }
      ]
    },
    {
      "cell_type": "code",
      "source": [
        "print(listota[::3])"
      ],
      "metadata": {
        "colab": {
          "base_uri": "https://localhost:8080/"
        },
        "id": "D7EDwZO3khSi",
        "outputId": "c260848f-3ad0-4232-d541-89ea2342fdd6"
      },
      "execution_count": null,
      "outputs": [
        {
          "output_type": "stream",
          "name": "stdout",
          "text": [
            "[2, 'ww']\n"
          ]
        }
      ]
    },
    {
      "cell_type": "code",
      "source": [
        "print(listota[::-1])"
      ],
      "metadata": {
        "colab": {
          "base_uri": "https://localhost:8080/"
        },
        "id": "K03Ir3rRk0b6",
        "outputId": "a6eb57d8-32c5-4208-e3ab-87e51de2616d"
      },
      "execution_count": null,
      "outputs": [
        {
          "output_type": "stream",
          "name": "stdout",
          "text": [
            "[8.6, 'ww', 3, 'kk', 2]\n"
          ]
        }
      ]
    },
    {
      "cell_type": "markdown",
      "source": [
        "My own example 37"
      ],
      "metadata": {
        "id": "3_IJxvMwvYcS"
      }
    },
    {
      "cell_type": "code",
      "source": [
        "x = range(6)\n",
        "\n",
        "for n in x:\n",
        "  print(n)"
      ],
      "metadata": {
        "colab": {
          "base_uri": "https://localhost:8080/"
        },
        "id": "p_awMAnXlfgw",
        "outputId": "583c37e8-6663-48f9-dfa8-f9b9cbda3736"
      },
      "execution_count": null,
      "outputs": [
        {
          "output_type": "stream",
          "name": "stdout",
          "text": [
            "0\n",
            "1\n",
            "2\n",
            "3\n",
            "4\n",
            "5\n"
          ]
        }
      ]
    },
    {
      "cell_type": "code",
      "source": [
        "tupla = ('a', 'e', 'i', 'o','u')\n",
        "print(tupla)"
      ],
      "metadata": {
        "colab": {
          "base_uri": "https://localhost:8080/"
        },
        "id": "q4mAjQp4rCcY",
        "outputId": "5d7c6e4f-27fc-42eb-9d8b-71b370a68340"
      },
      "execution_count": null,
      "outputs": [
        {
          "output_type": "stream",
          "name": "stdout",
          "text": [
            "('a', 'e', 'i', 'o', 'u')\n"
          ]
        }
      ]
    },
    {
      "cell_type": "markdown",
      "source": [
        "My own example 38 "
      ],
      "metadata": {
        "id": "Lr5heavny4pW"
      }
    },
    {
      "cell_type": "code",
      "source": [
        "print(tupla[0:2])"
      ],
      "metadata": {
        "colab": {
          "base_uri": "https://localhost:8080/"
        },
        "id": "jf7LiErBxMWa",
        "outputId": "2f0a21e9-7d93-4bb1-d21e-c931ed28f3b6"
      },
      "execution_count": null,
      "outputs": [
        {
          "output_type": "stream",
          "name": "stdout",
          "text": [
            "('a', 'e')\n"
          ]
        }
      ]
    },
    {
      "cell_type": "code",
      "source": [
        "str_1, str_2, str_3, str_4, str_5=tupla\n",
        "print(str_2, str_1)"
      ],
      "metadata": {
        "colab": {
          "base_uri": "https://localhost:8080/"
        },
        "id": "tmWPT2agxVnx",
        "outputId": "d956fd20-aef1-4adb-87bd-1b4292084f89"
      },
      "execution_count": null,
      "outputs": [
        {
          "output_type": "stream",
          "name": "stdout",
          "text": [
            "e a\n"
          ]
        }
      ]
    },
    {
      "cell_type": "markdown",
      "source": [
        "My own example 39"
      ],
      "metadata": {
        "id": "FSz76cHwVNXz"
      }
    },
    {
      "cell_type": "code",
      "source": [
        "diccionario = {\"Trancones\": \"Teatros para autos sopranos\", \n",
        "           \"Tiempo\":\"Enfermedad sin cura cada que te espero\"}\n",
        "print(diccionario[\"Tiempo\"])"
      ],
      "metadata": {
        "id": "Y-4pSUIdx_TV",
        "colab": {
          "base_uri": "https://localhost:8080/"
        },
        "outputId": "e3f56246-f803-452a-8679-6b0615f18b7a"
      },
      "execution_count": null,
      "outputs": [
        {
          "output_type": "stream",
          "name": "stdout",
          "text": [
            "Enfermedad sin cura cada que te espero\n"
          ]
        }
      ]
    },
    {
      "cell_type": "markdown",
      "source": [
        "My own example 40"
      ],
      "metadata": {
        "id": "c-abSCYYhdxW"
      }
    },
    {
      "cell_type": "code",
      "source": [
        "x = -4\n",
        "if x < 0:\n",
        "    print('x es menor que 0')\n",
        "else:\n",
        "    if x > 0:\n",
        "        print('x es mayor que 0')\n",
        "    else:\n",
        "        print('x es 0')"
      ],
      "metadata": {
        "id": "UA7SXWKGaQXN",
        "colab": {
          "base_uri": "https://localhost:8080/"
        },
        "outputId": "58b362fa-ef42-437d-83f5-c32faba073fb"
      },
      "execution_count": null,
      "outputs": [
        {
          "output_type": "stream",
          "name": "stdout",
          "text": [
            "x es menor que 0\n"
          ]
        }
      ]
    },
    {
      "cell_type": "markdown",
      "source": [
        "INTRODUCTION TO PANDAS"
      ],
      "metadata": {
        "id": "PesX6UL7iBwm"
      }
    },
    {
      "cell_type": "markdown",
      "source": [
        "My own example 41"
      ],
      "metadata": {
        "id": "sBS2JZ6WjhBm"
      }
    },
    {
      "cell_type": "code",
      "source": [
        "import pandas as pd\n",
        "s = pd.Series(['A','B','C','D'])\n",
        "print(s)"
      ],
      "metadata": {
        "colab": {
          "base_uri": "https://localhost:8080/"
        },
        "id": "Bm6vuFsoiJV7",
        "outputId": "2bc43fae-4180-439a-daae-7a1fdc17d483"
      },
      "execution_count": null,
      "outputs": [
        {
          "output_type": "stream",
          "name": "stdout",
          "text": [
            "0    A\n",
            "1    B\n",
            "2    C\n",
            "3    D\n",
            "dtype: object\n"
          ]
        }
      ]
    },
    {
      "cell_type": "code",
      "source": [
        "s.name = \"Letras\"\n",
        "print(s.name)"
      ],
      "metadata": {
        "colab": {
          "base_uri": "https://localhost:8080/"
        },
        "id": "dyyE6MmzjFd8",
        "outputId": "519de2bd-497c-4c55-b558-87d25255d99c"
      },
      "execution_count": null,
      "outputs": [
        {
          "output_type": "stream",
          "name": "stdout",
          "text": [
            "Letras\n"
          ]
        }
      ]
    },
    {
      "cell_type": "markdown",
      "source": [
        "My own example 42"
      ],
      "metadata": {
        "id": "s8JRGmmJk2Mg"
      }
    },
    {
      "cell_type": "code",
      "source": [
        "s.iloc[:3]"
      ],
      "metadata": {
        "colab": {
          "base_uri": "https://localhost:8080/"
        },
        "id": "XaoA5Vm3jtJe",
        "outputId": "5288c216-9dc6-4638-e70d-c66b92562a3d"
      },
      "execution_count": null,
      "outputs": [
        {
          "output_type": "execute_result",
          "data": {
            "text/plain": [
              "0    A\n",
              "1    B\n",
              "2    C\n",
              "Name: Letras, dtype: object"
            ]
          },
          "metadata": {},
          "execution_count": 17
        }
      ]
    },
    {
      "cell_type": "code",
      "source": [
        "s.iloc[1:4:1]"
      ],
      "metadata": {
        "colab": {
          "base_uri": "https://localhost:8080/"
        },
        "id": "kdxDvYQckg1e",
        "outputId": "8fc53eeb-e5a4-4533-c9f9-7f48248416b4"
      },
      "execution_count": null,
      "outputs": [
        {
          "output_type": "execute_result",
          "data": {
            "text/plain": [
              "1    B\n",
              "2    C\n",
              "3    D\n",
              "Name: Letras, dtype: object"
            ]
          },
          "metadata": {},
          "execution_count": 18
        }
      ]
    },
    {
      "cell_type": "markdown",
      "source": [
        "My own example 43"
      ],
      "metadata": {
        "id": "108iBsiPpGG1"
      }
    },
    {
      "cell_type": "code",
      "source": [
        "ser=pd.Series([5,7,1,6,0])\n",
        "print (ser<2)"
      ],
      "metadata": {
        "colab": {
          "base_uri": "https://localhost:8080/"
        },
        "id": "goHXI_Nckwtl",
        "outputId": "e031cb24-cfa3-422c-8173-85f8ed3fd47c"
      },
      "execution_count": null,
      "outputs": [
        {
          "output_type": "stream",
          "name": "stdout",
          "text": [
            "0    False\n",
            "1    False\n",
            "2     True\n",
            "3    False\n",
            "4     True\n",
            "dtype: bool\n"
          ]
        }
      ]
    },
    {
      "cell_type": "markdown",
      "source": [
        "My own example 44"
      ],
      "metadata": {
        "id": "jklPCjTlpnkh"
      }
    },
    {
      "cell_type": "code",
      "source": [
        "print (ser.loc[(ser>2)&(ser<7)])"
      ],
      "metadata": {
        "id": "qft7PXYKlSQl",
        "colab": {
          "base_uri": "https://localhost:8080/"
        },
        "outputId": "0e1bce86-8c95-4fe7-e332-440bc1ea3ce7"
      },
      "execution_count": null,
      "outputs": [
        {
          "output_type": "stream",
          "name": "stdout",
          "text": [
            "0    5\n",
            "3    6\n",
            "dtype: int64\n"
          ]
        }
      ]
    },
    {
      "cell_type": "markdown",
      "source": [
        "My own example 45"
      ],
      "metadata": {
        "id": "KUuxqW7osqL7"
      }
    },
    {
      "cell_type": "code",
      "source": [
        "!pip install yfinance\n",
        "import yfinance as yf\n",
        "compan = yf.Ticker(\"NOK\")\n",
        "prices = compan.history(start=\"2019-01-01\",  end=\"2020-01-01\")\n",
        "prices"
      ],
      "metadata": {
        "colab": {
          "base_uri": "https://localhost:8080/",
          "height": 854
        },
        "id": "2hX3oaCro37W",
        "outputId": "00216b29-a556-42f1-f112-df04afb55bb4"
      },
      "execution_count": null,
      "outputs": [
        {
          "output_type": "stream",
          "name": "stdout",
          "text": [
            "Looking in indexes: https://pypi.org/simple, https://us-python.pkg.dev/colab-wheels/public/simple/\n",
            "Collecting yfinance\n",
            "  Downloading yfinance-0.1.74-py2.py3-none-any.whl (27 kB)\n",
            "Requirement already satisfied: lxml>=4.5.1 in /usr/local/lib/python3.7/dist-packages (from yfinance) (4.9.1)\n",
            "Requirement already satisfied: pandas>=0.24.0 in /usr/local/lib/python3.7/dist-packages (from yfinance) (1.3.5)\n",
            "Collecting requests>=2.26\n",
            "  Downloading requests-2.28.1-py3-none-any.whl (62 kB)\n",
            "\u001b[K     |████████████████████████████████| 62 kB 1.6 MB/s \n",
            "\u001b[?25hRequirement already satisfied: numpy>=1.15 in /usr/local/lib/python3.7/dist-packages (from yfinance) (1.21.6)\n",
            "Requirement already satisfied: multitasking>=0.0.7 in /usr/local/lib/python3.7/dist-packages (from yfinance) (0.0.11)\n",
            "Requirement already satisfied: python-dateutil>=2.7.3 in /usr/local/lib/python3.7/dist-packages (from pandas>=0.24.0->yfinance) (2.8.2)\n",
            "Requirement already satisfied: pytz>=2017.3 in /usr/local/lib/python3.7/dist-packages (from pandas>=0.24.0->yfinance) (2022.2.1)\n",
            "Requirement already satisfied: six>=1.5 in /usr/local/lib/python3.7/dist-packages (from python-dateutil>=2.7.3->pandas>=0.24.0->yfinance) (1.15.0)\n",
            "Requirement already satisfied: idna<4,>=2.5 in /usr/local/lib/python3.7/dist-packages (from requests>=2.26->yfinance) (2.10)\n",
            "Requirement already satisfied: charset-normalizer<3,>=2 in /usr/local/lib/python3.7/dist-packages (from requests>=2.26->yfinance) (2.1.0)\n",
            "Requirement already satisfied: urllib3<1.27,>=1.21.1 in /usr/local/lib/python3.7/dist-packages (from requests>=2.26->yfinance) (1.24.3)\n",
            "Requirement already satisfied: certifi>=2017.4.17 in /usr/local/lib/python3.7/dist-packages (from requests>=2.26->yfinance) (2022.6.15)\n",
            "Installing collected packages: requests, yfinance\n",
            "  Attempting uninstall: requests\n",
            "    Found existing installation: requests 2.23.0\n",
            "    Uninstalling requests-2.23.0:\n",
            "      Successfully uninstalled requests-2.23.0\n",
            "Successfully installed requests-2.28.1 yfinance-0.1.74\n"
          ]
        },
        {
          "output_type": "execute_result",
          "data": {
            "text/plain": [
              "                Open      High       Low     Close    Volume  Dividends  \\\n",
              "Date                                                                      \n",
              "2019-01-02  5.558961  5.627229  5.549209  5.597971  24338600        0.0   \n",
              "2019-01-03  5.500446  5.510199  5.422426  5.432178  17354500        0.0   \n",
              "2019-01-04  5.588219  5.812528  5.588219  5.783270  34666300        0.0   \n",
              "2019-01-07  5.802775  5.939311  5.783270  5.871043  25502600        0.0   \n",
              "2019-01-08  5.919807  6.007579  5.880796  5.997827  33497100        0.0   \n",
              "...              ...       ...       ...       ...       ...        ...   \n",
              "2019-12-24  3.604917  3.624833  3.594958  3.614875   6768300        0.0   \n",
              "2019-12-26  3.614875  3.624833  3.604917  3.604917   9053900        0.0   \n",
              "2019-12-27  3.594958  3.614875  3.594958  3.614875   9342100        0.0   \n",
              "2019-12-30  3.634792  3.704500  3.614875  3.674625  27043500        0.0   \n",
              "2019-12-31  3.684583  3.714458  3.674625  3.694542  14346300        0.0   \n",
              "\n",
              "            Stock Splits  \n",
              "Date                      \n",
              "2019-01-02             0  \n",
              "2019-01-03             0  \n",
              "2019-01-04             0  \n",
              "2019-01-07             0  \n",
              "2019-01-08             0  \n",
              "...                  ...  \n",
              "2019-12-24             0  \n",
              "2019-12-26             0  \n",
              "2019-12-27             0  \n",
              "2019-12-30             0  \n",
              "2019-12-31             0  \n",
              "\n",
              "[252 rows x 7 columns]"
            ],
            "text/html": [
              "\n",
              "  <div id=\"df-c460717b-ed94-4597-a66f-c199626ed7ae\">\n",
              "    <div class=\"colab-df-container\">\n",
              "      <div>\n",
              "<style scoped>\n",
              "    .dataframe tbody tr th:only-of-type {\n",
              "        vertical-align: middle;\n",
              "    }\n",
              "\n",
              "    .dataframe tbody tr th {\n",
              "        vertical-align: top;\n",
              "    }\n",
              "\n",
              "    .dataframe thead th {\n",
              "        text-align: right;\n",
              "    }\n",
              "</style>\n",
              "<table border=\"1\" class=\"dataframe\">\n",
              "  <thead>\n",
              "    <tr style=\"text-align: right;\">\n",
              "      <th></th>\n",
              "      <th>Open</th>\n",
              "      <th>High</th>\n",
              "      <th>Low</th>\n",
              "      <th>Close</th>\n",
              "      <th>Volume</th>\n",
              "      <th>Dividends</th>\n",
              "      <th>Stock Splits</th>\n",
              "    </tr>\n",
              "    <tr>\n",
              "      <th>Date</th>\n",
              "      <th></th>\n",
              "      <th></th>\n",
              "      <th></th>\n",
              "      <th></th>\n",
              "      <th></th>\n",
              "      <th></th>\n",
              "      <th></th>\n",
              "    </tr>\n",
              "  </thead>\n",
              "  <tbody>\n",
              "    <tr>\n",
              "      <th>2019-01-02</th>\n",
              "      <td>5.558961</td>\n",
              "      <td>5.627229</td>\n",
              "      <td>5.549209</td>\n",
              "      <td>5.597971</td>\n",
              "      <td>24338600</td>\n",
              "      <td>0.0</td>\n",
              "      <td>0</td>\n",
              "    </tr>\n",
              "    <tr>\n",
              "      <th>2019-01-03</th>\n",
              "      <td>5.500446</td>\n",
              "      <td>5.510199</td>\n",
              "      <td>5.422426</td>\n",
              "      <td>5.432178</td>\n",
              "      <td>17354500</td>\n",
              "      <td>0.0</td>\n",
              "      <td>0</td>\n",
              "    </tr>\n",
              "    <tr>\n",
              "      <th>2019-01-04</th>\n",
              "      <td>5.588219</td>\n",
              "      <td>5.812528</td>\n",
              "      <td>5.588219</td>\n",
              "      <td>5.783270</td>\n",
              "      <td>34666300</td>\n",
              "      <td>0.0</td>\n",
              "      <td>0</td>\n",
              "    </tr>\n",
              "    <tr>\n",
              "      <th>2019-01-07</th>\n",
              "      <td>5.802775</td>\n",
              "      <td>5.939311</td>\n",
              "      <td>5.783270</td>\n",
              "      <td>5.871043</td>\n",
              "      <td>25502600</td>\n",
              "      <td>0.0</td>\n",
              "      <td>0</td>\n",
              "    </tr>\n",
              "    <tr>\n",
              "      <th>2019-01-08</th>\n",
              "      <td>5.919807</td>\n",
              "      <td>6.007579</td>\n",
              "      <td>5.880796</td>\n",
              "      <td>5.997827</td>\n",
              "      <td>33497100</td>\n",
              "      <td>0.0</td>\n",
              "      <td>0</td>\n",
              "    </tr>\n",
              "    <tr>\n",
              "      <th>...</th>\n",
              "      <td>...</td>\n",
              "      <td>...</td>\n",
              "      <td>...</td>\n",
              "      <td>...</td>\n",
              "      <td>...</td>\n",
              "      <td>...</td>\n",
              "      <td>...</td>\n",
              "    </tr>\n",
              "    <tr>\n",
              "      <th>2019-12-24</th>\n",
              "      <td>3.604917</td>\n",
              "      <td>3.624833</td>\n",
              "      <td>3.594958</td>\n",
              "      <td>3.614875</td>\n",
              "      <td>6768300</td>\n",
              "      <td>0.0</td>\n",
              "      <td>0</td>\n",
              "    </tr>\n",
              "    <tr>\n",
              "      <th>2019-12-26</th>\n",
              "      <td>3.614875</td>\n",
              "      <td>3.624833</td>\n",
              "      <td>3.604917</td>\n",
              "      <td>3.604917</td>\n",
              "      <td>9053900</td>\n",
              "      <td>0.0</td>\n",
              "      <td>0</td>\n",
              "    </tr>\n",
              "    <tr>\n",
              "      <th>2019-12-27</th>\n",
              "      <td>3.594958</td>\n",
              "      <td>3.614875</td>\n",
              "      <td>3.594958</td>\n",
              "      <td>3.614875</td>\n",
              "      <td>9342100</td>\n",
              "      <td>0.0</td>\n",
              "      <td>0</td>\n",
              "    </tr>\n",
              "    <tr>\n",
              "      <th>2019-12-30</th>\n",
              "      <td>3.634792</td>\n",
              "      <td>3.704500</td>\n",
              "      <td>3.614875</td>\n",
              "      <td>3.674625</td>\n",
              "      <td>27043500</td>\n",
              "      <td>0.0</td>\n",
              "      <td>0</td>\n",
              "    </tr>\n",
              "    <tr>\n",
              "      <th>2019-12-31</th>\n",
              "      <td>3.684583</td>\n",
              "      <td>3.714458</td>\n",
              "      <td>3.674625</td>\n",
              "      <td>3.694542</td>\n",
              "      <td>14346300</td>\n",
              "      <td>0.0</td>\n",
              "      <td>0</td>\n",
              "    </tr>\n",
              "  </tbody>\n",
              "</table>\n",
              "<p>252 rows × 7 columns</p>\n",
              "</div>\n",
              "      <button class=\"colab-df-convert\" onclick=\"convertToInteractive('df-c460717b-ed94-4597-a66f-c199626ed7ae')\"\n",
              "              title=\"Convert this dataframe to an interactive table.\"\n",
              "              style=\"display:none;\">\n",
              "        \n",
              "  <svg xmlns=\"http://www.w3.org/2000/svg\" height=\"24px\"viewBox=\"0 0 24 24\"\n",
              "       width=\"24px\">\n",
              "    <path d=\"M0 0h24v24H0V0z\" fill=\"none\"/>\n",
              "    <path d=\"M18.56 5.44l.94 2.06.94-2.06 2.06-.94-2.06-.94-.94-2.06-.94 2.06-2.06.94zm-11 1L8.5 8.5l.94-2.06 2.06-.94-2.06-.94L8.5 2.5l-.94 2.06-2.06.94zm10 10l.94 2.06.94-2.06 2.06-.94-2.06-.94-.94-2.06-.94 2.06-2.06.94z\"/><path d=\"M17.41 7.96l-1.37-1.37c-.4-.4-.92-.59-1.43-.59-.52 0-1.04.2-1.43.59L10.3 9.45l-7.72 7.72c-.78.78-.78 2.05 0 2.83L4 21.41c.39.39.9.59 1.41.59.51 0 1.02-.2 1.41-.59l7.78-7.78 2.81-2.81c.8-.78.8-2.07 0-2.86zM5.41 20L4 18.59l7.72-7.72 1.47 1.35L5.41 20z\"/>\n",
              "  </svg>\n",
              "      </button>\n",
              "      \n",
              "  <style>\n",
              "    .colab-df-container {\n",
              "      display:flex;\n",
              "      flex-wrap:wrap;\n",
              "      gap: 12px;\n",
              "    }\n",
              "\n",
              "    .colab-df-convert {\n",
              "      background-color: #E8F0FE;\n",
              "      border: none;\n",
              "      border-radius: 50%;\n",
              "      cursor: pointer;\n",
              "      display: none;\n",
              "      fill: #1967D2;\n",
              "      height: 32px;\n",
              "      padding: 0 0 0 0;\n",
              "      width: 32px;\n",
              "    }\n",
              "\n",
              "    .colab-df-convert:hover {\n",
              "      background-color: #E2EBFA;\n",
              "      box-shadow: 0px 1px 2px rgba(60, 64, 67, 0.3), 0px 1px 3px 1px rgba(60, 64, 67, 0.15);\n",
              "      fill: #174EA6;\n",
              "    }\n",
              "\n",
              "    [theme=dark] .colab-df-convert {\n",
              "      background-color: #3B4455;\n",
              "      fill: #D2E3FC;\n",
              "    }\n",
              "\n",
              "    [theme=dark] .colab-df-convert:hover {\n",
              "      background-color: #434B5C;\n",
              "      box-shadow: 0px 1px 3px 1px rgba(0, 0, 0, 0.15);\n",
              "      filter: drop-shadow(0px 1px 2px rgba(0, 0, 0, 0.3));\n",
              "      fill: #FFFFFF;\n",
              "    }\n",
              "  </style>\n",
              "\n",
              "      <script>\n",
              "        const buttonEl =\n",
              "          document.querySelector('#df-c460717b-ed94-4597-a66f-c199626ed7ae button.colab-df-convert');\n",
              "        buttonEl.style.display =\n",
              "          google.colab.kernel.accessAllowed ? 'block' : 'none';\n",
              "\n",
              "        async function convertToInteractive(key) {\n",
              "          const element = document.querySelector('#df-c460717b-ed94-4597-a66f-c199626ed7ae');\n",
              "          const dataTable =\n",
              "            await google.colab.kernel.invokeFunction('convertToInteractive',\n",
              "                                                     [key], {});\n",
              "          if (!dataTable) return;\n",
              "\n",
              "          const docLinkHtml = 'Like what you see? Visit the ' +\n",
              "            '<a target=\"_blank\" href=https://colab.research.google.com/notebooks/data_table.ipynb>data table notebook</a>'\n",
              "            + ' to learn more about interactive tables.';\n",
              "          element.innerHTML = '';\n",
              "          dataTable['output_type'] = 'display_data';\n",
              "          await google.colab.output.renderOutput(dataTable, element);\n",
              "          const docLink = document.createElement('div');\n",
              "          docLink.innerHTML = docLinkHtml;\n",
              "          element.appendChild(docLink);\n",
              "        }\n",
              "      </script>\n",
              "    </div>\n",
              "  </div>\n",
              "  "
            ]
          },
          "metadata": {},
          "execution_count": 2
        }
      ]
    },
    {
      "cell_type": "code",
      "source": [
        "prices.head(5) "
      ],
      "metadata": {
        "colab": {
          "base_uri": "https://localhost:8080/",
          "height": 238
        },
        "id": "tdbU2Q7qqodk",
        "outputId": "2dc07610-8c4d-464f-f939-86e37ee1ff45"
      },
      "execution_count": null,
      "outputs": [
        {
          "output_type": "execute_result",
          "data": {
            "text/plain": [
              "                Open      High       Low     Close    Volume  Dividends  \\\n",
              "Date                                                                      \n",
              "2019-01-02  5.558961  5.627229  5.549209  5.597971  24338600        0.0   \n",
              "2019-01-03  5.500446  5.510199  5.422426  5.432178  17354500        0.0   \n",
              "2019-01-04  5.588219  5.812528  5.588219  5.783270  34666300        0.0   \n",
              "2019-01-07  5.802775  5.939311  5.783270  5.871043  25502600        0.0   \n",
              "2019-01-08  5.919807  6.007579  5.880796  5.997827  33497100        0.0   \n",
              "\n",
              "            Stock Splits  \n",
              "Date                      \n",
              "2019-01-02             0  \n",
              "2019-01-03             0  \n",
              "2019-01-04             0  \n",
              "2019-01-07             0  \n",
              "2019-01-08             0  "
            ],
            "text/html": [
              "\n",
              "  <div id=\"df-71ccaac6-4156-4b09-b7ae-78f926ab6d96\">\n",
              "    <div class=\"colab-df-container\">\n",
              "      <div>\n",
              "<style scoped>\n",
              "    .dataframe tbody tr th:only-of-type {\n",
              "        vertical-align: middle;\n",
              "    }\n",
              "\n",
              "    .dataframe tbody tr th {\n",
              "        vertical-align: top;\n",
              "    }\n",
              "\n",
              "    .dataframe thead th {\n",
              "        text-align: right;\n",
              "    }\n",
              "</style>\n",
              "<table border=\"1\" class=\"dataframe\">\n",
              "  <thead>\n",
              "    <tr style=\"text-align: right;\">\n",
              "      <th></th>\n",
              "      <th>Open</th>\n",
              "      <th>High</th>\n",
              "      <th>Low</th>\n",
              "      <th>Close</th>\n",
              "      <th>Volume</th>\n",
              "      <th>Dividends</th>\n",
              "      <th>Stock Splits</th>\n",
              "    </tr>\n",
              "    <tr>\n",
              "      <th>Date</th>\n",
              "      <th></th>\n",
              "      <th></th>\n",
              "      <th></th>\n",
              "      <th></th>\n",
              "      <th></th>\n",
              "      <th></th>\n",
              "      <th></th>\n",
              "    </tr>\n",
              "  </thead>\n",
              "  <tbody>\n",
              "    <tr>\n",
              "      <th>2019-01-02</th>\n",
              "      <td>5.558961</td>\n",
              "      <td>5.627229</td>\n",
              "      <td>5.549209</td>\n",
              "      <td>5.597971</td>\n",
              "      <td>24338600</td>\n",
              "      <td>0.0</td>\n",
              "      <td>0</td>\n",
              "    </tr>\n",
              "    <tr>\n",
              "      <th>2019-01-03</th>\n",
              "      <td>5.500446</td>\n",
              "      <td>5.510199</td>\n",
              "      <td>5.422426</td>\n",
              "      <td>5.432178</td>\n",
              "      <td>17354500</td>\n",
              "      <td>0.0</td>\n",
              "      <td>0</td>\n",
              "    </tr>\n",
              "    <tr>\n",
              "      <th>2019-01-04</th>\n",
              "      <td>5.588219</td>\n",
              "      <td>5.812528</td>\n",
              "      <td>5.588219</td>\n",
              "      <td>5.783270</td>\n",
              "      <td>34666300</td>\n",
              "      <td>0.0</td>\n",
              "      <td>0</td>\n",
              "    </tr>\n",
              "    <tr>\n",
              "      <th>2019-01-07</th>\n",
              "      <td>5.802775</td>\n",
              "      <td>5.939311</td>\n",
              "      <td>5.783270</td>\n",
              "      <td>5.871043</td>\n",
              "      <td>25502600</td>\n",
              "      <td>0.0</td>\n",
              "      <td>0</td>\n",
              "    </tr>\n",
              "    <tr>\n",
              "      <th>2019-01-08</th>\n",
              "      <td>5.919807</td>\n",
              "      <td>6.007579</td>\n",
              "      <td>5.880796</td>\n",
              "      <td>5.997827</td>\n",
              "      <td>33497100</td>\n",
              "      <td>0.0</td>\n",
              "      <td>0</td>\n",
              "    </tr>\n",
              "  </tbody>\n",
              "</table>\n",
              "</div>\n",
              "      <button class=\"colab-df-convert\" onclick=\"convertToInteractive('df-71ccaac6-4156-4b09-b7ae-78f926ab6d96')\"\n",
              "              title=\"Convert this dataframe to an interactive table.\"\n",
              "              style=\"display:none;\">\n",
              "        \n",
              "  <svg xmlns=\"http://www.w3.org/2000/svg\" height=\"24px\"viewBox=\"0 0 24 24\"\n",
              "       width=\"24px\">\n",
              "    <path d=\"M0 0h24v24H0V0z\" fill=\"none\"/>\n",
              "    <path d=\"M18.56 5.44l.94 2.06.94-2.06 2.06-.94-2.06-.94-.94-2.06-.94 2.06-2.06.94zm-11 1L8.5 8.5l.94-2.06 2.06-.94-2.06-.94L8.5 2.5l-.94 2.06-2.06.94zm10 10l.94 2.06.94-2.06 2.06-.94-2.06-.94-.94-2.06-.94 2.06-2.06.94z\"/><path d=\"M17.41 7.96l-1.37-1.37c-.4-.4-.92-.59-1.43-.59-.52 0-1.04.2-1.43.59L10.3 9.45l-7.72 7.72c-.78.78-.78 2.05 0 2.83L4 21.41c.39.39.9.59 1.41.59.51 0 1.02-.2 1.41-.59l7.78-7.78 2.81-2.81c.8-.78.8-2.07 0-2.86zM5.41 20L4 18.59l7.72-7.72 1.47 1.35L5.41 20z\"/>\n",
              "  </svg>\n",
              "      </button>\n",
              "      \n",
              "  <style>\n",
              "    .colab-df-container {\n",
              "      display:flex;\n",
              "      flex-wrap:wrap;\n",
              "      gap: 12px;\n",
              "    }\n",
              "\n",
              "    .colab-df-convert {\n",
              "      background-color: #E8F0FE;\n",
              "      border: none;\n",
              "      border-radius: 50%;\n",
              "      cursor: pointer;\n",
              "      display: none;\n",
              "      fill: #1967D2;\n",
              "      height: 32px;\n",
              "      padding: 0 0 0 0;\n",
              "      width: 32px;\n",
              "    }\n",
              "\n",
              "    .colab-df-convert:hover {\n",
              "      background-color: #E2EBFA;\n",
              "      box-shadow: 0px 1px 2px rgba(60, 64, 67, 0.3), 0px 1px 3px 1px rgba(60, 64, 67, 0.15);\n",
              "      fill: #174EA6;\n",
              "    }\n",
              "\n",
              "    [theme=dark] .colab-df-convert {\n",
              "      background-color: #3B4455;\n",
              "      fill: #D2E3FC;\n",
              "    }\n",
              "\n",
              "    [theme=dark] .colab-df-convert:hover {\n",
              "      background-color: #434B5C;\n",
              "      box-shadow: 0px 1px 3px 1px rgba(0, 0, 0, 0.15);\n",
              "      filter: drop-shadow(0px 1px 2px rgba(0, 0, 0, 0.3));\n",
              "      fill: #FFFFFF;\n",
              "    }\n",
              "  </style>\n",
              "\n",
              "      <script>\n",
              "        const buttonEl =\n",
              "          document.querySelector('#df-71ccaac6-4156-4b09-b7ae-78f926ab6d96 button.colab-df-convert');\n",
              "        buttonEl.style.display =\n",
              "          google.colab.kernel.accessAllowed ? 'block' : 'none';\n",
              "\n",
              "        async function convertToInteractive(key) {\n",
              "          const element = document.querySelector('#df-71ccaac6-4156-4b09-b7ae-78f926ab6d96');\n",
              "          const dataTable =\n",
              "            await google.colab.kernel.invokeFunction('convertToInteractive',\n",
              "                                                     [key], {});\n",
              "          if (!dataTable) return;\n",
              "\n",
              "          const docLinkHtml = 'Like what you see? Visit the ' +\n",
              "            '<a target=\"_blank\" href=https://colab.research.google.com/notebooks/data_table.ipynb>data table notebook</a>'\n",
              "            + ' to learn more about interactive tables.';\n",
              "          element.innerHTML = '';\n",
              "          dataTable['output_type'] = 'display_data';\n",
              "          await google.colab.output.renderOutput(dataTable, element);\n",
              "          const docLink = document.createElement('div');\n",
              "          docLink.innerHTML = docLinkHtml;\n",
              "          element.appendChild(docLink);\n",
              "        }\n",
              "      </script>\n",
              "    </div>\n",
              "  </div>\n",
              "  "
            ]
          },
          "metadata": {},
          "execution_count": 34
        }
      ]
    },
    {
      "cell_type": "markdown",
      "source": [
        "My own example 46"
      ],
      "metadata": {
        "id": "-tFp530Ws4Xj"
      }
    },
    {
      "cell_type": "code",
      "source": [
        "print(prices.index)"
      ],
      "metadata": {
        "colab": {
          "base_uri": "https://localhost:8080/"
        },
        "id": "m6ZDA5cusmkx",
        "outputId": "5ed52484-6718-4769-c18b-f0e6ccd31e17"
      },
      "execution_count": null,
      "outputs": [
        {
          "output_type": "stream",
          "name": "stdout",
          "text": [
            "DatetimeIndex(['2019-01-02', '2019-01-03', '2019-01-04', '2019-01-07',\n",
            "               '2019-01-08', '2019-01-09', '2019-01-10', '2019-01-11',\n",
            "               '2019-01-14', '2019-01-15',\n",
            "               ...\n",
            "               '2019-12-17', '2019-12-18', '2019-12-19', '2019-12-20',\n",
            "               '2019-12-23', '2019-12-24', '2019-12-26', '2019-12-27',\n",
            "               '2019-12-30', '2019-12-31'],\n",
            "              dtype='datetime64[ns]', name='Date', length=252, freq=None)\n"
          ]
        }
      ]
    },
    {
      "cell_type": "code",
      "source": [
        "monthly_prices = prices.resample(\"M\").mean()\n",
        "monthly_prices.head(4)"
      ],
      "metadata": {
        "colab": {
          "base_uri": "https://localhost:8080/",
          "height": 206
        },
        "id": "dK_cLtbLs-Gk",
        "outputId": "29ba39c9-0a7a-4f73-c50e-728ea956a9dd"
      },
      "execution_count": null,
      "outputs": [
        {
          "output_type": "execute_result",
          "data": {
            "text/plain": [
              "                Open      High       Low     Close        Volume  Dividends  \\\n",
              "Date                                                                          \n",
              "2019-01-31  5.940705  6.018261  5.900766  5.976464  2.814045e+07        0.0   \n",
              "2019-02-28  5.999367  6.046590  5.946498  6.001933  2.757072e+07        0.0   \n",
              "2019-03-31  5.929559  5.978322  5.879867  5.929094  2.777669e+07        0.0   \n",
              "2019-04-30  5.597507  5.632802  5.557568  5.591006  2.165514e+07        0.0   \n",
              "\n",
              "            Stock Splits  \n",
              "Date                      \n",
              "2019-01-31           0.0  \n",
              "2019-02-28           0.0  \n",
              "2019-03-31           0.0  \n",
              "2019-04-30           0.0  "
            ],
            "text/html": [
              "\n",
              "  <div id=\"df-ecc9b5db-ef3a-47a6-8142-fe042e90a2a3\">\n",
              "    <div class=\"colab-df-container\">\n",
              "      <div>\n",
              "<style scoped>\n",
              "    .dataframe tbody tr th:only-of-type {\n",
              "        vertical-align: middle;\n",
              "    }\n",
              "\n",
              "    .dataframe tbody tr th {\n",
              "        vertical-align: top;\n",
              "    }\n",
              "\n",
              "    .dataframe thead th {\n",
              "        text-align: right;\n",
              "    }\n",
              "</style>\n",
              "<table border=\"1\" class=\"dataframe\">\n",
              "  <thead>\n",
              "    <tr style=\"text-align: right;\">\n",
              "      <th></th>\n",
              "      <th>Open</th>\n",
              "      <th>High</th>\n",
              "      <th>Low</th>\n",
              "      <th>Close</th>\n",
              "      <th>Volume</th>\n",
              "      <th>Dividends</th>\n",
              "      <th>Stock Splits</th>\n",
              "    </tr>\n",
              "    <tr>\n",
              "      <th>Date</th>\n",
              "      <th></th>\n",
              "      <th></th>\n",
              "      <th></th>\n",
              "      <th></th>\n",
              "      <th></th>\n",
              "      <th></th>\n",
              "      <th></th>\n",
              "    </tr>\n",
              "  </thead>\n",
              "  <tbody>\n",
              "    <tr>\n",
              "      <th>2019-01-31</th>\n",
              "      <td>5.940705</td>\n",
              "      <td>6.018261</td>\n",
              "      <td>5.900766</td>\n",
              "      <td>5.976464</td>\n",
              "      <td>2.814045e+07</td>\n",
              "      <td>0.0</td>\n",
              "      <td>0.0</td>\n",
              "    </tr>\n",
              "    <tr>\n",
              "      <th>2019-02-28</th>\n",
              "      <td>5.999367</td>\n",
              "      <td>6.046590</td>\n",
              "      <td>5.946498</td>\n",
              "      <td>6.001933</td>\n",
              "      <td>2.757072e+07</td>\n",
              "      <td>0.0</td>\n",
              "      <td>0.0</td>\n",
              "    </tr>\n",
              "    <tr>\n",
              "      <th>2019-03-31</th>\n",
              "      <td>5.929559</td>\n",
              "      <td>5.978322</td>\n",
              "      <td>5.879867</td>\n",
              "      <td>5.929094</td>\n",
              "      <td>2.777669e+07</td>\n",
              "      <td>0.0</td>\n",
              "      <td>0.0</td>\n",
              "    </tr>\n",
              "    <tr>\n",
              "      <th>2019-04-30</th>\n",
              "      <td>5.597507</td>\n",
              "      <td>5.632802</td>\n",
              "      <td>5.557568</td>\n",
              "      <td>5.591006</td>\n",
              "      <td>2.165514e+07</td>\n",
              "      <td>0.0</td>\n",
              "      <td>0.0</td>\n",
              "    </tr>\n",
              "  </tbody>\n",
              "</table>\n",
              "</div>\n",
              "      <button class=\"colab-df-convert\" onclick=\"convertToInteractive('df-ecc9b5db-ef3a-47a6-8142-fe042e90a2a3')\"\n",
              "              title=\"Convert this dataframe to an interactive table.\"\n",
              "              style=\"display:none;\">\n",
              "        \n",
              "  <svg xmlns=\"http://www.w3.org/2000/svg\" height=\"24px\"viewBox=\"0 0 24 24\"\n",
              "       width=\"24px\">\n",
              "    <path d=\"M0 0h24v24H0V0z\" fill=\"none\"/>\n",
              "    <path d=\"M18.56 5.44l.94 2.06.94-2.06 2.06-.94-2.06-.94-.94-2.06-.94 2.06-2.06.94zm-11 1L8.5 8.5l.94-2.06 2.06-.94-2.06-.94L8.5 2.5l-.94 2.06-2.06.94zm10 10l.94 2.06.94-2.06 2.06-.94-2.06-.94-.94-2.06-.94 2.06-2.06.94z\"/><path d=\"M17.41 7.96l-1.37-1.37c-.4-.4-.92-.59-1.43-.59-.52 0-1.04.2-1.43.59L10.3 9.45l-7.72 7.72c-.78.78-.78 2.05 0 2.83L4 21.41c.39.39.9.59 1.41.59.51 0 1.02-.2 1.41-.59l7.78-7.78 2.81-2.81c.8-.78.8-2.07 0-2.86zM5.41 20L4 18.59l7.72-7.72 1.47 1.35L5.41 20z\"/>\n",
              "  </svg>\n",
              "      </button>\n",
              "      \n",
              "  <style>\n",
              "    .colab-df-container {\n",
              "      display:flex;\n",
              "      flex-wrap:wrap;\n",
              "      gap: 12px;\n",
              "    }\n",
              "\n",
              "    .colab-df-convert {\n",
              "      background-color: #E8F0FE;\n",
              "      border: none;\n",
              "      border-radius: 50%;\n",
              "      cursor: pointer;\n",
              "      display: none;\n",
              "      fill: #1967D2;\n",
              "      height: 32px;\n",
              "      padding: 0 0 0 0;\n",
              "      width: 32px;\n",
              "    }\n",
              "\n",
              "    .colab-df-convert:hover {\n",
              "      background-color: #E2EBFA;\n",
              "      box-shadow: 0px 1px 2px rgba(60, 64, 67, 0.3), 0px 1px 3px 1px rgba(60, 64, 67, 0.15);\n",
              "      fill: #174EA6;\n",
              "    }\n",
              "\n",
              "    [theme=dark] .colab-df-convert {\n",
              "      background-color: #3B4455;\n",
              "      fill: #D2E3FC;\n",
              "    }\n",
              "\n",
              "    [theme=dark] .colab-df-convert:hover {\n",
              "      background-color: #434B5C;\n",
              "      box-shadow: 0px 1px 3px 1px rgba(0, 0, 0, 0.15);\n",
              "      filter: drop-shadow(0px 1px 2px rgba(0, 0, 0, 0.3));\n",
              "      fill: #FFFFFF;\n",
              "    }\n",
              "  </style>\n",
              "\n",
              "      <script>\n",
              "        const buttonEl =\n",
              "          document.querySelector('#df-ecc9b5db-ef3a-47a6-8142-fe042e90a2a3 button.colab-df-convert');\n",
              "        buttonEl.style.display =\n",
              "          google.colab.kernel.accessAllowed ? 'block' : 'none';\n",
              "\n",
              "        async function convertToInteractive(key) {\n",
              "          const element = document.querySelector('#df-ecc9b5db-ef3a-47a6-8142-fe042e90a2a3');\n",
              "          const dataTable =\n",
              "            await google.colab.kernel.invokeFunction('convertToInteractive',\n",
              "                                                     [key], {});\n",
              "          if (!dataTable) return;\n",
              "\n",
              "          const docLinkHtml = 'Like what you see? Visit the ' +\n",
              "            '<a target=\"_blank\" href=https://colab.research.google.com/notebooks/data_table.ipynb>data table notebook</a>'\n",
              "            + ' to learn more about interactive tables.';\n",
              "          element.innerHTML = '';\n",
              "          dataTable['output_type'] = 'display_data';\n",
              "          await google.colab.output.renderOutput(dataTable, element);\n",
              "          const docLink = document.createElement('div');\n",
              "          docLink.innerHTML = docLinkHtml;\n",
              "          element.appendChild(docLink);\n",
              "        }\n",
              "      </script>\n",
              "    </div>\n",
              "  </div>\n",
              "  "
            ]
          },
          "metadata": {},
          "execution_count": 43
        }
      ]
    },
    {
      "cell_type": "markdown",
      "source": [
        "My own example 47"
      ],
      "metadata": {
        "id": "mPmWEcfCu9Cs"
      }
    },
    {
      "cell_type": "code",
      "source": [
        "calendar_dates = pd.date_range(start=\"2019-01-01\", end=\"2020-01-01\", freq='D')\n",
        "calendar_prices = prices.reindex(calendar_dates, method='ffill')\n",
        "meanfilled_prices = calendar_prices.fillna(calendar_prices.mean())\n",
        "meanfilled_prices.head(10)"
      ],
      "metadata": {
        "colab": {
          "base_uri": "https://localhost:8080/",
          "height": 363
        },
        "id": "9GUD8ecete1b",
        "outputId": "2f10e229-9b40-45fe-99c4-90deed8cc040"
      },
      "execution_count": null,
      "outputs": [
        {
          "output_type": "execute_result",
          "data": {
            "text/plain": [
              "                Open      High       Low     Close        Volume  Dividends  \\\n",
              "2019-01-01  5.026910  5.070151  4.985530  5.029671  2.456329e+07   0.000307   \n",
              "2019-01-02  5.558961  5.627229  5.549209  5.597971  2.433860e+07   0.000000   \n",
              "2019-01-03  5.500446  5.510199  5.422426  5.432178  1.735450e+07   0.000000   \n",
              "2019-01-04  5.588219  5.812528  5.588219  5.783270  3.466630e+07   0.000000   \n",
              "2019-01-05  5.588219  5.812528  5.588219  5.783270  3.466630e+07   0.000000   \n",
              "2019-01-06  5.588219  5.812528  5.588219  5.783270  3.466630e+07   0.000000   \n",
              "2019-01-07  5.802775  5.939311  5.783270  5.871043  2.550260e+07   0.000000   \n",
              "2019-01-08  5.919807  6.007579  5.880796  5.997827  3.349710e+07   0.000000   \n",
              "2019-01-09  6.007579  6.085600  5.988074  6.056342  2.547160e+07   0.000000   \n",
              "2019-01-10  5.958816  6.027084  5.939311  5.988074  2.183290e+07   0.000000   \n",
              "\n",
              "            Stock Splits  \n",
              "2019-01-01           0.0  \n",
              "2019-01-02           0.0  \n",
              "2019-01-03           0.0  \n",
              "2019-01-04           0.0  \n",
              "2019-01-05           0.0  \n",
              "2019-01-06           0.0  \n",
              "2019-01-07           0.0  \n",
              "2019-01-08           0.0  \n",
              "2019-01-09           0.0  \n",
              "2019-01-10           0.0  "
            ],
            "text/html": [
              "\n",
              "  <div id=\"df-5cb20f81-e23e-4f91-a38e-73e8ab263bfe\">\n",
              "    <div class=\"colab-df-container\">\n",
              "      <div>\n",
              "<style scoped>\n",
              "    .dataframe tbody tr th:only-of-type {\n",
              "        vertical-align: middle;\n",
              "    }\n",
              "\n",
              "    .dataframe tbody tr th {\n",
              "        vertical-align: top;\n",
              "    }\n",
              "\n",
              "    .dataframe thead th {\n",
              "        text-align: right;\n",
              "    }\n",
              "</style>\n",
              "<table border=\"1\" class=\"dataframe\">\n",
              "  <thead>\n",
              "    <tr style=\"text-align: right;\">\n",
              "      <th></th>\n",
              "      <th>Open</th>\n",
              "      <th>High</th>\n",
              "      <th>Low</th>\n",
              "      <th>Close</th>\n",
              "      <th>Volume</th>\n",
              "      <th>Dividends</th>\n",
              "      <th>Stock Splits</th>\n",
              "    </tr>\n",
              "  </thead>\n",
              "  <tbody>\n",
              "    <tr>\n",
              "      <th>2019-01-01</th>\n",
              "      <td>5.026910</td>\n",
              "      <td>5.070151</td>\n",
              "      <td>4.985530</td>\n",
              "      <td>5.029671</td>\n",
              "      <td>2.456329e+07</td>\n",
              "      <td>0.000307</td>\n",
              "      <td>0.0</td>\n",
              "    </tr>\n",
              "    <tr>\n",
              "      <th>2019-01-02</th>\n",
              "      <td>5.558961</td>\n",
              "      <td>5.627229</td>\n",
              "      <td>5.549209</td>\n",
              "      <td>5.597971</td>\n",
              "      <td>2.433860e+07</td>\n",
              "      <td>0.000000</td>\n",
              "      <td>0.0</td>\n",
              "    </tr>\n",
              "    <tr>\n",
              "      <th>2019-01-03</th>\n",
              "      <td>5.500446</td>\n",
              "      <td>5.510199</td>\n",
              "      <td>5.422426</td>\n",
              "      <td>5.432178</td>\n",
              "      <td>1.735450e+07</td>\n",
              "      <td>0.000000</td>\n",
              "      <td>0.0</td>\n",
              "    </tr>\n",
              "    <tr>\n",
              "      <th>2019-01-04</th>\n",
              "      <td>5.588219</td>\n",
              "      <td>5.812528</td>\n",
              "      <td>5.588219</td>\n",
              "      <td>5.783270</td>\n",
              "      <td>3.466630e+07</td>\n",
              "      <td>0.000000</td>\n",
              "      <td>0.0</td>\n",
              "    </tr>\n",
              "    <tr>\n",
              "      <th>2019-01-05</th>\n",
              "      <td>5.588219</td>\n",
              "      <td>5.812528</td>\n",
              "      <td>5.588219</td>\n",
              "      <td>5.783270</td>\n",
              "      <td>3.466630e+07</td>\n",
              "      <td>0.000000</td>\n",
              "      <td>0.0</td>\n",
              "    </tr>\n",
              "    <tr>\n",
              "      <th>2019-01-06</th>\n",
              "      <td>5.588219</td>\n",
              "      <td>5.812528</td>\n",
              "      <td>5.588219</td>\n",
              "      <td>5.783270</td>\n",
              "      <td>3.466630e+07</td>\n",
              "      <td>0.000000</td>\n",
              "      <td>0.0</td>\n",
              "    </tr>\n",
              "    <tr>\n",
              "      <th>2019-01-07</th>\n",
              "      <td>5.802775</td>\n",
              "      <td>5.939311</td>\n",
              "      <td>5.783270</td>\n",
              "      <td>5.871043</td>\n",
              "      <td>2.550260e+07</td>\n",
              "      <td>0.000000</td>\n",
              "      <td>0.0</td>\n",
              "    </tr>\n",
              "    <tr>\n",
              "      <th>2019-01-08</th>\n",
              "      <td>5.919807</td>\n",
              "      <td>6.007579</td>\n",
              "      <td>5.880796</td>\n",
              "      <td>5.997827</td>\n",
              "      <td>3.349710e+07</td>\n",
              "      <td>0.000000</td>\n",
              "      <td>0.0</td>\n",
              "    </tr>\n",
              "    <tr>\n",
              "      <th>2019-01-09</th>\n",
              "      <td>6.007579</td>\n",
              "      <td>6.085600</td>\n",
              "      <td>5.988074</td>\n",
              "      <td>6.056342</td>\n",
              "      <td>2.547160e+07</td>\n",
              "      <td>0.000000</td>\n",
              "      <td>0.0</td>\n",
              "    </tr>\n",
              "    <tr>\n",
              "      <th>2019-01-10</th>\n",
              "      <td>5.958816</td>\n",
              "      <td>6.027084</td>\n",
              "      <td>5.939311</td>\n",
              "      <td>5.988074</td>\n",
              "      <td>2.183290e+07</td>\n",
              "      <td>0.000000</td>\n",
              "      <td>0.0</td>\n",
              "    </tr>\n",
              "  </tbody>\n",
              "</table>\n",
              "</div>\n",
              "      <button class=\"colab-df-convert\" onclick=\"convertToInteractive('df-5cb20f81-e23e-4f91-a38e-73e8ab263bfe')\"\n",
              "              title=\"Convert this dataframe to an interactive table.\"\n",
              "              style=\"display:none;\">\n",
              "        \n",
              "  <svg xmlns=\"http://www.w3.org/2000/svg\" height=\"24px\"viewBox=\"0 0 24 24\"\n",
              "       width=\"24px\">\n",
              "    <path d=\"M0 0h24v24H0V0z\" fill=\"none\"/>\n",
              "    <path d=\"M18.56 5.44l.94 2.06.94-2.06 2.06-.94-2.06-.94-.94-2.06-.94 2.06-2.06.94zm-11 1L8.5 8.5l.94-2.06 2.06-.94-2.06-.94L8.5 2.5l-.94 2.06-2.06.94zm10 10l.94 2.06.94-2.06 2.06-.94-2.06-.94-.94-2.06-.94 2.06-2.06.94z\"/><path d=\"M17.41 7.96l-1.37-1.37c-.4-.4-.92-.59-1.43-.59-.52 0-1.04.2-1.43.59L10.3 9.45l-7.72 7.72c-.78.78-.78 2.05 0 2.83L4 21.41c.39.39.9.59 1.41.59.51 0 1.02-.2 1.41-.59l7.78-7.78 2.81-2.81c.8-.78.8-2.07 0-2.86zM5.41 20L4 18.59l7.72-7.72 1.47 1.35L5.41 20z\"/>\n",
              "  </svg>\n",
              "      </button>\n",
              "      \n",
              "  <style>\n",
              "    .colab-df-container {\n",
              "      display:flex;\n",
              "      flex-wrap:wrap;\n",
              "      gap: 12px;\n",
              "    }\n",
              "\n",
              "    .colab-df-convert {\n",
              "      background-color: #E8F0FE;\n",
              "      border: none;\n",
              "      border-radius: 50%;\n",
              "      cursor: pointer;\n",
              "      display: none;\n",
              "      fill: #1967D2;\n",
              "      height: 32px;\n",
              "      padding: 0 0 0 0;\n",
              "      width: 32px;\n",
              "    }\n",
              "\n",
              "    .colab-df-convert:hover {\n",
              "      background-color: #E2EBFA;\n",
              "      box-shadow: 0px 1px 2px rgba(60, 64, 67, 0.3), 0px 1px 3px 1px rgba(60, 64, 67, 0.15);\n",
              "      fill: #174EA6;\n",
              "    }\n",
              "\n",
              "    [theme=dark] .colab-df-convert {\n",
              "      background-color: #3B4455;\n",
              "      fill: #D2E3FC;\n",
              "    }\n",
              "\n",
              "    [theme=dark] .colab-df-convert:hover {\n",
              "      background-color: #434B5C;\n",
              "      box-shadow: 0px 1px 3px 1px rgba(0, 0, 0, 0.15);\n",
              "      filter: drop-shadow(0px 1px 2px rgba(0, 0, 0, 0.3));\n",
              "      fill: #FFFFFF;\n",
              "    }\n",
              "  </style>\n",
              "\n",
              "      <script>\n",
              "        const buttonEl =\n",
              "          document.querySelector('#df-5cb20f81-e23e-4f91-a38e-73e8ab263bfe button.colab-df-convert');\n",
              "        buttonEl.style.display =\n",
              "          google.colab.kernel.accessAllowed ? 'block' : 'none';\n",
              "\n",
              "        async function convertToInteractive(key) {\n",
              "          const element = document.querySelector('#df-5cb20f81-e23e-4f91-a38e-73e8ab263bfe');\n",
              "          const dataTable =\n",
              "            await google.colab.kernel.invokeFunction('convertToInteractive',\n",
              "                                                     [key], {});\n",
              "          if (!dataTable) return;\n",
              "\n",
              "          const docLinkHtml = 'Like what you see? Visit the ' +\n",
              "            '<a target=\"_blank\" href=https://colab.research.google.com/notebooks/data_table.ipynb>data table notebook</a>'\n",
              "            + ' to learn more about interactive tables.';\n",
              "          element.innerHTML = '';\n",
              "          dataTable['output_type'] = 'display_data';\n",
              "          await google.colab.output.renderOutput(dataTable, element);\n",
              "          const docLink = document.createElement('div');\n",
              "          docLink.innerHTML = docLinkHtml;\n",
              "          element.appendChild(docLink);\n",
              "        }\n",
              "      </script>\n",
              "    </div>\n",
              "  </div>\n",
              "  "
            ]
          },
          "metadata": {},
          "execution_count": 45
        }
      ]
    },
    {
      "cell_type": "markdown",
      "source": [
        "My own example 48"
      ],
      "metadata": {
        "id": "ND_Dl7puwOKW"
      }
    },
    {
      "cell_type": "code",
      "source": [
        "import matplotlib.pyplot as plt\n",
        "prices.plot();\n",
        "plt.ylabel(\"Price\")\n",
        "plt.xlabel(\"Date\");"
      ],
      "metadata": {
        "colab": {
          "base_uri": "https://localhost:8080/",
          "height": 288
        },
        "id": "P2-_Jty9vto4",
        "outputId": "67529efd-d5ef-4768-b219-dfe76eee38c5"
      },
      "execution_count": null,
      "outputs": [
        {
          "output_type": "display_data",
          "data": {
            "text/plain": [
              "<Figure size 432x288 with 1 Axes>"
            ],
            "image/png": "[encoded data removed]"
          },
          "metadata": {
            "needs_background": "light"
          }
        }
      ]
    },
    {
      "cell_type": "markdown",
      "source": [
        "My own example 49"
      ],
      "metadata": {
        "id": "reLyiI50CI8Q"
      }
    },
    {
      "cell_type": "code",
      "source": [
        "print (prices.describe())"
      ],
      "metadata": {
        "id": "851cY9CZwcnE",
        "colab": {
          "base_uri": "https://localhost:8080/"
        },
        "outputId": "35c185e6-7168-4ff0-aee3-5ed35a0c32b4"
      },
      "execution_count": null,
      "outputs": [
        {
          "output_type": "stream",
          "name": "stdout",
          "text": [
            "             Open        High         Low       Close        Volume  \\\n",
            "count  252.000000  252.000000  252.000000  252.000000  2.520000e+02   \n",
            "mean     5.032146    5.072365    4.989109    5.029684  2.481495e+07   \n",
            "std      0.827510    0.835382    0.822405    0.832242  1.959830e+07   \n",
            "min      3.365917    3.385833    3.316125    3.336042  6.768300e+06   \n",
            "25%      4.887052    4.930159    4.860962    4.889542  1.610405e+07   \n",
            "50%      5.058611    5.107915    5.028959    5.068471  2.110455e+07   \n",
            "75%      5.700373    5.729631    5.636982    5.683306  2.695958e+07   \n",
            "max      6.348919    6.485455    6.319661    6.436692  2.511500e+08   \n",
            "\n",
            "        Dividends  Stock Splits  \n",
            "count  252.000000         252.0  \n",
            "mean     0.000444           0.0  \n",
            "std      0.004979           0.0  \n",
            "min      0.000000           0.0  \n",
            "25%      0.000000           0.0  \n",
            "50%      0.000000           0.0  \n",
            "75%      0.000000           0.0  \n",
            "max      0.056000           0.0  \n"
          ]
        }
      ]
    },
    {
      "cell_type": "markdown",
      "source": [
        "My own example 50"
      ],
      "metadata": {
        "id": "ZeNbtGgNCMpB"
      }
    },
    {
      "cell_type": "code",
      "source": [
        "print(prices.mean())"
      ],
      "metadata": {
        "colab": {
          "base_uri": "https://localhost:8080/"
        },
        "id": "NtcXQAz4BnIc",
        "outputId": "1473c35b-3c1e-45d6-efaf-5f01585c9eb9"
      },
      "execution_count": null,
      "outputs": [
        {
          "output_type": "stream",
          "name": "stdout",
          "text": [
            "Open            5.032146e+00\n",
            "High            5.072365e+00\n",
            "Low             4.989109e+00\n",
            "Close           5.029684e+00\n",
            "Volume          2.481495e+07\n",
            "Dividends       4.444444e-04\n",
            "Stock Splits    0.000000e+00\n",
            "dtype: float64\n"
          ]
        }
      ]
    },
    {
      "cell_type": "markdown",
      "source": [
        "My own example 51"
      ],
      "metadata": {
        "id": "E1vmaNr_Les4"
      }
    },
    {
      "cell_type": "code",
      "source": [
        "print(prices.std())"
      ],
      "metadata": {
        "colab": {
          "base_uri": "https://localhost:8080/"
        },
        "id": "RemjPzpSLfuT",
        "outputId": "8716266b-4e21-442c-c831-0efea43158e7"
      },
      "execution_count": null,
      "outputs": [
        {
          "output_type": "stream",
          "name": "stdout",
          "text": [
            "Open            8.275101e-01\n",
            "High            8.353820e-01\n",
            "Low             8.224051e-01\n",
            "Close           8.322424e-01\n",
            "Volume          1.959830e+07\n",
            "Dividends       4.978929e-03\n",
            "Stock Splits    0.000000e+00\n",
            "dtype: float64\n"
          ]
        }
      ]
    },
    {
      "cell_type": "markdown",
      "source": [
        "My own example 52"
      ],
      "metadata": {
        "id": "O8my9PUMCR26"
      }
    },
    {
      "cell_type": "code",
      "source": [
        "add_returns = prices.diff()[1:]\n",
        "mult_returns = prices.pct_change()[1:]\n",
        "mult_returns.plot();"
      ],
      "metadata": {
        "colab": {
          "base_uri": "https://localhost:8080/",
          "height": 277
        },
        "id": "ti7r8jr6CGor",
        "outputId": "5d41173f-8746-42bb-df06-859b60b97807"
      },
      "execution_count": null,
      "outputs": [
        {
          "output_type": "display_data",
          "data": {
            "text/plain": [
              "<Figure size 432x288 with 1 Axes>"
            ],
            "image/png": "[encoded data removed]"
          },
          "metadata": {
            "needs_background": "light"
          }
        }
      ]
    },
    {
      "cell_type": "markdown",
      "source": [
        "My own example 53"
      ],
      "metadata": {
        "id": "zR-ZCZk_Cj0x"
      }
    },
    {
      "cell_type": "code",
      "source": [
        "s1 = pd.Series([2, 3, 5, 7], name='primos')\n",
        "s2 = pd.Series([5, 10, 15], name=\"multiplos de 5\")\n",
        "num = pd.concat([s1, s2], axis=1)\n",
        "print (num)"
      ],
      "metadata": {
        "colab": {
          "base_uri": "https://localhost:8080/"
        },
        "id": "cpYXYmcIGBrV",
        "outputId": "6629da18-c795-4c54-e448-8352951c11b9"
      },
      "execution_count": null,
      "outputs": [
        {
          "output_type": "stream",
          "name": "stdout",
          "text": [
            "   primos  multiplos de 5\n",
            "0       2             5.0\n",
            "1       3            10.0\n",
            "2       5            15.0\n",
            "3       7             NaN\n"
          ]
        }
      ]
    },
    {
      "cell_type": "markdown",
      "source": [
        "My own example 54"
      ],
      "metadata": {
        "id": "w5lzriGiG374"
      }
    },
    {
      "cell_type": "code",
      "source": [
        "print (num.columns)"
      ],
      "metadata": {
        "colab": {
          "base_uri": "https://localhost:8080/"
        },
        "id": "dU0YDSqtG0iA",
        "outputId": "2d5b2a0b-dad9-4410-e168-1397ae022340"
      },
      "execution_count": null,
      "outputs": [
        {
          "output_type": "stream",
          "name": "stdout",
          "text": [
            "Index(['primos', 'multiplos de 5'], dtype='object')\n"
          ]
        }
      ]
    },
    {
      "cell_type": "code",
      "source": [
        "print (num.index)"
      ],
      "metadata": {
        "colab": {
          "base_uri": "https://localhost:8080/"
        },
        "id": "Ldmx_f7dHDnE",
        "outputId": "aa1d06bc-97d6-45ef-be72-cac9d9017357"
      },
      "execution_count": null,
      "outputs": [
        {
          "output_type": "stream",
          "name": "stdout",
          "text": [
            "RangeIndex(start=0, stop=4, step=1)\n"
          ]
        }
      ]
    },
    {
      "cell_type": "markdown",
      "source": [
        "My own example 55"
      ],
      "metadata": {
        "id": "QIACy08VHJ8b"
      }
    },
    {
      "cell_type": "code",
      "source": [
        "num.values"
      ],
      "metadata": {
        "colab": {
          "base_uri": "https://localhost:8080/"
        },
        "id": "W99Da5R5HI3I",
        "outputId": "0d2f0ad8-1b5a-4f61-b055-c4836987be0f"
      },
      "execution_count": null,
      "outputs": [
        {
          "output_type": "execute_result",
          "data": {
            "text/plain": [
              "array([[ 2.,  5.],\n",
              "       [ 3., 10.],\n",
              "       [ 5., 15.],\n",
              "       [ 7., nan]])"
            ]
          },
          "metadata": {},
          "execution_count": 26
        }
      ]
    },
    {
      "cell_type": "code",
      "source": [
        "type(num.values)"
      ],
      "metadata": {
        "colab": {
          "base_uri": "https://localhost:8080/"
        },
        "id": "9bLD7-pEHbl_",
        "outputId": "28f2f97f-df0f-42e4-8159-440c2a35d270"
      },
      "execution_count": null,
      "outputs": [
        {
          "output_type": "execute_result",
          "data": {
            "text/plain": [
              "numpy.ndarray"
            ]
          },
          "metadata": {},
          "execution_count": 28
        }
      ]
    },
    {
      "cell_type": "markdown",
      "source": [
        "My own example 56"
      ],
      "metadata": {
        "id": "xNd0BD4sHhnA"
      }
    },
    {
      "cell_type": "code",
      "source": [
        "prices.iloc[0:2, 1]"
      ],
      "metadata": {
        "colab": {
          "base_uri": "https://localhost:8080/"
        },
        "id": "JWxuBNZ7HeaQ",
        "outputId": "68d9a4b8-7cf8-4ab9-fc4a-980d633c75c0"
      },
      "execution_count": null,
      "outputs": [
        {
          "output_type": "execute_result",
          "data": {
            "text/plain": [
              "Date\n",
              "2019-01-02    5.627229\n",
              "2019-01-03    5.510199\n",
              "Name: High, dtype: float64"
            ]
          },
          "metadata": {},
          "execution_count": 33
        }
      ]
    },
    {
      "cell_type": "markdown",
      "source": [
        "My own example 57"
      ],
      "metadata": {
        "id": "zzhWs1VpKIFC"
      }
    },
    {
      "cell_type": "code",
      "source": [
        "rolling_mean = prices.rolling(10).mean()\n",
        "rolling_mean.columns = prices.columns\n",
        "rolling_mean"
      ],
      "metadata": {
        "colab": {
          "base_uri": "https://localhost:8080/",
          "height": 455
        },
        "id": "cMvaq3EgJOzD",
        "outputId": "cb204880-ad58-42c6-8603-14084ceb4293"
      },
      "execution_count": null,
      "outputs": [
        {
          "output_type": "execute_result",
          "data": {
            "text/plain": [
              "                Open      High       Low     Close      Volume  Dividends  \\\n",
              "Date                                                                        \n",
              "2019-01-02       NaN       NaN       NaN       NaN         NaN        NaN   \n",
              "2019-01-03       NaN       NaN       NaN       NaN         NaN        NaN   \n",
              "2019-01-04       NaN       NaN       NaN       NaN         NaN        NaN   \n",
              "2019-01-07       NaN       NaN       NaN       NaN         NaN        NaN   \n",
              "2019-01-08       NaN       NaN       NaN       NaN         NaN        NaN   \n",
              "...              ...       ...       ...       ...         ...        ...   \n",
              "2019-12-24  3.564087  3.588983  3.539192  3.567075  16378710.0        0.0   \n",
              "2019-12-26  3.582012  3.605913  3.557117  3.582012  16090570.0        0.0   \n",
              "2019-12-27  3.592967  3.610892  3.568071  3.587987  14708280.0        0.0   \n",
              "2019-12-30  3.599937  3.620850  3.579025  3.604917  15366810.0        0.0   \n",
              "2019-12-31  3.611887  3.633796  3.591971  3.616867  15493240.0        0.0   \n",
              "\n",
              "            Stock Splits  \n",
              "Date                      \n",
              "2019-01-02           NaN  \n",
              "2019-01-03           NaN  \n",
              "2019-01-04           NaN  \n",
              "2019-01-07           NaN  \n",
              "2019-01-08           NaN  \n",
              "...                  ...  \n",
              "2019-12-24           0.0  \n",
              "2019-12-26           0.0  \n",
              "2019-12-27           0.0  \n",
              "2019-12-30           0.0  \n",
              "2019-12-31           0.0  \n",
              "\n",
              "[252 rows x 7 columns]"
            ],
            "text/html": [
              "\n",
              "  <div id=\"df-95618834-20b6-4d81-b5e3-95a62aa7097f\">\n",
              "    <div class=\"colab-df-container\">\n",
              "      <div>\n",
              "<style scoped>\n",
              "    .dataframe tbody tr th:only-of-type {\n",
              "        vertical-align: middle;\n",
              "    }\n",
              "\n",
              "    .dataframe tbody tr th {\n",
              "        vertical-align: top;\n",
              "    }\n",
              "\n",
              "    .dataframe thead th {\n",
              "        text-align: right;\n",
              "    }\n",
              "</style>\n",
              "<table border=\"1\" class=\"dataframe\">\n",
              "  <thead>\n",
              "    <tr style=\"text-align: right;\">\n",
              "      <th></th>\n",
              "      <th>Open</th>\n",
              "      <th>High</th>\n",
              "      <th>Low</th>\n",
              "      <th>Close</th>\n",
              "      <th>Volume</th>\n",
              "      <th>Dividends</th>\n",
              "      <th>Stock Splits</th>\n",
              "    </tr>\n",
              "    <tr>\n",
              "      <th>Date</th>\n",
              "      <th></th>\n",
              "      <th></th>\n",
              "      <th></th>\n",
              "      <th></th>\n",
              "      <th></th>\n",
              "      <th></th>\n",
              "      <th></th>\n",
              "    </tr>\n",
              "  </thead>\n",
              "  <tbody>\n",
              "    <tr>\n",
              "      <th>2019-01-02</th>\n",
              "      <td>NaN</td>\n",
              "      <td>NaN</td>\n",
              "      <td>NaN</td>\n",
              "      <td>NaN</td>\n",
              "      <td>NaN</td>\n",
              "      <td>NaN</td>\n",
              "      <td>NaN</td>\n",
              "    </tr>\n",
              "    <tr>\n",
              "      <th>2019-01-03</th>\n",
              "      <td>NaN</td>\n",
              "      <td>NaN</td>\n",
              "      <td>NaN</td>\n",
              "      <td>NaN</td>\n",
              "      <td>NaN</td>\n",
              "      <td>NaN</td>\n",
              "      <td>NaN</td>\n",
              "    </tr>\n",
              "    <tr>\n",
              "      <th>2019-01-04</th>\n",
              "      <td>NaN</td>\n",
              "      <td>NaN</td>\n",
              "      <td>NaN</td>\n",
              "      <td>NaN</td>\n",
              "      <td>NaN</td>\n",
              "      <td>NaN</td>\n",
              "      <td>NaN</td>\n",
              "    </tr>\n",
              "    <tr>\n",
              "      <th>2019-01-07</th>\n",
              "      <td>NaN</td>\n",
              "      <td>NaN</td>\n",
              "      <td>NaN</td>\n",
              "      <td>NaN</td>\n",
              "      <td>NaN</td>\n",
              "      <td>NaN</td>\n",
              "      <td>NaN</td>\n",
              "    </tr>\n",
              "    <tr>\n",
              "      <th>2019-01-08</th>\n",
              "      <td>NaN</td>\n",
              "      <td>NaN</td>\n",
              "      <td>NaN</td>\n",
              "      <td>NaN</td>\n",
              "      <td>NaN</td>\n",
              "      <td>NaN</td>\n",
              "      <td>NaN</td>\n",
              "    </tr>\n",
              "    <tr>\n",
              "      <th>...</th>\n",
              "      <td>...</td>\n",
              "      <td>...</td>\n",
              "      <td>...</td>\n",
              "      <td>...</td>\n",
              "      <td>...</td>\n",
              "      <td>...</td>\n",
              "      <td>...</td>\n",
              "    </tr>\n",
              "    <tr>\n",
              "      <th>2019-12-24</th>\n",
              "      <td>3.564087</td>\n",
              "      <td>3.588983</td>\n",
              "      <td>3.539192</td>\n",
              "      <td>3.567075</td>\n",
              "      <td>16378710.0</td>\n",
              "      <td>0.0</td>\n",
              "      <td>0.0</td>\n",
              "    </tr>\n",
              "    <tr>\n",
              "      <th>2019-12-26</th>\n",
              "      <td>3.582012</td>\n",
              "      <td>3.605913</td>\n",
              "      <td>3.557117</td>\n",
              "      <td>3.582012</td>\n",
              "      <td>16090570.0</td>\n",
              "      <td>0.0</td>\n",
              "      <td>0.0</td>\n",
              "    </tr>\n",
              "    <tr>\n",
              "      <th>2019-12-27</th>\n",
              "      <td>3.592967</td>\n",
              "      <td>3.610892</td>\n",
              "      <td>3.568071</td>\n",
              "      <td>3.587987</td>\n",
              "      <td>14708280.0</td>\n",
              "      <td>0.0</td>\n",
              "      <td>0.0</td>\n",
              "    </tr>\n",
              "    <tr>\n",
              "      <th>2019-12-30</th>\n",
              "      <td>3.599937</td>\n",
              "      <td>3.620850</td>\n",
              "      <td>3.579025</td>\n",
              "      <td>3.604917</td>\n",
              "      <td>15366810.0</td>\n",
              "      <td>0.0</td>\n",
              "      <td>0.0</td>\n",
              "    </tr>\n",
              "    <tr>\n",
              "      <th>2019-12-31</th>\n",
              "      <td>3.611887</td>\n",
              "      <td>3.633796</td>\n",
              "      <td>3.591971</td>\n",
              "      <td>3.616867</td>\n",
              "      <td>15493240.0</td>\n",
              "      <td>0.0</td>\n",
              "      <td>0.0</td>\n",
              "    </tr>\n",
              "  </tbody>\n",
              "</table>\n",
              "<p>252 rows × 7 columns</p>\n",
              "</div>\n",
              "      <button class=\"colab-df-convert\" onclick=\"convertToInteractive('df-95618834-20b6-4d81-b5e3-95a62aa7097f')\"\n",
              "              title=\"Convert this dataframe to an interactive table.\"\n",
              "              style=\"display:none;\">\n",
              "        \n",
              "  <svg xmlns=\"http://www.w3.org/2000/svg\" height=\"24px\"viewBox=\"0 0 24 24\"\n",
              "       width=\"24px\">\n",
              "    <path d=\"M0 0h24v24H0V0z\" fill=\"none\"/>\n",
              "    <path d=\"M18.56 5.44l.94 2.06.94-2.06 2.06-.94-2.06-.94-.94-2.06-.94 2.06-2.06.94zm-11 1L8.5 8.5l.94-2.06 2.06-.94-2.06-.94L8.5 2.5l-.94 2.06-2.06.94zm10 10l.94 2.06.94-2.06 2.06-.94-2.06-.94-.94-2.06-.94 2.06-2.06.94z\"/><path d=\"M17.41 7.96l-1.37-1.37c-.4-.4-.92-.59-1.43-.59-.52 0-1.04.2-1.43.59L10.3 9.45l-7.72 7.72c-.78.78-.78 2.05 0 2.83L4 21.41c.39.39.9.59 1.41.59.51 0 1.02-.2 1.41-.59l7.78-7.78 2.81-2.81c.8-.78.8-2.07 0-2.86zM5.41 20L4 18.59l7.72-7.72 1.47 1.35L5.41 20z\"/>\n",
              "  </svg>\n",
              "      </button>\n",
              "      \n",
              "  <style>\n",
              "    .colab-df-container {\n",
              "      display:flex;\n",
              "      flex-wrap:wrap;\n",
              "      gap: 12px;\n",
              "    }\n",
              "\n",
              "    .colab-df-convert {\n",
              "      background-color: #E8F0FE;\n",
              "      border: none;\n",
              "      border-radius: 50%;\n",
              "      cursor: pointer;\n",
              "      display: none;\n",
              "      fill: #1967D2;\n",
              "      height: 32px;\n",
              "      padding: 0 0 0 0;\n",
              "      width: 32px;\n",
              "    }\n",
              "\n",
              "    .colab-df-convert:hover {\n",
              "      background-color: #E2EBFA;\n",
              "      box-shadow: 0px 1px 2px rgba(60, 64, 67, 0.3), 0px 1px 3px 1px rgba(60, 64, 67, 0.15);\n",
              "      fill: #174EA6;\n",
              "    }\n",
              "\n",
              "    [theme=dark] .colab-df-convert {\n",
              "      background-color: #3B4455;\n",
              "      fill: #D2E3FC;\n",
              "    }\n",
              "\n",
              "    [theme=dark] .colab-df-convert:hover {\n",
              "      background-color: #434B5C;\n",
              "      box-shadow: 0px 1px 3px 1px rgba(0, 0, 0, 0.15);\n",
              "      filter: drop-shadow(0px 1px 2px rgba(0, 0, 0, 0.3));\n",
              "      fill: #FFFFFF;\n",
              "    }\n",
              "  </style>\n",
              "\n",
              "      <script>\n",
              "        const buttonEl =\n",
              "          document.querySelector('#df-95618834-20b6-4d81-b5e3-95a62aa7097f button.colab-df-convert');\n",
              "        buttonEl.style.display =\n",
              "          google.colab.kernel.accessAllowed ? 'block' : 'none';\n",
              "\n",
              "        async function convertToInteractive(key) {\n",
              "          const element = document.querySelector('#df-95618834-20b6-4d81-b5e3-95a62aa7097f');\n",
              "          const dataTable =\n",
              "            await google.colab.kernel.invokeFunction('convertToInteractive',\n",
              "                                                     [key], {});\n",
              "          if (!dataTable) return;\n",
              "\n",
              "          const docLinkHtml = 'Like what you see? Visit the ' +\n",
              "            '<a target=\"_blank\" href=https://colab.research.google.com/notebooks/data_table.ipynb>data table notebook</a>'\n",
              "            + ' to learn more about interactive tables.';\n",
              "          element.innerHTML = '';\n",
              "          dataTable['output_type'] = 'display_data';\n",
              "          await google.colab.output.renderOutput(dataTable, element);\n",
              "          const docLink = document.createElement('div');\n",
              "          docLink.innerHTML = docLinkHtml;\n",
              "          element.appendChild(docLink);\n",
              "        }\n",
              "      </script>\n",
              "    </div>\n",
              "  </div>\n",
              "  "
            ]
          },
          "metadata": {},
          "execution_count": 34
        }
      ]
    },
    {
      "cell_type": "markdown",
      "source": [
        "My own example 58"
      ],
      "metadata": {
        "id": "5CzVOGDpKRX4"
      }
    },
    {
      "cell_type": "code",
      "source": [
        "rolling_mean.plot()\n",
        "plt.title(\"Rolling Mean of Prices\")\n",
        "plt.xlabel(\"Date\")\n",
        "plt.ylabel(\"Price\")\n",
        "plt.legend();"
      ],
      "metadata": {
        "colab": {
          "base_uri": "https://localhost:8080/",
          "height": 293
        },
        "id": "URX-WUfzKGJh",
        "outputId": "62e48c0c-fa11-4b38-e62e-4acc6693bbd1"
      },
      "execution_count": null,
      "outputs": [
        {
          "output_type": "display_data",
          "data": {
            "text/plain": [
              "<Figure size 432x288 with 1 Axes>"
            ],
            "image/png": "[encoded data removed]"
          },
          "metadata": {
            "needs_background": "light"
          }
        }
      ]
    },
    {
      "cell_type": "markdown",
      "source": [
        "My own example 59"
      ],
      "metadata": {
        "id": "IlqfysYeKuU7"
      }
    },
    {
      "cell_type": "code",
      "source": [
        "prices.loc['2019-12-15':'2020-1-22']"
      ],
      "metadata": {
        "colab": {
          "base_uri": "https://localhost:8080/",
          "height": 426
        },
        "id": "UfaF-HdzKP5n",
        "outputId": "95acfb43-c992-4b37-a9fc-219cbd306303"
      },
      "execution_count": null,
      "outputs": [
        {
          "output_type": "execute_result",
          "data": {
            "text/plain": [
              "                Open      High       Low     Close    Volume  Dividends  \\\n",
              "Date                                                                      \n",
              "2019-12-16  3.565083  3.585000  3.545167  3.575042  13082000        0.0   \n",
              "2019-12-17  3.614875  3.614875  3.585000  3.585000  17659100        0.0   \n",
              "2019-12-18  3.594958  3.604917  3.565083  3.585000  16100900        0.0   \n",
              "2019-12-19  3.594958  3.614875  3.555125  3.575042  16346200        0.0   \n",
              "2019-12-20  3.585000  3.594958  3.555125  3.594958  21917300        0.0   \n",
              "2019-12-23  3.594958  3.624833  3.575041  3.624833  16354800        0.0   \n",
              "2019-12-24  3.604917  3.624833  3.594958  3.614875   6768300        0.0   \n",
              "2019-12-26  3.614875  3.624833  3.604917  3.604917   9053900        0.0   \n",
              "2019-12-27  3.594958  3.614875  3.594958  3.614875   9342100        0.0   \n",
              "2019-12-30  3.634792  3.704500  3.614875  3.674625  27043500        0.0   \n",
              "2019-12-31  3.684583  3.714458  3.674625  3.694542  14346300        0.0   \n",
              "\n",
              "            Stock Splits  \n",
              "Date                      \n",
              "2019-12-16             0  \n",
              "2019-12-17             0  \n",
              "2019-12-18             0  \n",
              "2019-12-19             0  \n",
              "2019-12-20             0  \n",
              "2019-12-23             0  \n",
              "2019-12-24             0  \n",
              "2019-12-26             0  \n",
              "2019-12-27             0  \n",
              "2019-12-30             0  \n",
              "2019-12-31             0  "
            ],
            "text/html": [
              "\n",
              "  <div id=\"df-91c3ed79-694a-48cb-a665-df7dad05fb27\">\n",
              "    <div class=\"colab-df-container\">\n",
              "      <div>\n",
              "<style scoped>\n",
              "    .dataframe tbody tr th:only-of-type {\n",
              "        vertical-align: middle;\n",
              "    }\n",
              "\n",
              "    .dataframe tbody tr th {\n",
              "        vertical-align: top;\n",
              "    }\n",
              "\n",
              "    .dataframe thead th {\n",
              "        text-align: right;\n",
              "    }\n",
              "</style>\n",
              "<table border=\"1\" class=\"dataframe\">\n",
              "  <thead>\n",
              "    <tr style=\"text-align: right;\">\n",
              "      <th></th>\n",
              "      <th>Open</th>\n",
              "      <th>High</th>\n",
              "      <th>Low</th>\n",
              "      <th>Close</th>\n",
              "      <th>Volume</th>\n",
              "      <th>Dividends</th>\n",
              "      <th>Stock Splits</th>\n",
              "    </tr>\n",
              "    <tr>\n",
              "      <th>Date</th>\n",
              "      <th></th>\n",
              "      <th></th>\n",
              "      <th></th>\n",
              "      <th></th>\n",
              "      <th></th>\n",
              "      <th></th>\n",
              "      <th></th>\n",
              "    </tr>\n",
              "  </thead>\n",
              "  <tbody>\n",
              "    <tr>\n",
              "      <th>2019-12-16</th>\n",
              "      <td>3.565083</td>\n",
              "      <td>3.585000</td>\n",
              "      <td>3.545167</td>\n",
              "      <td>3.575042</td>\n",
              "      <td>13082000</td>\n",
              "      <td>0.0</td>\n",
              "      <td>0</td>\n",
              "    </tr>\n",
              "    <tr>\n",
              "      <th>2019-12-17</th>\n",
              "      <td>3.614875</td>\n",
              "      <td>3.614875</td>\n",
              "      <td>3.585000</td>\n",
              "      <td>3.585000</td>\n",
              "      <td>17659100</td>\n",
              "      <td>0.0</td>\n",
              "      <td>0</td>\n",
              "    </tr>\n",
              "    <tr>\n",
              "      <th>2019-12-18</th>\n",
              "      <td>3.594958</td>\n",
              "      <td>3.604917</td>\n",
              "      <td>3.565083</td>\n",
              "      <td>3.585000</td>\n",
              "      <td>16100900</td>\n",
              "      <td>0.0</td>\n",
              "      <td>0</td>\n",
              "    </tr>\n",
              "    <tr>\n",
              "      <th>2019-12-19</th>\n",
              "      <td>3.594958</td>\n",
              "      <td>3.614875</td>\n",
              "      <td>3.555125</td>\n",
              "      <td>3.575042</td>\n",
              "      <td>16346200</td>\n",
              "      <td>0.0</td>\n",
              "      <td>0</td>\n",
              "    </tr>\n",
              "    <tr>\n",
              "      <th>2019-12-20</th>\n",
              "      <td>3.585000</td>\n",
              "      <td>3.594958</td>\n",
              "      <td>3.555125</td>\n",
              "      <td>3.594958</td>\n",
              "      <td>21917300</td>\n",
              "      <td>0.0</td>\n",
              "      <td>0</td>\n",
              "    </tr>\n",
              "    <tr>\n",
              "      <th>2019-12-23</th>\n",
              "      <td>3.594958</td>\n",
              "      <td>3.624833</td>\n",
              "      <td>3.575041</td>\n",
              "      <td>3.624833</td>\n",
              "      <td>16354800</td>\n",
              "      <td>0.0</td>\n",
              "      <td>0</td>\n",
              "    </tr>\n",
              "    <tr>\n",
              "      <th>2019-12-24</th>\n",
              "      <td>3.604917</td>\n",
              "      <td>3.624833</td>\n",
              "      <td>3.594958</td>\n",
              "      <td>3.614875</td>\n",
              "      <td>6768300</td>\n",
              "      <td>0.0</td>\n",
              "      <td>0</td>\n",
              "    </tr>\n",
              "    <tr>\n",
              "      <th>2019-12-26</th>\n",
              "      <td>3.614875</td>\n",
              "      <td>3.624833</td>\n",
              "      <td>3.604917</td>\n",
              "      <td>3.604917</td>\n",
              "      <td>9053900</td>\n",
              "      <td>0.0</td>\n",
              "      <td>0</td>\n",
              "    </tr>\n",
              "    <tr>\n",
              "      <th>2019-12-27</th>\n",
              "      <td>3.594958</td>\n",
              "      <td>3.614875</td>\n",
              "      <td>3.594958</td>\n",
              "      <td>3.614875</td>\n",
              "      <td>9342100</td>\n",
              "      <td>0.0</td>\n",
              "      <td>0</td>\n",
              "    </tr>\n",
              "    <tr>\n",
              "      <th>2019-12-30</th>\n",
              "      <td>3.634792</td>\n",
              "      <td>3.704500</td>\n",
              "      <td>3.614875</td>\n",
              "      <td>3.674625</td>\n",
              "      <td>27043500</td>\n",
              "      <td>0.0</td>\n",
              "      <td>0</td>\n",
              "    </tr>\n",
              "    <tr>\n",
              "      <th>2019-12-31</th>\n",
              "      <td>3.684583</td>\n",
              "      <td>3.714458</td>\n",
              "      <td>3.674625</td>\n",
              "      <td>3.694542</td>\n",
              "      <td>14346300</td>\n",
              "      <td>0.0</td>\n",
              "      <td>0</td>\n",
              "    </tr>\n",
              "  </tbody>\n",
              "</table>\n",
              "</div>\n",
              "      <button class=\"colab-df-convert\" onclick=\"convertToInteractive('df-91c3ed79-694a-48cb-a665-df7dad05fb27')\"\n",
              "              title=\"Convert this dataframe to an interactive table.\"\n",
              "              style=\"display:none;\">\n",
              "        \n",
              "  <svg xmlns=\"http://www.w3.org/2000/svg\" height=\"24px\"viewBox=\"0 0 24 24\"\n",
              "       width=\"24px\">\n",
              "    <path d=\"M0 0h24v24H0V0z\" fill=\"none\"/>\n",
              "    <path d=\"M18.56 5.44l.94 2.06.94-2.06 2.06-.94-2.06-.94-.94-2.06-.94 2.06-2.06.94zm-11 1L8.5 8.5l.94-2.06 2.06-.94-2.06-.94L8.5 2.5l-.94 2.06-2.06.94zm10 10l.94 2.06.94-2.06 2.06-.94-2.06-.94-.94-2.06-.94 2.06-2.06.94z\"/><path d=\"M17.41 7.96l-1.37-1.37c-.4-.4-.92-.59-1.43-.59-.52 0-1.04.2-1.43.59L10.3 9.45l-7.72 7.72c-.78.78-.78 2.05 0 2.83L4 21.41c.39.39.9.59 1.41.59.51 0 1.02-.2 1.41-.59l7.78-7.78 2.81-2.81c.8-.78.8-2.07 0-2.86zM5.41 20L4 18.59l7.72-7.72 1.47 1.35L5.41 20z\"/>\n",
              "  </svg>\n",
              "      </button>\n",
              "      \n",
              "  <style>\n",
              "    .colab-df-container {\n",
              "      display:flex;\n",
              "      flex-wrap:wrap;\n",
              "      gap: 12px;\n",
              "    }\n",
              "\n",
              "    .colab-df-convert {\n",
              "      background-color: #E8F0FE;\n",
              "      border: none;\n",
              "      border-radius: 50%;\n",
              "      cursor: pointer;\n",
              "      display: none;\n",
              "      fill: #1967D2;\n",
              "      height: 32px;\n",
              "      padding: 0 0 0 0;\n",
              "      width: 32px;\n",
              "    }\n",
              "\n",
              "    .colab-df-convert:hover {\n",
              "      background-color: #E2EBFA;\n",
              "      box-shadow: 0px 1px 2px rgba(60, 64, 67, 0.3), 0px 1px 3px 1px rgba(60, 64, 67, 0.15);\n",
              "      fill: #174EA6;\n",
              "    }\n",
              "\n",
              "    [theme=dark] .colab-df-convert {\n",
              "      background-color: #3B4455;\n",
              "      fill: #D2E3FC;\n",
              "    }\n",
              "\n",
              "    [theme=dark] .colab-df-convert:hover {\n",
              "      background-color: #434B5C;\n",
              "      box-shadow: 0px 1px 3px 1px rgba(0, 0, 0, 0.15);\n",
              "      filter: drop-shadow(0px 1px 2px rgba(0, 0, 0, 0.3));\n",
              "      fill: #FFFFFF;\n",
              "    }\n",
              "  </style>\n",
              "\n",
              "      <script>\n",
              "        const buttonEl =\n",
              "          document.querySelector('#df-91c3ed79-694a-48cb-a665-df7dad05fb27 button.colab-df-convert');\n",
              "        buttonEl.style.display =\n",
              "          google.colab.kernel.accessAllowed ? 'block' : 'none';\n",
              "\n",
              "        async function convertToInteractive(key) {\n",
              "          const element = document.querySelector('#df-91c3ed79-694a-48cb-a665-df7dad05fb27');\n",
              "          const dataTable =\n",
              "            await google.colab.kernel.invokeFunction('convertToInteractive',\n",
              "                                                     [key], {});\n",
              "          if (!dataTable) return;\n",
              "\n",
              "          const docLinkHtml = 'Like what you see? Visit the ' +\n",
              "            '<a target=\"_blank\" href=https://colab.research.google.com/notebooks/data_table.ipynb>data table notebook</a>'\n",
              "            + ' to learn more about interactive tables.';\n",
              "          element.innerHTML = '';\n",
              "          dataTable['output_type'] = 'display_data';\n",
              "          await google.colab.output.renderOutput(dataTable, element);\n",
              "          const docLink = document.createElement('div');\n",
              "          docLink.innerHTML = docLinkHtml;\n",
              "          element.appendChild(docLink);\n",
              "        }\n",
              "      </script>\n",
              "    </div>\n",
              "  </div>\n",
              "  "
            ]
          },
          "metadata": {},
          "execution_count": 38
        }
      ]
    },
    {
      "cell_type": "markdown",
      "source": [
        "My own example 60"
      ],
      "metadata": {
        "id": "lzD-7MPlKyV_"
      }
    },
    {
      "cell_type": "code",
      "source": [
        "print (np.median(prices))"
      ],
      "metadata": {
        "colab": {
          "base_uri": "https://localhost:8080/"
        },
        "id": "9325XzQWK8x3",
        "outputId": "6f6d37d4-0b6c-4a4c-ba2c-1a5ab398d6f1"
      },
      "execution_count": null,
      "outputs": [
        {
          "output_type": "stream",
          "name": "stdout",
          "text": [
            "4.979724155407554\n"
          ]
        }
      ]
    },
    {
      "cell_type": "code",
      "source": [
        "print (np.std(prices))"
      ],
      "metadata": {
        "colab": {
          "base_uri": "https://localhost:8080/"
        },
        "id": "vPaRgMNtMIar",
        "outputId": "a0948fa0-b11d-44ba-ff6e-f18d9978265a"
      },
      "execution_count": null,
      "outputs": [
        {
          "output_type": "stream",
          "name": "stdout",
          "text": [
            "Open            8.258666e-01\n",
            "High            8.337228e-01\n",
            "Low             8.207717e-01\n",
            "Close           8.305894e-01\n",
            "Volume          1.955938e+07\n",
            "Dividends       4.969040e-03\n",
            "Stock Splits    0.000000e+00\n",
            "dtype: float64\n"
          ]
        }
      ]
    },
    {
      "cell_type": "markdown",
      "source": [
        "INTRODUCTION TO NUMPY"
      ],
      "metadata": {
        "id": "2vJGaRFJM7A8"
      }
    },
    {
      "cell_type": "markdown",
      "source": [
        "My own example 61"
      ],
      "metadata": {
        "id": "aD4woFbbcKCZ"
      }
    },
    {
      "cell_type": "code",
      "source": [
        "import numpy as np\n",
        "import matplotlib.pyplot as plt\n",
        "portafolio = [5.2, 10, 9, 8, 3.5]\n",
        "lukas = np.array(portafolio)\n",
        "print (lukas), type(lukas)"
      ],
      "metadata": {
        "colab": {
          "base_uri": "https://localhost:8080/"
        },
        "id": "QSrYt9TTcIVE",
        "outputId": "f4f7f120-4dfc-4cd9-fc00-123cd3fe3ac6"
      },
      "execution_count": null,
      "outputs": [
        {
          "output_type": "stream",
          "name": "stdout",
          "text": [
            "[ 5.2 10.   9.   8.   3.5]\n"
          ]
        },
        {
          "output_type": "execute_result",
          "data": {
            "text/plain": [
              "(None, numpy.ndarray)"
            ]
          },
          "metadata": {},
          "execution_count": 45
        }
      ]
    },
    {
      "cell_type": "markdown",
      "source": [
        "My own example 62"
      ],
      "metadata": {
        "id": "RzVAtMmpdA_y"
      }
    },
    {
      "cell_type": "code",
      "source": [
        "A = np.array([[1, 2, 3], [3, 4, 5]])\n",
        "print (A), type(A)"
      ],
      "metadata": {
        "colab": {
          "base_uri": "https://localhost:8080/"
        },
        "id": "5D-VLlOvc8kh",
        "outputId": "2bed35e4-291f-4fde-f2c2-4fb86856fc0e"
      },
      "execution_count": null,
      "outputs": [
        {
          "output_type": "stream",
          "name": "stdout",
          "text": [
            "[[1 2 3]\n",
            " [3 4 5]]\n"
          ]
        },
        {
          "output_type": "execute_result",
          "data": {
            "text/plain": [
              "(None, numpy.ndarray)"
            ]
          },
          "metadata": {},
          "execution_count": 46
        }
      ]
    },
    {
      "cell_type": "code",
      "source": [
        "print (A.shape)"
      ],
      "metadata": {
        "colab": {
          "base_uri": "https://localhost:8080/"
        },
        "id": "-y80jxJldRly",
        "outputId": "5a443502-5185-42c4-f4fc-38f9bffc07bc"
      },
      "execution_count": null,
      "outputs": [
        {
          "output_type": "stream",
          "name": "stdout",
          "text": [
            "(2, 3)\n"
          ]
        }
      ]
    },
    {
      "cell_type": "markdown",
      "source": [
        "My own example 63"
      ],
      "metadata": {
        "id": "8F2nqiaVdZtn"
      }
    },
    {
      "cell_type": "code",
      "source": [
        "print (lukas[0], lukas[len(lukas) - 2])"
      ],
      "metadata": {
        "colab": {
          "base_uri": "https://localhost:8080/"
        },
        "id": "2GErtlaNdWUy",
        "outputId": "42c625da-2db5-4b4e-a8b9-db2141c4e0b6"
      },
      "execution_count": null,
      "outputs": [
        {
          "output_type": "stream",
          "name": "stdout",
          "text": [
            "5.2 8.0\n"
          ]
        }
      ]
    },
    {
      "cell_type": "code",
      "source": [
        "print (lukas[0:2])"
      ],
      "metadata": {
        "colab": {
          "base_uri": "https://localhost:8080/"
        },
        "id": "bs2x6RR_dyyq",
        "outputId": "a8cb753f-086e-4467-bf54-8321a7168792"
      },
      "execution_count": null,
      "outputs": [
        {
          "output_type": "stream",
          "name": "stdout",
          "text": [
            "[ 5.2 10. ]\n"
          ]
        }
      ]
    },
    {
      "cell_type": "markdown",
      "source": [
        "My own example 64"
      ],
      "metadata": {
        "id": "AGjS6Eiqd8gu"
      }
    },
    {
      "cell_type": "code",
      "source": [
        "print (A[:, 0])"
      ],
      "metadata": {
        "colab": {
          "base_uri": "https://localhost:8080/"
        },
        "id": "oNecTZjFd43C",
        "outputId": "265e80ba-52a9-4812-aaba-5698bc232058"
      },
      "execution_count": null,
      "outputs": [
        {
          "output_type": "stream",
          "name": "stdout",
          "text": [
            "[1 3]\n"
          ]
        }
      ]
    },
    {
      "cell_type": "code",
      "source": [
        "print (A[0, :])"
      ],
      "metadata": {
        "colab": {
          "base_uri": "https://localhost:8080/"
        },
        "id": "YHo6tO24eI00",
        "outputId": "ed68da1e-a6a9-43a9-a829-549993212d12"
      },
      "execution_count": null,
      "outputs": [
        {
          "output_type": "stream",
          "name": "stdout",
          "text": [
            "[1 2 3]\n"
          ]
        }
      ]
    },
    {
      "cell_type": "markdown",
      "source": [
        "My own example 65"
      ],
      "metadata": {
        "id": "GIVIsoEweWhb"
      }
    },
    {
      "cell_type": "code",
      "source": [
        "print (np.log(lukas))"
      ],
      "metadata": {
        "colab": {
          "base_uri": "https://localhost:8080/"
        },
        "id": "s2xkpHNAeNdb",
        "outputId": "73ab19a2-39d1-4022-a13b-26fc1a060ad9"
      },
      "execution_count": null,
      "outputs": [
        {
          "output_type": "stream",
          "name": "stdout",
          "text": [
            "[1.64865863 2.30258509 2.19722458 2.07944154 1.25276297]\n"
          ]
        }
      ]
    },
    {
      "cell_type": "code",
      "source": [
        "print (np.mean(lukas))"
      ],
      "metadata": {
        "colab": {
          "base_uri": "https://localhost:8080/"
        },
        "id": "M9WbhEYSei0p",
        "outputId": "077b3f23-367c-448a-d7af-a87ba57c5dbe"
      },
      "execution_count": null,
      "outputs": [
        {
          "output_type": "stream",
          "name": "stdout",
          "text": [
            "7.140000000000001\n"
          ]
        }
      ]
    },
    {
      "cell_type": "code",
      "source": [
        "print (np.max(lukas))"
      ],
      "metadata": {
        "colab": {
          "base_uri": "https://localhost:8080/"
        },
        "id": "Hs8x0mG9exb1",
        "outputId": "93613c35-119c-4881-bf27-b435c19c8746"
      },
      "execution_count": null,
      "outputs": [
        {
          "output_type": "stream",
          "name": "stdout",
          "text": [
            "10.0\n"
          ]
        }
      ]
    },
    {
      "cell_type": "markdown",
      "source": [
        "My own example 66"
      ],
      "metadata": {
        "id": "5y7Cva_leqfL"
      }
    },
    {
      "cell_type": "code",
      "source": [
        "lukas*2 + 5"
      ],
      "metadata": {
        "colab": {
          "base_uri": "https://localhost:8080/"
        },
        "id": "tAQQl8f2epi3",
        "outputId": "c0aa17d1-2c5a-4c21-c7c6-b5cc98f50240"
      },
      "execution_count": null,
      "outputs": [
        {
          "output_type": "execute_result",
          "data": {
            "text/plain": [
              "array([15.4, 25. , 23. , 21. , 12. ])"
            ]
          },
          "metadata": {},
          "execution_count": 58
        }
      ]
    },
    {
      "cell_type": "code",
      "source": [
        "np.std(lukas)"
      ],
      "metadata": {
        "colab": {
          "base_uri": "https://localhost:8080/"
        },
        "id": "zpKJ2-U0e-Gv",
        "outputId": "5e7fea02-c525-44f6-f15c-34dd9f98caa0"
      },
      "execution_count": null,
      "outputs": [
        {
          "output_type": "execute_result",
          "data": {
            "text/plain": [
              "2.424541193710678"
            ]
          },
          "metadata": {},
          "execution_count": 59
        }
      ]
    },
    {
      "cell_type": "markdown",
      "source": [
        "My own example 67"
      ],
      "metadata": {
        "id": "ofp0QnOTfH3D"
      }
    },
    {
      "cell_type": "code",
      "source": [
        "N = 5\n",
        "entr = np.zeros((N, 50))\n",
        "salis = np.zeros((N, 50))\n",
        "R1 = np.random.normal(4, 2.5, 50)\n",
        "salis[0] = R1\n",
        "entr[0] = np.cumprod(R1)\n",
        "for i in range(1, N):\n",
        "    Ri = R1 + np.random.normal(0.001, 0.02, 50)\n",
        "    salis[i] = Ri # Set each row of returns equal to the new R_i array\n",
        "    entr[i] = np.cumprod(Ri)\n",
        "    \n",
        "mean_returns = [(np.mean(R) - 1)*100 for R in salis]\n",
        "return_volatilities = [np.std(R) for R in salis]"
      ],
      "metadata": {
        "id": "sSy3oELFfG5T"
      },
      "execution_count": null,
      "outputs": []
    },
    {
      "cell_type": "code",
      "source": [
        "plt.bar(np.arange(len(mean_returns)), mean_returns)\n",
        "plt.xlabel('Stock')\n",
        "plt.ylabel('Returns')\n",
        "plt.title('Returns for {0} Random Assets'.format(N));"
      ],
      "metadata": {
        "colab": {
          "base_uri": "https://localhost:8080/",
          "height": 295
        },
        "id": "cOdEjtZpgMh9",
        "outputId": "aac8c8df-785a-400c-b7ab-9fe983067b29"
      },
      "execution_count": null,
      "outputs": [
        {
          "output_type": "display_data",
          "data": {
            "text/plain": [
              "<Figure size 432x288 with 1 Axes>"
            ],
            "image/png": "[encoded data removed]"
          },
          "metadata": {
            "needs_background": "light"
          }
        }
      ]
    },
    {
      "cell_type": "markdown",
      "source": [
        "My own example 68"
      ],
      "metadata": {
        "id": "q6f92T9Thh1y"
      }
    },
    {
      "cell_type": "code",
      "source": [
        "weights = np.random.uniform(0, 1, N)\n",
        "weights = weights/np.sum(weights)"
      ],
      "metadata": {
        "id": "4hcLisrzhU6_"
      },
      "execution_count": null,
      "outputs": []
    },
    {
      "cell_type": "code",
      "source": [
        "p_returns = np.dot(weights, mean_returns)\n",
        "print (\"Expected return of the portfolio: \", p_returns)"
      ],
      "metadata": {
        "colab": {
          "base_uri": "https://localhost:8080/"
        },
        "id": "nwr3dL_shu6i",
        "outputId": "c9273d73-a85b-4433-90b1-151cc18d44e0"
      },
      "execution_count": null,
      "outputs": [
        {
          "output_type": "stream",
          "name": "stdout",
          "text": [
            "Expected return of the portfolio:  347.63914453962406\n"
          ]
        }
      ]
    },
    {
      "cell_type": "markdown",
      "source": [
        "My own example 69"
      ],
      "metadata": {
        "id": "87QPsVKviGTM"
      }
    },
    {
      "cell_type": "code",
      "source": [
        "k = np.array([1, 2, np.nan, 4, 5])\n",
        "np.isnan(k)"
      ],
      "metadata": {
        "colab": {
          "base_uri": "https://localhost:8080/"
        },
        "id": "GtXM26V8hzHl",
        "outputId": "8687779d-9402-4c34-e714-76a95c4153e8"
      },
      "execution_count": null,
      "outputs": [
        {
          "output_type": "execute_result",
          "data": {
            "text/plain": [
              "array([False, False,  True, False, False])"
            ]
          },
          "metadata": {},
          "execution_count": 70
        }
      ]
    },
    {
      "cell_type": "code",
      "source": [
        "print (np.nanmean(k))"
      ],
      "metadata": {
        "colab": {
          "base_uri": "https://localhost:8080/"
        },
        "id": "xPZ42MPnjY9C",
        "outputId": "156c2be6-5b1e-4f18-b6a0-1b8da826b772"
      },
      "execution_count": null,
      "outputs": [
        {
          "output_type": "stream",
          "name": "stdout",
          "text": [
            "3.0\n"
          ]
        }
      ]
    },
    {
      "cell_type": "markdown",
      "source": [
        "My own example 70"
      ],
      "metadata": {
        "id": "4m_ilSv7j50L"
      }
    },
    {
      "cell_type": "code",
      "source": [
        "A = np.array([\n",
        "        [1, 2, 3],\n",
        "        [4, 5, 6],\n",
        "        [7, 8, 9]        \n",
        "    ])\n",
        "B = np.array([\n",
        "        [4, 4, 2],\n",
        "        [2, 3, 1],\n",
        "        [6, 5, 8],\n",
        "    ])\n",
        "np.dot(A, B)"
      ],
      "metadata": {
        "colab": {
          "base_uri": "https://localhost:8080/"
        },
        "id": "oiMpHlvkj3-k",
        "outputId": "7e0b4299-b48c-4ca7-b090-392d4be5daa8"
      },
      "execution_count": null,
      "outputs": [
        {
          "output_type": "execute_result",
          "data": {
            "text/plain": [
              "array([[26, 25, 28],\n",
              "       [62, 61, 61],\n",
              "       [98, 97, 94]])"
            ]
          },
          "metadata": {},
          "execution_count": 76
        }
      ]
    },
    {
      "cell_type": "markdown",
      "source": [
        "My own example 71"
      ],
      "metadata": {
        "id": "1eV4sWXCkiZ_"
      }
    },
    {
      "cell_type": "code",
      "source": [
        "np.dot(B, A)"
      ],
      "metadata": {
        "colab": {
          "base_uri": "https://localhost:8080/"
        },
        "id": "SEs_lRXrkQeR",
        "outputId": "740fe06a-1020-4ccc-f128-792a044cd02a"
      },
      "execution_count": null,
      "outputs": [
        {
          "output_type": "execute_result",
          "data": {
            "text/plain": [
              "array([[ 34,  44,  54],\n",
              "       [ 21,  27,  33],\n",
              "       [ 82, 101, 120]])"
            ]
          },
          "metadata": {},
          "execution_count": 78
        }
      ]
    },
    {
      "cell_type": "markdown",
      "source": [
        "My own example 72"
      ],
      "metadata": {
        "id": "S8Ap_dFzkyrH"
      }
    },
    {
      "cell_type": "code",
      "source": [
        "cmat = np.cov(salis)\n",
        "cmat"
      ],
      "metadata": {
        "colab": {
          "base_uri": "https://localhost:8080/"
        },
        "id": "S0Bs2hPskvQd",
        "outputId": "91314e25-c274-4abd-96f7-648eb43b16ec"
      },
      "execution_count": null,
      "outputs": [
        {
          "output_type": "execute_result",
          "data": {
            "text/plain": [
              "array([[7.68521793, 7.68477194, 7.68824736, 7.68278366, 7.68092111],\n",
              "       [7.68477194, 7.68469426, 7.68782314, 7.682452  , 7.68044094],\n",
              "       [7.68824736, 7.68782314, 7.69167884, 7.68581257, 7.68394272],\n",
              "       [7.68278366, 7.682452  , 7.68581257, 7.68068379, 7.67850442],\n",
              "       [7.68092111, 7.68044094, 7.68394272, 7.67850442, 7.67689097]])"
            ]
          },
          "metadata": {},
          "execution_count": 85
        }
      ]
    },
    {
      "cell_type": "code",
      "source": [
        "np.transpose(A)"
      ],
      "metadata": {
        "colab": {
          "base_uri": "https://localhost:8080/"
        },
        "id": "MxXjeFVslhKD",
        "outputId": "b2e48cce-8771-44af-dc68-e5caa75ca4f0"
      },
      "execution_count": null,
      "outputs": [
        {
          "output_type": "execute_result",
          "data": {
            "text/plain": [
              "array([[1, 4, 7],\n",
              "       [2, 5, 8],\n",
              "       [3, 6, 9]])"
            ]
          },
          "metadata": {},
          "execution_count": 86
        }
      ]
    },
    {
      "cell_type": "markdown",
      "source": [
        "My own example 73"
      ],
      "metadata": {
        "id": "e2zuz_ehl0HM"
      }
    },
    {
      "cell_type": "code",
      "source": [
        "var_p = np.dot(np.dot(weights, cmat), weights.T)\n",
        "vol_p = np.sqrt(var_p)\n",
        "vol_p"
      ],
      "metadata": {
        "colab": {
          "base_uri": "https://localhost:8080/"
        },
        "id": "SC2QyaJHlzDg",
        "outputId": "3560734b-4bbb-45a6-da6e-33706571c234"
      },
      "execution_count": null,
      "outputs": [
        {
          "output_type": "execute_result",
          "data": {
            "text/plain": [
              "2.7717568739724467"
            ]
          },
          "metadata": {},
          "execution_count": 87
        }
      ]
    },
    {
      "cell_type": "markdown",
      "source": [
        "My own example 74"
      ],
      "metadata": {
        "id": "azoZFO-qwHY2"
      }
    },
    {
      "cell_type": "code",
      "source": [
        "vol_p_alt = np.sqrt(np.var(np.dot(weights,salis), ddof=1))\n",
        "vol_p_alt"
      ],
      "metadata": {
        "colab": {
          "base_uri": "https://localhost:8080/"
        },
        "id": "LnPkM99YmCuf",
        "outputId": "20b3e9ee-0e8d-4fc5-8e80-bc6a0d57d0d9"
      },
      "execution_count": null,
      "outputs": [
        {
          "output_type": "execute_result",
          "data": {
            "text/plain": [
              "2.771756873972447"
            ]
          },
          "metadata": {},
          "execution_count": 84
        }
      ]
    },
    {
      "cell_type": "markdown",
      "source": [
        "My own example 75"
      ],
      "metadata": {
        "id": "d76FEdhsmmR0"
      }
    },
    {
      "cell_type": "code",
      "source": [
        "precios = [2500, 12000, 5000, 7000]\n",
        "preciosarray = np.array(precios)\n",
        "print(precios, type(preciosarray))"
      ],
      "metadata": {
        "colab": {
          "base_uri": "https://localhost:8080/"
        },
        "id": "2nZM3-o3mK_p",
        "outputId": "5331f8ab-16b9-4b82-d2c4-b4fa81237663"
      },
      "execution_count": null,
      "outputs": [
        {
          "output_type": "stream",
          "name": "stdout",
          "text": [
            "[2500, 12000, 5000, 7000] <class 'numpy.ndarray'>\n"
          ]
        }
      ]
    },
    {
      "cell_type": "markdown",
      "source": [
        "My own example 76"
      ],
      "metadata": {
        "id": "jf53rJtKv2ZJ"
      }
    },
    {
      "cell_type": "code",
      "source": [
        "A = np.array([[1,3,9],[2,4,6]])\n",
        "print(A, type(A))"
      ],
      "metadata": {
        "colab": {
          "base_uri": "https://localhost:8080/"
        },
        "id": "RrxPXrpbnY_0",
        "outputId": "dbeb3396-70f4-4835-e4c3-474e7c3d9b77"
      },
      "execution_count": null,
      "outputs": [
        {
          "output_type": "stream",
          "name": "stdout",
          "text": [
            "[[1 3 9]\n",
            " [2 4 6]] <class 'numpy.ndarray'>\n"
          ]
        }
      ]
    },
    {
      "cell_type": "code",
      "source": [
        "print(A.shape)"
      ],
      "metadata": {
        "colab": {
          "base_uri": "https://localhost:8080/"
        },
        "id": "ny8CH8lnnmr8",
        "outputId": "f50167f5-2f9b-4578-f540-a07dedb72e76"
      },
      "execution_count": null,
      "outputs": [
        {
          "output_type": "stream",
          "name": "stdout",
          "text": [
            "(2, 3)\n"
          ]
        }
      ]
    },
    {
      "cell_type": "markdown",
      "source": [
        "My own example 77"
      ],
      "metadata": {
        "id": "9lJ-3sOcnvSS"
      }
    },
    {
      "cell_type": "code",
      "source": [
        "print(A[1])\n",
        "print(A[0])"
      ],
      "metadata": {
        "colab": {
          "base_uri": "https://localhost:8080/"
        },
        "id": "UNo6P-Snnslg",
        "outputId": "0e7c2f12-b972-49d2-a097-4b696ed76442"
      },
      "execution_count": null,
      "outputs": [
        {
          "output_type": "stream",
          "name": "stdout",
          "text": [
            "[2 4 6]\n",
            "[1 3 9]\n"
          ]
        }
      ]
    },
    {
      "cell_type": "markdown",
      "source": [
        "My own example 78"
      ],
      "metadata": {
        "id": "yurT3LjTwDu6"
      }
    },
    {
      "cell_type": "code",
      "source": [
        "print(A[:,0])\n",
        "print(A[:,1])"
      ],
      "metadata": {
        "colab": {
          "base_uri": "https://localhost:8080/"
        },
        "id": "8gK8lK9loRIi",
        "outputId": "b2b18f39-b25d-4539-ce49-1f2dc8670c45"
      },
      "execution_count": null,
      "outputs": [
        {
          "output_type": "stream",
          "name": "stdout",
          "text": [
            "[1 2]\n",
            "[3 4]\n"
          ]
        }
      ]
    },
    {
      "cell_type": "markdown",
      "source": [
        "My own example 79"
      ],
      "metadata": {
        "id": "lkQVZfpUouvn"
      }
    },
    {
      "cell_type": "code",
      "source": [
        "print(np.mean(precios))\n",
        "print(np.std(precios))"
      ],
      "metadata": {
        "colab": {
          "base_uri": "https://localhost:8080/"
        },
        "id": "9vuUz1ZpooDp",
        "outputId": "85df1548-9ad3-4c59-fad4-c17340b8020f"
      },
      "execution_count": null,
      "outputs": [
        {
          "output_type": "stream",
          "name": "stdout",
          "text": [
            "6625.0\n",
            "3488.8214342382157\n"
          ]
        }
      ]
    },
    {
      "cell_type": "markdown",
      "source": [
        "My own example 80"
      ],
      "metadata": {
        "id": "_HT-Yid6pAhB"
      }
    },
    {
      "cell_type": "code",
      "source": [
        "print(np.sum(precios))\n",
        "print(np.max(precios))"
      ],
      "metadata": {
        "colab": {
          "base_uri": "https://localhost:8080/"
        },
        "id": "qQp2VfWIo_Tg",
        "outputId": "76d56f57-70d1-4d51-966d-65d8d4de8b74"
      },
      "execution_count": null,
      "outputs": [
        {
          "output_type": "stream",
          "name": "stdout",
          "text": [
            "26500\n",
            "12000\n"
          ]
        }
      ]
    },
    {
      "cell_type": "markdown",
      "source": [
        "PLOTTING DATA"
      ],
      "metadata": {
        "id": "sTjqXCLpx7nO"
      }
    },
    {
      "cell_type": "markdown",
      "source": [
        "My own example 81"
      ],
      "metadata": {
        "id": "dD6AJcjoy4r9"
      }
    },
    {
      "cell_type": "code",
      "source": [
        "import yfinance as yf\n",
        "datac = yf.download(\"VALE,NVDA\", start=\"2017-01-01\", end=\"2018-01-01\")\n",
        "datac.head()"
      ],
      "metadata": {
        "colab": {
          "base_uri": "https://localhost:8080/",
          "height": 286
        },
        "id": "zac44vJEvnkK",
        "outputId": "c5fc62a6-c3db-41d7-9198-c2889a735ef6"
      },
      "execution_count": null,
      "outputs": [
        {
          "output_type": "stream",
          "name": "stdout",
          "text": [
            "\r[                       0%                       ]\r[*********************100%***********************]  2 of 2 completed\n"
          ]
        },
        {
          "output_type": "execute_result",
          "data": {
            "text/plain": [
              "            Adj Close                Close             High              Low  \\\n",
              "                 NVDA      VALE       NVDA  VALE       NVDA  VALE       NVDA   \n",
              "Date                                                                           \n",
              "2017-01-03  25.161129  5.584177  25.502501  8.05  26.592501  8.06  24.844999   \n",
              "2017-01-04  25.748169  5.584177  26.097500  8.05  26.375000  8.12  25.382500   \n",
              "2017-01-05  25.094536  5.757599  25.434999  8.30  26.455000  8.40  25.262501   \n",
              "2017-01-06  25.429981  5.542556  25.775000  7.99  26.062500  8.31  25.299999   \n",
              "2017-01-09  26.460993  5.702105  26.820000  8.22  27.000000  8.38  25.875000   \n",
              "\n",
              "                     Open           Volume            \n",
              "            VALE     NVDA  VALE       NVDA      VALE  \n",
              "Date                                                  \n",
              "2017-01-03  7.84  26.1000  7.89  150199600  27690200  \n",
              "2017-01-04  7.84  25.8500  8.03  119922000  15069500  \n",
              "2017-01-05  8.07  26.1325  8.08   98429600  24451400  \n",
              "2017-01-06  7.99  25.7125  8.15   82285600  17527900  \n",
              "2017-01-09  8.20  25.8750  8.31   91624800  20748800  "
            ],
            "text/html": [
              "\n",
              "  <div id=\"df-2fcf9d5c-c385-43ef-a564-4b7ce7480aff\">\n",
              "    <div class=\"colab-df-container\">\n",
              "      <div>\n",
              "<style scoped>\n",
              "    .dataframe tbody tr th:only-of-type {\n",
              "        vertical-align: middle;\n",
              "    }\n",
              "\n",
              "    .dataframe tbody tr th {\n",
              "        vertical-align: top;\n",
              "    }\n",
              "\n",
              "    .dataframe thead tr th {\n",
              "        text-align: left;\n",
              "    }\n",
              "\n",
              "    .dataframe thead tr:last-of-type th {\n",
              "        text-align: right;\n",
              "    }\n",
              "</style>\n",
              "<table border=\"1\" class=\"dataframe\">\n",
              "  <thead>\n",
              "    <tr>\n",
              "      <th></th>\n",
              "      <th colspan=\"2\" halign=\"left\">Adj Close</th>\n",
              "      <th colspan=\"2\" halign=\"left\">Close</th>\n",
              "      <th colspan=\"2\" halign=\"left\">High</th>\n",
              "      <th colspan=\"2\" halign=\"left\">Low</th>\n",
              "      <th colspan=\"2\" halign=\"left\">Open</th>\n",
              "      <th colspan=\"2\" halign=\"left\">Volume</th>\n",
              "    </tr>\n",
              "    <tr>\n",
              "      <th></th>\n",
              "      <th>NVDA</th>\n",
              "      <th>VALE</th>\n",
              "      <th>NVDA</th>\n",
              "      <th>VALE</th>\n",
              "      <th>NVDA</th>\n",
              "      <th>VALE</th>\n",
              "      <th>NVDA</th>\n",
              "      <th>VALE</th>\n",
              "      <th>NVDA</th>\n",
              "      <th>VALE</th>\n",
              "      <th>NVDA</th>\n",
              "      <th>VALE</th>\n",
              "    </tr>\n",
              "    <tr>\n",
              "      <th>Date</th>\n",
              "      <th></th>\n",
              "      <th></th>\n",
              "      <th></th>\n",
              "      <th></th>\n",
              "      <th></th>\n",
              "      <th></th>\n",
              "      <th></th>\n",
              "      <th></th>\n",
              "      <th></th>\n",
              "      <th></th>\n",
              "      <th></th>\n",
              "      <th></th>\n",
              "    </tr>\n",
              "  </thead>\n",
              "  <tbody>\n",
              "    <tr>\n",
              "      <th>2017-01-03</th>\n",
              "      <td>25.161129</td>\n",
              "      <td>5.584177</td>\n",
              "      <td>25.502501</td>\n",
              "      <td>8.05</td>\n",
              "      <td>26.592501</td>\n",
              "      <td>8.06</td>\n",
              "      <td>24.844999</td>\n",
              "      <td>7.84</td>\n",
              "      <td>26.1000</td>\n",
              "      <td>7.89</td>\n",
              "      <td>150199600</td>\n",
              "      <td>27690200</td>\n",
              "    </tr>\n",
              "    <tr>\n",
              "      <th>2017-01-04</th>\n",
              "      <td>25.748169</td>\n",
              "      <td>5.584177</td>\n",
              "      <td>26.097500</td>\n",
              "      <td>8.05</td>\n",
              "      <td>26.375000</td>\n",
              "      <td>8.12</td>\n",
              "      <td>25.382500</td>\n",
              "      <td>7.84</td>\n",
              "      <td>25.8500</td>\n",
              "      <td>8.03</td>\n",
              "      <td>119922000</td>\n",
              "      <td>15069500</td>\n",
              "    </tr>\n",
              "    <tr>\n",
              "      <th>2017-01-05</th>\n",
              "      <td>25.094536</td>\n",
              "      <td>5.757599</td>\n",
              "      <td>25.434999</td>\n",
              "      <td>8.30</td>\n",
              "      <td>26.455000</td>\n",
              "      <td>8.40</td>\n",
              "      <td>25.262501</td>\n",
              "      <td>8.07</td>\n",
              "      <td>26.1325</td>\n",
              "      <td>8.08</td>\n",
              "      <td>98429600</td>\n",
              "      <td>24451400</td>\n",
              "    </tr>\n",
              "    <tr>\n",
              "      <th>2017-01-06</th>\n",
              "      <td>25.429981</td>\n",
              "      <td>5.542556</td>\n",
              "      <td>25.775000</td>\n",
              "      <td>7.99</td>\n",
              "      <td>26.062500</td>\n",
              "      <td>8.31</td>\n",
              "      <td>25.299999</td>\n",
              "      <td>7.99</td>\n",
              "      <td>25.7125</td>\n",
              "      <td>8.15</td>\n",
              "      <td>82285600</td>\n",
              "      <td>17527900</td>\n",
              "    </tr>\n",
              "    <tr>\n",
              "      <th>2017-01-09</th>\n",
              "      <td>26.460993</td>\n",
              "      <td>5.702105</td>\n",
              "      <td>26.820000</td>\n",
              "      <td>8.22</td>\n",
              "      <td>27.000000</td>\n",
              "      <td>8.38</td>\n",
              "      <td>25.875000</td>\n",
              "      <td>8.20</td>\n",
              "      <td>25.8750</td>\n",
              "      <td>8.31</td>\n",
              "      <td>91624800</td>\n",
              "      <td>20748800</td>\n",
              "    </tr>\n",
              "  </tbody>\n",
              "</table>\n",
              "</div>\n",
              "      <button class=\"colab-df-convert\" onclick=\"convertToInteractive('df-2fcf9d5c-c385-43ef-a564-4b7ce7480aff')\"\n",
              "              title=\"Convert this dataframe to an interactive table.\"\n",
              "              style=\"display:none;\">\n",
              "        \n",
              "  <svg xmlns=\"http://www.w3.org/2000/svg\" height=\"24px\"viewBox=\"0 0 24 24\"\n",
              "       width=\"24px\">\n",
              "    <path d=\"M0 0h24v24H0V0z\" fill=\"none\"/>\n",
              "    <path d=\"M18.56 5.44l.94 2.06.94-2.06 2.06-.94-2.06-.94-.94-2.06-.94 2.06-2.06.94zm-11 1L8.5 8.5l.94-2.06 2.06-.94-2.06-.94L8.5 2.5l-.94 2.06-2.06.94zm10 10l.94 2.06.94-2.06 2.06-.94-2.06-.94-.94-2.06-.94 2.06-2.06.94z\"/><path d=\"M17.41 7.96l-1.37-1.37c-.4-.4-.92-.59-1.43-.59-.52 0-1.04.2-1.43.59L10.3 9.45l-7.72 7.72c-.78.78-.78 2.05 0 2.83L4 21.41c.39.39.9.59 1.41.59.51 0 1.02-.2 1.41-.59l7.78-7.78 2.81-2.81c.8-.78.8-2.07 0-2.86zM5.41 20L4 18.59l7.72-7.72 1.47 1.35L5.41 20z\"/>\n",
              "  </svg>\n",
              "      </button>\n",
              "      \n",
              "  <style>\n",
              "    .colab-df-container {\n",
              "      display:flex;\n",
              "      flex-wrap:wrap;\n",
              "      gap: 12px;\n",
              "    }\n",
              "\n",
              "    .colab-df-convert {\n",
              "      background-color: #E8F0FE;\n",
              "      border: none;\n",
              "      border-radius: 50%;\n",
              "      cursor: pointer;\n",
              "      display: none;\n",
              "      fill: #1967D2;\n",
              "      height: 32px;\n",
              "      padding: 0 0 0 0;\n",
              "      width: 32px;\n",
              "    }\n",
              "\n",
              "    .colab-df-convert:hover {\n",
              "      background-color: #E2EBFA;\n",
              "      box-shadow: 0px 1px 2px rgba(60, 64, 67, 0.3), 0px 1px 3px 1px rgba(60, 64, 67, 0.15);\n",
              "      fill: #174EA6;\n",
              "    }\n",
              "\n",
              "    [theme=dark] .colab-df-convert {\n",
              "      background-color: #3B4455;\n",
              "      fill: #D2E3FC;\n",
              "    }\n",
              "\n",
              "    [theme=dark] .colab-df-convert:hover {\n",
              "      background-color: #434B5C;\n",
              "      box-shadow: 0px 1px 3px 1px rgba(0, 0, 0, 0.15);\n",
              "      filter: drop-shadow(0px 1px 2px rgba(0, 0, 0, 0.3));\n",
              "      fill: #FFFFFF;\n",
              "    }\n",
              "  </style>\n",
              "\n",
              "      <script>\n",
              "        const buttonEl =\n",
              "          document.querySelector('#df-2fcf9d5c-c385-43ef-a564-4b7ce7480aff button.colab-df-convert');\n",
              "        buttonEl.style.display =\n",
              "          google.colab.kernel.accessAllowed ? 'block' : 'none';\n",
              "\n",
              "        async function convertToInteractive(key) {\n",
              "          const element = document.querySelector('#df-2fcf9d5c-c385-43ef-a564-4b7ce7480aff');\n",
              "          const dataTable =\n",
              "            await google.colab.kernel.invokeFunction('convertToInteractive',\n",
              "                                                     [key], {});\n",
              "          if (!dataTable) return;\n",
              "\n",
              "          const docLinkHtml = 'Like what you see? Visit the ' +\n",
              "            '<a target=\"_blank\" href=https://colab.research.google.com/notebooks/data_table.ipynb>data table notebook</a>'\n",
              "            + ' to learn more about interactive tables.';\n",
              "          element.innerHTML = '';\n",
              "          dataTable['output_type'] = 'display_data';\n",
              "          await google.colab.output.renderOutput(dataTable, element);\n",
              "          const docLink = document.createElement('div');\n",
              "          docLink.innerHTML = docLinkHtml;\n",
              "          element.appendChild(docLink);\n",
              "        }\n",
              "      </script>\n",
              "    </div>\n",
              "  </div>\n",
              "  "
            ]
          },
          "metadata": {},
          "execution_count": 99
        }
      ]
    },
    {
      "cell_type": "markdown",
      "source": [
        "My own example 82"
      ],
      "metadata": {
        "id": "_CUiaevs0sMP"
      }
    },
    {
      "cell_type": "code",
      "source": [
        "data1 = datac[\"Close\"]\n",
        "data1.head()"
      ],
      "metadata": {
        "colab": {
          "base_uri": "https://localhost:8080/",
          "height": 238
        },
        "id": "z--JyrS80PFX",
        "outputId": "e5a14aa3-3649-4858-e2be-566a0e65e518"
      },
      "execution_count": null,
      "outputs": [
        {
          "output_type": "execute_result",
          "data": {
            "text/plain": [
              "                 NVDA  VALE\n",
              "Date                       \n",
              "2017-01-03  25.502501  8.05\n",
              "2017-01-04  26.097500  8.05\n",
              "2017-01-05  25.434999  8.30\n",
              "2017-01-06  25.775000  7.99\n",
              "2017-01-09  26.820000  8.22"
            ],
            "text/html": [
              "\n",
              "  <div id=\"df-cdf4ea1e-a457-4ee0-b174-dec061c94fbc\">\n",
              "    <div class=\"colab-df-container\">\n",
              "      <div>\n",
              "<style scoped>\n",
              "    .dataframe tbody tr th:only-of-type {\n",
              "        vertical-align: middle;\n",
              "    }\n",
              "\n",
              "    .dataframe tbody tr th {\n",
              "        vertical-align: top;\n",
              "    }\n",
              "\n",
              "    .dataframe thead th {\n",
              "        text-align: right;\n",
              "    }\n",
              "</style>\n",
              "<table border=\"1\" class=\"dataframe\">\n",
              "  <thead>\n",
              "    <tr style=\"text-align: right;\">\n",
              "      <th></th>\n",
              "      <th>NVDA</th>\n",
              "      <th>VALE</th>\n",
              "    </tr>\n",
              "    <tr>\n",
              "      <th>Date</th>\n",
              "      <th></th>\n",
              "      <th></th>\n",
              "    </tr>\n",
              "  </thead>\n",
              "  <tbody>\n",
              "    <tr>\n",
              "      <th>2017-01-03</th>\n",
              "      <td>25.502501</td>\n",
              "      <td>8.05</td>\n",
              "    </tr>\n",
              "    <tr>\n",
              "      <th>2017-01-04</th>\n",
              "      <td>26.097500</td>\n",
              "      <td>8.05</td>\n",
              "    </tr>\n",
              "    <tr>\n",
              "      <th>2017-01-05</th>\n",
              "      <td>25.434999</td>\n",
              "      <td>8.30</td>\n",
              "    </tr>\n",
              "    <tr>\n",
              "      <th>2017-01-06</th>\n",
              "      <td>25.775000</td>\n",
              "      <td>7.99</td>\n",
              "    </tr>\n",
              "    <tr>\n",
              "      <th>2017-01-09</th>\n",
              "      <td>26.820000</td>\n",
              "      <td>8.22</td>\n",
              "    </tr>\n",
              "  </tbody>\n",
              "</table>\n",
              "</div>\n",
              "      <button class=\"colab-df-convert\" onclick=\"convertToInteractive('df-cdf4ea1e-a457-4ee0-b174-dec061c94fbc')\"\n",
              "              title=\"Convert this dataframe to an interactive table.\"\n",
              "              style=\"display:none;\">\n",
              "        \n",
              "  <svg xmlns=\"http://www.w3.org/2000/svg\" height=\"24px\"viewBox=\"0 0 24 24\"\n",
              "       width=\"24px\">\n",
              "    <path d=\"M0 0h24v24H0V0z\" fill=\"none\"/>\n",
              "    <path d=\"M18.56 5.44l.94 2.06.94-2.06 2.06-.94-2.06-.94-.94-2.06-.94 2.06-2.06.94zm-11 1L8.5 8.5l.94-2.06 2.06-.94-2.06-.94L8.5 2.5l-.94 2.06-2.06.94zm10 10l.94 2.06.94-2.06 2.06-.94-2.06-.94-.94-2.06-.94 2.06-2.06.94z\"/><path d=\"M17.41 7.96l-1.37-1.37c-.4-.4-.92-.59-1.43-.59-.52 0-1.04.2-1.43.59L10.3 9.45l-7.72 7.72c-.78.78-.78 2.05 0 2.83L4 21.41c.39.39.9.59 1.41.59.51 0 1.02-.2 1.41-.59l7.78-7.78 2.81-2.81c.8-.78.8-2.07 0-2.86zM5.41 20L4 18.59l7.72-7.72 1.47 1.35L5.41 20z\"/>\n",
              "  </svg>\n",
              "      </button>\n",
              "      \n",
              "  <style>\n",
              "    .colab-df-container {\n",
              "      display:flex;\n",
              "      flex-wrap:wrap;\n",
              "      gap: 12px;\n",
              "    }\n",
              "\n",
              "    .colab-df-convert {\n",
              "      background-color: #E8F0FE;\n",
              "      border: none;\n",
              "      border-radius: 50%;\n",
              "      cursor: pointer;\n",
              "      display: none;\n",
              "      fill: #1967D2;\n",
              "      height: 32px;\n",
              "      padding: 0 0 0 0;\n",
              "      width: 32px;\n",
              "    }\n",
              "\n",
              "    .colab-df-convert:hover {\n",
              "      background-color: #E2EBFA;\n",
              "      box-shadow: 0px 1px 2px rgba(60, 64, 67, 0.3), 0px 1px 3px 1px rgba(60, 64, 67, 0.15);\n",
              "      fill: #174EA6;\n",
              "    }\n",
              "\n",
              "    [theme=dark] .colab-df-convert {\n",
              "      background-color: #3B4455;\n",
              "      fill: #D2E3FC;\n",
              "    }\n",
              "\n",
              "    [theme=dark] .colab-df-convert:hover {\n",
              "      background-color: #434B5C;\n",
              "      box-shadow: 0px 1px 3px 1px rgba(0, 0, 0, 0.15);\n",
              "      filter: drop-shadow(0px 1px 2px rgba(0, 0, 0, 0.3));\n",
              "      fill: #FFFFFF;\n",
              "    }\n",
              "  </style>\n",
              "\n",
              "      <script>\n",
              "        const buttonEl =\n",
              "          document.querySelector('#df-cdf4ea1e-a457-4ee0-b174-dec061c94fbc button.colab-df-convert');\n",
              "        buttonEl.style.display =\n",
              "          google.colab.kernel.accessAllowed ? 'block' : 'none';\n",
              "\n",
              "        async function convertToInteractive(key) {\n",
              "          const element = document.querySelector('#df-cdf4ea1e-a457-4ee0-b174-dec061c94fbc');\n",
              "          const dataTable =\n",
              "            await google.colab.kernel.invokeFunction('convertToInteractive',\n",
              "                                                     [key], {});\n",
              "          if (!dataTable) return;\n",
              "\n",
              "          const docLinkHtml = 'Like what you see? Visit the ' +\n",
              "            '<a target=\"_blank\" href=https://colab.research.google.com/notebooks/data_table.ipynb>data table notebook</a>'\n",
              "            + ' to learn more about interactive tables.';\n",
              "          element.innerHTML = '';\n",
              "          dataTable['output_type'] = 'display_data';\n",
              "          await google.colab.output.renderOutput(dataTable, element);\n",
              "          const docLink = document.createElement('div');\n",
              "          docLink.innerHTML = docLinkHtml;\n",
              "          element.appendChild(docLink);\n",
              "        }\n",
              "      </script>\n",
              "    </div>\n",
              "  </div>\n",
              "  "
            ]
          },
          "metadata": {},
          "execution_count": 100
        }
      ]
    },
    {
      "cell_type": "markdown",
      "source": [
        "My own example 83"
      ],
      "metadata": {
        "id": "uvatJKzA0wvu"
      }
    },
    {
      "cell_type": "code",
      "source": [
        "data1['VALE'].head()"
      ],
      "metadata": {
        "colab": {
          "base_uri": "https://localhost:8080/"
        },
        "id": "C3kOt5Ew0cZy",
        "outputId": "8551ea68-22d4-41a8-e188-b696212fd19b"
      },
      "execution_count": null,
      "outputs": [
        {
          "output_type": "execute_result",
          "data": {
            "text/plain": [
              "Date\n",
              "2017-01-03    8.05\n",
              "2017-01-04    8.05\n",
              "2017-01-05    8.30\n",
              "2017-01-06    7.99\n",
              "2017-01-09    8.22\n",
              "Name: VALE, dtype: float64"
            ]
          },
          "metadata": {},
          "execution_count": 103
        }
      ]
    },
    {
      "cell_type": "markdown",
      "source": [
        "My own example 84"
      ],
      "metadata": {
        "id": "jiZTTkp81FPH"
      }
    },
    {
      "cell_type": "code",
      "source": [
        "R = data1['NVDA'].pct_change()[1:]\n",
        "plt.hist(R, bins=20)\n",
        "plt.xlabel('Return')\n",
        "plt.ylabel('Number of Days Observed')\n",
        "plt.title('Frequency Distribution of NVDA Returns, 2018');"
      ],
      "metadata": {
        "colab": {
          "base_uri": "https://localhost:8080/",
          "height": 295
        },
        "id": "doEbR45f0fK2",
        "outputId": "c3126ea5-a60a-4fbd-fd50-5a6d1146ea2b"
      },
      "execution_count": null,
      "outputs": [
        {
          "output_type": "display_data",
          "data": {
            "text/plain": [
              "<Figure size 432x288 with 1 Axes>"
            ],
            "image/png": "[encoded data removed]"
          },
          "metadata": {
            "needs_background": "light"
          }
        }
      ]
    },
    {
      "cell_type": "markdown",
      "source": [
        "My own example 85"
      ],
      "metadata": {
        "id": "CwI5qxXP1J2-"
      }
    },
    {
      "cell_type": "code",
      "source": [
        "R = data1['NVDA'].pct_change()[1:]\n",
        "plt.hist(R, bins=20, cumulative=True)\n",
        "plt.xlabel('Return')\n",
        "plt.ylabel('Number of Days Observed')\n",
        "plt.title('Cumulative Distribution of NVDA Returns, 2018');"
      ],
      "metadata": {
        "colab": {
          "base_uri": "https://localhost:8080/",
          "height": 295
        },
        "id": "4s0cOHuS09fR",
        "outputId": "f3c42760-7bc9-4630-be6b-cf8eaaa0fad7"
      },
      "execution_count": null,
      "outputs": [
        {
          "output_type": "display_data",
          "data": {
            "text/plain": [
              "<Figure size 432x288 with 1 Axes>"
            ],
            "image/png": "[encoded data removed]"
          },
          "metadata": {
            "needs_background": "light"
          }
        }
      ]
    },
    {
      "cell_type": "markdown",
      "source": [
        "My own example 86"
      ],
      "metadata": {
        "id": "5SwcpwuE3o9J"
      }
    },
    {
      "cell_type": "code",
      "source": [
        "R = data1['VALE'].pct_change()[1:]\n",
        "plt.hist(R, bins=20)\n",
        "plt.xlabel('Return')\n",
        "plt.ylabel('Number of Days Observed')\n",
        "plt.title('Frequency Distribution of VALE Returns, 2018');"
      ],
      "metadata": {
        "colab": {
          "base_uri": "https://localhost:8080/",
          "height": 295
        },
        "id": "a-6tAxHk3dux",
        "outputId": "c7402b3a-2492-4cf5-8774-d3690ec2297f"
      },
      "execution_count": null,
      "outputs": [
        {
          "output_type": "display_data",
          "data": {
            "text/plain": [
              "<Figure size 432x288 with 1 Axes>"
            ],
            "image/png": "[encoded data removed]"
          },
          "metadata": {
            "needs_background": "light"
          }
        }
      ]
    },
    {
      "cell_type": "markdown",
      "source": [
        "My own example 87"
      ],
      "metadata": {
        "id": "fZFZi7eo3zNS"
      }
    },
    {
      "cell_type": "code",
      "source": [
        "R = data1['VALE'].pct_change()[1:]\n",
        "plt.hist(R, bins=20, cumulative=True)\n",
        "plt.xlabel('Return')\n",
        "plt.ylabel('Number of Days Observed')\n",
        "plt.title('Cumulative Distribution of VALE Returns, 2018');"
      ],
      "metadata": {
        "colab": {
          "base_uri": "https://localhost:8080/",
          "height": 295
        },
        "id": "8ceVvIvA3t1o",
        "outputId": "44bdd020-c274-4ae8-b30f-a1bb479e0e80"
      },
      "execution_count": null,
      "outputs": [
        {
          "output_type": "display_data",
          "data": {
            "text/plain": [
              "<Figure size 432x288 with 1 Axes>"
            ],
            "image/png": "[encoded data removed]"
          },
          "metadata": {
            "needs_background": "light"
          }
        }
      ]
    },
    {
      "cell_type": "markdown",
      "source": [
        "My own example 88"
      ],
      "metadata": {
        "id": "8QH6SlXl1lYE"
      }
    },
    {
      "cell_type": "code",
      "source": [
        "plt.scatter(data1['NVDA'], data1['VALE'])\n",
        "plt.xlabel('NVDA')\n",
        "plt.ylabel('VALE')\n",
        "plt.title('Daily Prices in 2019');"
      ],
      "metadata": {
        "colab": {
          "base_uri": "https://localhost:8080/",
          "height": 295
        },
        "id": "e33qOBgn1hW4",
        "outputId": "c693a1fe-1063-4ecc-d4f4-e7cd3c85b3b2"
      },
      "execution_count": null,
      "outputs": [
        {
          "output_type": "display_data",
          "data": {
            "text/plain": [
              "<Figure size 432x288 with 1 Axes>"
            ],
            "image/png": "[encoded data removed]"
          },
          "metadata": {
            "needs_background": "light"
          }
        }
      ]
    },
    {
      "cell_type": "markdown",
      "source": [
        "My own example 89"
      ],
      "metadata": {
        "id": "O3F4PSu2175S"
      }
    },
    {
      "cell_type": "code",
      "source": [
        "R_nvda = data1['NVDA'].pct_change()[1:]\n",
        "R_vale = data1['VALE'].pct_change()[1:]\n",
        "plt.scatter(R_nvda, R_vale)\n",
        "plt.xlabel('NVDA')\n",
        "plt.ylabel('VALE')\n",
        "plt.title('Daily Returns in 2019');"
      ],
      "metadata": {
        "colab": {
          "base_uri": "https://localhost:8080/",
          "height": 295
        },
        "id": "CLBtoaOx16av",
        "outputId": "5171b2c5-879b-4de5-fe0b-183598ebd5cb"
      },
      "execution_count": null,
      "outputs": [
        {
          "output_type": "display_data",
          "data": {
            "text/plain": [
              "<Figure size 432x288 with 1 Axes>"
            ],
            "image/png": "[encoded data removed]"
          },
          "metadata": {
            "needs_background": "light"
          }
        }
      ]
    },
    {
      "cell_type": "markdown",
      "source": [
        "My own example 90"
      ],
      "metadata": {
        "id": "LLSstrxA2Zms"
      }
    },
    {
      "cell_type": "code",
      "source": [
        "plt.plot(data1['NVDA'])\n",
        "plt.plot(data1['VALE'])\n",
        "plt.ylabel('Price')\n",
        "plt.legend(['NVDA', 'VALE']);"
      ],
      "metadata": {
        "colab": {
          "base_uri": "https://localhost:8080/",
          "height": 265
        },
        "id": "rUSGhewu2WU4",
        "outputId": "0b8c39a3-89c8-45fa-ceb5-b3a207f418aa"
      },
      "execution_count": null,
      "outputs": [
        {
          "output_type": "display_data",
          "data": {
            "text/plain": [
              "<Figure size 432x288 with 1 Axes>"
            ],
            "image/png": "[encoded data removed]"
          },
          "metadata": {
            "needs_background": "light"
          }
        }
      ]
    },
    {
      "cell_type": "markdown",
      "source": [
        "My own example 91"
      ],
      "metadata": {
        "id": "pbkDP-W02xN2"
      }
    },
    {
      "cell_type": "code",
      "source": [
        "R = data1['NVDA'].pct_change()[1:]\n",
        "\n",
        "plt.plot(R)\n",
        "plt.ylabel('Return')\n",
        "plt.title('NVDA Returns');"
      ],
      "metadata": {
        "colab": {
          "base_uri": "https://localhost:8080/",
          "height": 281
        },
        "id": "cTvepry_2rSQ",
        "outputId": "b3097c39-aa04-4f74-8816-2478511e20e5"
      },
      "execution_count": null,
      "outputs": [
        {
          "output_type": "display_data",
          "data": {
            "text/plain": [
              "<Figure size 432x288 with 1 Axes>"
            ],
            "image/png": "[encoded data removed]"
          },
          "metadata": {
            "needs_background": "light"
          }
        }
      ]
    },
    {
      "cell_type": "markdown",
      "source": [
        "My own example 92"
      ],
      "metadata": {
        "id": "lm3HVCWC3UEv"
      }
    },
    {
      "cell_type": "code",
      "source": [
        "R = data1['VALE'].pct_change()[1:]\n",
        "\n",
        "plt.plot(R)\n",
        "plt.ylabel('Return')\n",
        "plt.title('VALE Returns');"
      ],
      "metadata": {
        "colab": {
          "base_uri": "https://localhost:8080/",
          "height": 281
        },
        "id": "xMDY6fwd3HZB",
        "outputId": "a1de5203-40d2-407f-b59e-8a8d460579d2"
      },
      "execution_count": null,
      "outputs": [
        {
          "output_type": "display_data",
          "data": {
            "text/plain": [
              "<Figure size 432x288 with 1 Axes>"
            ],
            "image/png": "[encoded data removed]"
          },
          "metadata": {
            "needs_background": "light"
          }
        }
      ]
    },
    {
      "cell_type": "markdown",
      "source": [
        "My own example 93"
      ],
      "metadata": {
        "id": "DGVumPyN4d6j"
      }
    },
    {
      "cell_type": "code",
      "source": [
        "data2 = datac[\"Open\"]\n",
        "data2.head()"
      ],
      "metadata": {
        "colab": {
          "base_uri": "https://localhost:8080/",
          "height": 238
        },
        "id": "TuA-INBV3SaS",
        "outputId": "010b8018-86b4-4e9e-e57f-c2ce0e1185ab"
      },
      "execution_count": null,
      "outputs": [
        {
          "output_type": "execute_result",
          "data": {
            "text/plain": [
              "               NVDA  VALE\n",
              "Date                     \n",
              "2017-01-03  26.1000  7.89\n",
              "2017-01-04  25.8500  8.03\n",
              "2017-01-05  26.1325  8.08\n",
              "2017-01-06  25.7125  8.15\n",
              "2017-01-09  25.8750  8.31"
            ],
            "text/html": [
              "\n",
              "  <div id=\"df-a969db8b-4ea1-4adf-944a-db79e8db31c4\">\n",
              "    <div class=\"colab-df-container\">\n",
              "      <div>\n",
              "<style scoped>\n",
              "    .dataframe tbody tr th:only-of-type {\n",
              "        vertical-align: middle;\n",
              "    }\n",
              "\n",
              "    .dataframe tbody tr th {\n",
              "        vertical-align: top;\n",
              "    }\n",
              "\n",
              "    .dataframe thead th {\n",
              "        text-align: right;\n",
              "    }\n",
              "</style>\n",
              "<table border=\"1\" class=\"dataframe\">\n",
              "  <thead>\n",
              "    <tr style=\"text-align: right;\">\n",
              "      <th></th>\n",
              "      <th>NVDA</th>\n",
              "      <th>VALE</th>\n",
              "    </tr>\n",
              "    <tr>\n",
              "      <th>Date</th>\n",
              "      <th></th>\n",
              "      <th></th>\n",
              "    </tr>\n",
              "  </thead>\n",
              "  <tbody>\n",
              "    <tr>\n",
              "      <th>2017-01-03</th>\n",
              "      <td>26.1000</td>\n",
              "      <td>7.89</td>\n",
              "    </tr>\n",
              "    <tr>\n",
              "      <th>2017-01-04</th>\n",
              "      <td>25.8500</td>\n",
              "      <td>8.03</td>\n",
              "    </tr>\n",
              "    <tr>\n",
              "      <th>2017-01-05</th>\n",
              "      <td>26.1325</td>\n",
              "      <td>8.08</td>\n",
              "    </tr>\n",
              "    <tr>\n",
              "      <th>2017-01-06</th>\n",
              "      <td>25.7125</td>\n",
              "      <td>8.15</td>\n",
              "    </tr>\n",
              "    <tr>\n",
              "      <th>2017-01-09</th>\n",
              "      <td>25.8750</td>\n",
              "      <td>8.31</td>\n",
              "    </tr>\n",
              "  </tbody>\n",
              "</table>\n",
              "</div>\n",
              "      <button class=\"colab-df-convert\" onclick=\"convertToInteractive('df-a969db8b-4ea1-4adf-944a-db79e8db31c4')\"\n",
              "              title=\"Convert this dataframe to an interactive table.\"\n",
              "              style=\"display:none;\">\n",
              "        \n",
              "  <svg xmlns=\"http://www.w3.org/2000/svg\" height=\"24px\"viewBox=\"0 0 24 24\"\n",
              "       width=\"24px\">\n",
              "    <path d=\"M0 0h24v24H0V0z\" fill=\"none\"/>\n",
              "    <path d=\"M18.56 5.44l.94 2.06.94-2.06 2.06-.94-2.06-.94-.94-2.06-.94 2.06-2.06.94zm-11 1L8.5 8.5l.94-2.06 2.06-.94-2.06-.94L8.5 2.5l-.94 2.06-2.06.94zm10 10l.94 2.06.94-2.06 2.06-.94-2.06-.94-.94-2.06-.94 2.06-2.06.94z\"/><path d=\"M17.41 7.96l-1.37-1.37c-.4-.4-.92-.59-1.43-.59-.52 0-1.04.2-1.43.59L10.3 9.45l-7.72 7.72c-.78.78-.78 2.05 0 2.83L4 21.41c.39.39.9.59 1.41.59.51 0 1.02-.2 1.41-.59l7.78-7.78 2.81-2.81c.8-.78.8-2.07 0-2.86zM5.41 20L4 18.59l7.72-7.72 1.47 1.35L5.41 20z\"/>\n",
              "  </svg>\n",
              "      </button>\n",
              "      \n",
              "  <style>\n",
              "    .colab-df-container {\n",
              "      display:flex;\n",
              "      flex-wrap:wrap;\n",
              "      gap: 12px;\n",
              "    }\n",
              "\n",
              "    .colab-df-convert {\n",
              "      background-color: #E8F0FE;\n",
              "      border: none;\n",
              "      border-radius: 50%;\n",
              "      cursor: pointer;\n",
              "      display: none;\n",
              "      fill: #1967D2;\n",
              "      height: 32px;\n",
              "      padding: 0 0 0 0;\n",
              "      width: 32px;\n",
              "    }\n",
              "\n",
              "    .colab-df-convert:hover {\n",
              "      background-color: #E2EBFA;\n",
              "      box-shadow: 0px 1px 2px rgba(60, 64, 67, 0.3), 0px 1px 3px 1px rgba(60, 64, 67, 0.15);\n",
              "      fill: #174EA6;\n",
              "    }\n",
              "\n",
              "    [theme=dark] .colab-df-convert {\n",
              "      background-color: #3B4455;\n",
              "      fill: #D2E3FC;\n",
              "    }\n",
              "\n",
              "    [theme=dark] .colab-df-convert:hover {\n",
              "      background-color: #434B5C;\n",
              "      box-shadow: 0px 1px 3px 1px rgba(0, 0, 0, 0.15);\n",
              "      filter: drop-shadow(0px 1px 2px rgba(0, 0, 0, 0.3));\n",
              "      fill: #FFFFFF;\n",
              "    }\n",
              "  </style>\n",
              "\n",
              "      <script>\n",
              "        const buttonEl =\n",
              "          document.querySelector('#df-a969db8b-4ea1-4adf-944a-db79e8db31c4 button.colab-df-convert');\n",
              "        buttonEl.style.display =\n",
              "          google.colab.kernel.accessAllowed ? 'block' : 'none';\n",
              "\n",
              "        async function convertToInteractive(key) {\n",
              "          const element = document.querySelector('#df-a969db8b-4ea1-4adf-944a-db79e8db31c4');\n",
              "          const dataTable =\n",
              "            await google.colab.kernel.invokeFunction('convertToInteractive',\n",
              "                                                     [key], {});\n",
              "          if (!dataTable) return;\n",
              "\n",
              "          const docLinkHtml = 'Like what you see? Visit the ' +\n",
              "            '<a target=\"_blank\" href=https://colab.research.google.com/notebooks/data_table.ipynb>data table notebook</a>'\n",
              "            + ' to learn more about interactive tables.';\n",
              "          element.innerHTML = '';\n",
              "          dataTable['output_type'] = 'display_data';\n",
              "          await google.colab.output.renderOutput(dataTable, element);\n",
              "          const docLink = document.createElement('div');\n",
              "          docLink.innerHTML = docLinkHtml;\n",
              "          element.appendChild(docLink);\n",
              "        }\n",
              "      </script>\n",
              "    </div>\n",
              "  </div>\n",
              "  "
            ]
          },
          "metadata": {},
          "execution_count": 118
        }
      ]
    },
    {
      "cell_type": "markdown",
      "source": [
        "My own example 94"
      ],
      "metadata": {
        "id": "4nGwYFAW4hx-"
      }
    },
    {
      "cell_type": "code",
      "source": [
        "plt.hist(data2['NVDA'], bins=25)\n",
        "plt.xlabel('Price')\n",
        "plt.ylabel('Number of Days Observed')\n",
        "plt.title('Frequency Distribution of NVDA open, 2018');"
      ],
      "metadata": {
        "colab": {
          "base_uri": "https://localhost:8080/",
          "height": 295
        },
        "id": "YChS7phn4cmK",
        "outputId": "962324d0-b839-44ab-b2f2-032ba1f0b077"
      },
      "execution_count": null,
      "outputs": [
        {
          "output_type": "display_data",
          "data": {
            "text/plain": [
              "<Figure size 432x288 with 1 Axes>"
            ],
            "image/png": "[encoded data removed]"
          },
          "metadata": {
            "needs_background": "light"
          }
        }
      ]
    },
    {
      "cell_type": "markdown",
      "source": [
        "My own example 95"
      ],
      "metadata": {
        "id": "o-Bqr7w55tGB"
      }
    },
    {
      "cell_type": "code",
      "source": [
        "T = data2['NVDA'].pct_change()[1:]\n",
        "plt.hist(T, bins=20)\n",
        "plt.xlabel('Return')\n",
        "plt.ylabel('Number of Days Observed')\n",
        "plt.title('Frequency Distribution of NVDA open, 2018');"
      ],
      "metadata": {
        "colab": {
          "base_uri": "https://localhost:8080/",
          "height": 295
        },
        "id": "dugru-IM5Qk_",
        "outputId": "511cae68-4465-4918-c21a-bc797d82ada3"
      },
      "execution_count": null,
      "outputs": [
        {
          "output_type": "display_data",
          "data": {
            "text/plain": [
              "<Figure size 432x288 with 1 Axes>"
            ],
            "image/png": "[encoded data removed]"
          },
          "metadata": {
            "needs_background": "light"
          }
        }
      ]
    },
    {
      "cell_type": "markdown",
      "source": [
        "My own example 96"
      ],
      "metadata": {
        "id": "aR9iJtIL6NsF"
      }
    },
    {
      "cell_type": "code",
      "source": [
        "plt.hist(T, bins=20, cumulative=True)\n",
        "plt.xlabel('Return')\n",
        "plt.ylabel('Number of Days Observed')\n",
        "plt.title('Cumulative Distribution of NVDA open, 2018');"
      ],
      "metadata": {
        "colab": {
          "base_uri": "https://localhost:8080/",
          "height": 295
        },
        "id": "EzmpjXEb5rRI",
        "outputId": "e609bc6a-7077-4d93-a11a-bd24feeeca52"
      },
      "execution_count": null,
      "outputs": [
        {
          "output_type": "display_data",
          "data": {
            "text/plain": [
              "<Figure size 432x288 with 1 Axes>"
            ],
            "image/png": "[encoded data removed]"
          },
          "metadata": {
            "needs_background": "light"
          }
        }
      ]
    },
    {
      "cell_type": "markdown",
      "source": [
        "My own example 97"
      ],
      "metadata": {
        "id": "OLVK5yaE6eNQ"
      }
    },
    {
      "cell_type": "code",
      "source": [
        "plt.scatter(data2['VALE'], data2['NVDA'])\n",
        "plt.xlabel('VALE')\n",
        "plt.ylabel('NVDA')\n",
        "plt.title('Daily open in 2018');"
      ],
      "metadata": {
        "colab": {
          "base_uri": "https://localhost:8080/",
          "height": 295
        },
        "id": "gLZ9g2nn6BXU",
        "outputId": "2c617ad7-405d-4b15-be94-7bf01b61f0f4"
      },
      "execution_count": null,
      "outputs": [
        {
          "output_type": "display_data",
          "data": {
            "text/plain": [
              "<Figure size 432x288 with 1 Axes>"
            ],
            "image/png": "[encoded data removed]"
          },
          "metadata": {
            "needs_background": "light"
          }
        }
      ]
    },
    {
      "cell_type": "markdown",
      "source": [
        "My own example 98"
      ],
      "metadata": {
        "id": "D-VVHq6v7AC9"
      }
    },
    {
      "cell_type": "code",
      "source": [
        "R_nvda = data2['NVDA'].pct_change()[1:]\n",
        "R_vale = data2['VALE'].pct_change()[1:]\n",
        "plt.scatter(R_nvda, R_vale)\n",
        "plt.xlabel('NVDA')\n",
        "plt.ylabel('VALE')\n",
        "plt.title('Daily open in 2019');"
      ],
      "metadata": {
        "colab": {
          "base_uri": "https://localhost:8080/",
          "height": 295
        },
        "id": "pizWw0xt6cyO",
        "outputId": "2b4c8ff7-c570-4d8e-afee-abfc01baf19e"
      },
      "execution_count": null,
      "outputs": [
        {
          "output_type": "display_data",
          "data": {
            "text/plain": [
              "<Figure size 432x288 with 1 Axes>"
            ],
            "image/png": "[encoded data removed]"
          },
          "metadata": {
            "needs_background": "light"
          }
        }
      ]
    },
    {
      "cell_type": "markdown",
      "source": [
        "My own example 99"
      ],
      "metadata": {
        "id": "FyWSuG1d7RpW"
      }
    },
    {
      "cell_type": "code",
      "source": [
        "plt.plot(data2['NVDA'])\n",
        "plt.plot(data2['VALE'])\n",
        "plt.ylabel('open')\n",
        "plt.legend(['NVDA', 'VALE']);"
      ],
      "metadata": {
        "colab": {
          "base_uri": "https://localhost:8080/",
          "height": 265
        },
        "id": "N60vIvm_6-XV",
        "outputId": "f194839d-9e58-4b26-deb9-0f36a4d1d777"
      },
      "execution_count": null,
      "outputs": [
        {
          "output_type": "display_data",
          "data": {
            "text/plain": [
              "<Figure size 432x288 with 1 Axes>"
            ],
            "image/png": "[encoded data removed]"
          },
          "metadata": {
            "needs_background": "light"
          }
        }
      ]
    },
    {
      "cell_type": "markdown",
      "source": [
        "My own example 100"
      ],
      "metadata": {
        "id": "0T2NzxAZ7iNJ"
      }
    },
    {
      "cell_type": "code",
      "source": [
        "b = data2['NVDA'].pct_change()[1:]\n",
        "plt.plot(b)\n",
        "plt.ylabel('open')\n",
        "plt.title('NVDA open');"
      ],
      "metadata": {
        "colab": {
          "base_uri": "https://localhost:8080/",
          "height": 281
        },
        "id": "Y6uP7zXA7QGa",
        "outputId": "6e3d5649-3070-4245-aa76-320814a5ad44"
      },
      "execution_count": null,
      "outputs": [
        {
          "output_type": "display_data",
          "data": {
            "text/plain": [
              "<Figure size 432x288 with 1 Axes>"
            ],
            "image/png": "[encoded data removed]"
          },
          "metadata": {
            "needs_background": "light"
          }
        }
      ]
    },
    {
      "cell_type": "markdown",
      "source": [
        "DATA TYPES AND DATA STRUCTURES"
      ],
      "metadata": {
        "id": "mYKSOF2dajJ4"
      }
    },
    {
      "cell_type": "markdown",
      "source": [
        "My own example 101"
      ],
      "metadata": {
        "id": "7j3GZu8Sahwb"
      }
    },
    {
      "cell_type": "code",
      "source": [
        "my_string1 = 'Buenos dias'\n",
        "my_string2 = \"amiguitos\"\n",
        "print(my_string1 + ' ' + my_string2)"
      ],
      "metadata": {
        "id": "akL5WzkG7gyj",
        "colab": {
          "base_uri": "https://localhost:8080/"
        },
        "outputId": "dc1563d0-9383-4c1e-de4b-53f657b0411b"
      },
      "execution_count": null,
      "outputs": [
        {
          "output_type": "stream",
          "name": "stdout",
          "text": [
            "Buenos dias amiguitos\n"
          ]
        }
      ]
    },
    {
      "cell_type": "markdown",
      "source": [
        "My own example 102"
      ],
      "metadata": {
        "id": "61mSC0UvbMlZ"
      }
    },
    {
      "cell_type": "code",
      "source": [
        "entero = 3\n",
        "print(entero)\n",
        "print(type(entero))"
      ],
      "metadata": {
        "colab": {
          "base_uri": "https://localhost:8080/"
        },
        "id": "c2Z2DzpqbLjU",
        "outputId": "5dee7f2c-00cd-496d-abdf-f3dba428cefa"
      },
      "execution_count": null,
      "outputs": [
        {
          "output_type": "stream",
          "name": "stdout",
          "text": [
            "3\n",
            "<class 'int'>\n"
          ]
        }
      ]
    },
    {
      "cell_type": "markdown",
      "source": [
        "My own example 103"
      ],
      "metadata": {
        "id": "124cq5PqbWlV"
      }
    },
    {
      "cell_type": "code",
      "source": [
        "st = \"4600\"\n",
        "print(type(st))\n",
        "ent = int(st)\n",
        "print(type(ent))"
      ],
      "metadata": {
        "colab": {
          "base_uri": "https://localhost:8080/"
        },
        "id": "Pd5PUUTqbVlv",
        "outputId": "e3c7ce23-d8d4-473b-c789-8afd3968f907"
      },
      "execution_count": null,
      "outputs": [
        {
          "output_type": "stream",
          "name": "stdout",
          "text": [
            "<class 'str'>\n",
            "<class 'int'>\n"
          ]
        }
      ]
    },
    {
      "cell_type": "markdown",
      "source": [
        "My own example 104"
      ],
      "metadata": {
        "id": "uuLhaoGbbqUI"
      }
    },
    {
      "cell_type": "code",
      "source": [
        "zt = \"33\"\n",
        "print(type(zt))\n",
        "ft = float(zt)\n",
        "print(type(ft))"
      ],
      "metadata": {
        "colab": {
          "base_uri": "https://localhost:8080/"
        },
        "id": "SjzwTz4JbolS",
        "outputId": "2e32ea88-f06e-4c91-b265-bca7f8099df3"
      },
      "execution_count": null,
      "outputs": [
        {
          "output_type": "stream",
          "name": "stdout",
          "text": [
            "<class 'str'>\n",
            "<class 'float'>\n"
          ]
        }
      ]
    },
    {
      "cell_type": "markdown",
      "source": [
        "My own example 105"
      ],
      "metadata": {
        "id": "eY670pu1cC9h"
      }
    },
    {
      "cell_type": "code",
      "source": [
        "boo = False\n",
        "print(boo)\n",
        "print(type(boo))"
      ],
      "metadata": {
        "colab": {
          "base_uri": "https://localhost:8080/"
        },
        "id": "gz0lU22Lb4Vz",
        "outputId": "81c4f6c1-fa3a-4843-cd07-e840d8f3f2ba"
      },
      "execution_count": null,
      "outputs": [
        {
          "output_type": "stream",
          "name": "stdout",
          "text": [
            "False\n",
            "<class 'bool'>\n"
          ]
        }
      ]
    },
    {
      "cell_type": "markdown",
      "source": [
        "My own example 106"
      ],
      "metadata": {
        "id": "DcAaQExHcMeU"
      }
    },
    {
      "cell_type": "code",
      "source": [
        "print(\"suma \", 67+22.5)\n",
        "print(\"resta \", 9 - 10)\n",
        "print(\"multiplicacion \", 45*2)\n",
        "print(\"division \", 844/4)\n",
        "print('exponencial', 5**5)"
      ],
      "metadata": {
        "colab": {
          "base_uri": "https://localhost:8080/"
        },
        "id": "V_L4NhmccLti",
        "outputId": "fc8106c6-7804-489a-9ade-eb99eda28b7b"
      },
      "execution_count": null,
      "outputs": [
        {
          "output_type": "stream",
          "name": "stdout",
          "text": [
            "suma  89.5\n",
            "resta  -1\n",
            "multiplicacion  90\n",
            "division  211.0\n",
            "exponencial 3125\n"
          ]
        }
      ]
    },
    {
      "cell_type": "markdown",
      "source": [
        "My own example 107"
      ],
      "metadata": {
        "id": "L3of-W2fdAlj"
      }
    },
    {
      "cell_type": "code",
      "source": [
        "listi = ['una', 45,'vaca','muu',0]\n",
        "print(listi)"
      ],
      "metadata": {
        "colab": {
          "base_uri": "https://localhost:8080/"
        },
        "id": "mv-Ni82zc_O6",
        "outputId": "c8a85177-db33-4f3f-c89e-5e0edf5d0080"
      },
      "execution_count": null,
      "outputs": [
        {
          "output_type": "stream",
          "name": "stdout",
          "text": [
            "['una', 45, 'vaca', 'muu', 0]\n"
          ]
        }
      ]
    },
    {
      "cell_type": "markdown",
      "source": [
        "My own example 108"
      ],
      "metadata": {
        "id": "R3We_CYWdbe7"
      }
    },
    {
      "cell_type": "code",
      "source": [
        "print(listi[2])\n",
        "print(listi[len(listi)-3])"
      ],
      "metadata": {
        "colab": {
          "base_uri": "https://localhost:8080/"
        },
        "id": "u33Yv7uRdZcp",
        "outputId": "a8711cf3-2a93-4b27-83e0-49e9e1dbc435"
      },
      "execution_count": null,
      "outputs": [
        {
          "output_type": "stream",
          "name": "stdout",
          "text": [
            "vaca\n",
            "vaca\n"
          ]
        }
      ]
    },
    {
      "cell_type": "markdown",
      "source": [
        "My own example 109"
      ],
      "metadata": {
        "id": "3wugiKxSdwkb"
      }
    },
    {
      "cell_type": "code",
      "source": [
        "listi[2] = 'cabra'\n",
        "print(listi)"
      ],
      "metadata": {
        "colab": {
          "base_uri": "https://localhost:8080/"
        },
        "id": "6364KGBpdndU",
        "outputId": "018440a7-f92c-4196-8611-29c58c511bd6"
      },
      "execution_count": null,
      "outputs": [
        {
          "output_type": "stream",
          "name": "stdout",
          "text": [
            "['una', 45, 'cabra', 'muu', 0]\n"
          ]
        }
      ]
    },
    {
      "cell_type": "markdown",
      "source": [
        "My own example 110"
      ],
      "metadata": {
        "id": "Qmq7rit-d94v"
      }
    },
    {
      "cell_type": "code",
      "source": [
        "print(listi[1:4])\n",
        "print(listi[0:2])\n",
        "print(listi[3:5])"
      ],
      "metadata": {
        "colab": {
          "base_uri": "https://localhost:8080/"
        },
        "id": "3axBJB46d6OK",
        "outputId": "95cd4dc3-8235-429d-bc8d-7f86c1381634"
      },
      "execution_count": null,
      "outputs": [
        {
          "output_type": "stream",
          "name": "stdout",
          "text": [
            "[45, 'cabra', 'muu']\n",
            "['una', 45]\n",
            "['muu', 0]\n"
          ]
        }
      ]
    },
    {
      "cell_type": "markdown",
      "source": [
        "My own example 111"
      ],
      "metadata": {
        "id": "Wxxv_n4OeSra"
      }
    },
    {
      "cell_type": "code",
      "source": [
        "print(listi[3:])\n",
        "print(listi[:3])"
      ],
      "metadata": {
        "colab": {
          "base_uri": "https://localhost:8080/"
        },
        "id": "Weht_9pyePfa",
        "outputId": "4a57fef5-0b0a-47bf-adff-d61e55c8b571"
      },
      "execution_count": null,
      "outputs": [
        {
          "output_type": "stream",
          "name": "stdout",
          "text": [
            "['muu', 0]\n",
            "['una', 45, 'cabra']\n"
          ]
        }
      ]
    },
    {
      "cell_type": "markdown",
      "source": [
        "My own example 112"
      ],
      "metadata": {
        "id": "Ye25K7nRehrU"
      }
    },
    {
      "cell_type": "code",
      "source": [
        "listi.append('vaca')\n",
        "print(listi)"
      ],
      "metadata": {
        "colab": {
          "base_uri": "https://localhost:8080/"
        },
        "id": "F-0m792xee33",
        "outputId": "464e9d75-f92d-4774-feb4-510db5da6e1e"
      },
      "execution_count": null,
      "outputs": [
        {
          "output_type": "stream",
          "name": "stdout",
          "text": [
            "['una', 45, 'cabra', 'muu', 0, 'cabra', 'vaca', 'vaca']\n"
          ]
        }
      ]
    },
    {
      "cell_type": "markdown",
      "source": [
        "My own example 113"
      ],
      "metadata": {
        "id": "9rVHOC6Oe0_t"
      }
    },
    {
      "cell_type": "code",
      "source": [
        "listi.remove('vaca')\n",
        "print(listi)"
      ],
      "metadata": {
        "colab": {
          "base_uri": "https://localhost:8080/"
        },
        "id": "ivXa8oCnewKg",
        "outputId": "b157a8eb-89a7-4319-f239-fae31d48c8f9"
      },
      "execution_count": null,
      "outputs": [
        {
          "output_type": "stream",
          "name": "stdout",
          "text": [
            "['una', 45, 'muu', 0]\n"
          ]
        }
      ]
    },
    {
      "cell_type": "markdown",
      "source": [
        "My own example 114"
      ],
      "metadata": {
        "id": "CXF0lx_-fS3C"
      }
    },
    {
      "cell_type": "code",
      "source": [
        "tupla = ('Buenas','tardes','noches')\n",
        "print(tupla[0:2])"
      ],
      "metadata": {
        "colab": {
          "base_uri": "https://localhost:8080/"
        },
        "id": "ANzlZ9bwfCCV",
        "outputId": "fc14e83e-b8e4-4ade-c85f-95644635b665"
      },
      "execution_count": null,
      "outputs": [
        {
          "output_type": "stream",
          "name": "stdout",
          "text": [
            "('Buenas', 'tardes')\n"
          ]
        }
      ]
    },
    {
      "cell_type": "markdown",
      "source": [
        "My own example 115"
      ],
      "metadata": {
        "id": "WF46Su4dgkoM"
      }
    },
    {
      "cell_type": "code",
      "source": [
        "seta = ['ma','me','mi','mo','mu','ma','mu']\n",
        "seto = set(seta)\n",
        "print(seto)"
      ],
      "metadata": {
        "colab": {
          "base_uri": "https://localhost:8080/"
        },
        "id": "EHao-nYdggpn",
        "outputId": "e5505f1f-7f8a-4171-cf29-f702e958443d"
      },
      "execution_count": null,
      "outputs": [
        {
          "output_type": "stream",
          "name": "stdout",
          "text": [
            "{'ma', 'mo', 'mi', 'me', 'mu'}\n"
          ]
        }
      ]
    },
    {
      "cell_type": "markdown",
      "source": [
        "My own example 116"
      ],
      "metadata": {
        "id": "5YEdjzPEhJbo"
      }
    },
    {
      "cell_type": "code",
      "source": [
        "dicc = {'sueño':'dormir', 'ansiedad':'preocupacion'}\n",
        "print(dicc['sueño'])"
      ],
      "metadata": {
        "colab": {
          "base_uri": "https://localhost:8080/"
        },
        "id": "89hB4CTDg-hP",
        "outputId": "03ce4b35-47f6-44e9-863d-5847853c90f5"
      },
      "execution_count": null,
      "outputs": [
        {
          "output_type": "stream",
          "name": "stdout",
          "text": [
            "dormir\n"
          ]
        }
      ]
    },
    {
      "cell_type": "markdown",
      "source": [
        "My own example 117"
      ],
      "metadata": {
        "id": "cQb9Qv5kiA6q"
      }
    },
    {
      "cell_type": "code",
      "source": [
        "dicc['ansiedad'] = 'futuro'\n",
        "print(dicc['ansiedad'])"
      ],
      "metadata": {
        "colab": {
          "base_uri": "https://localhost:8080/"
        },
        "id": "7Ow9VfqjiAGe",
        "outputId": "8257d08e-3680-49cf-ce37-218206648770"
      },
      "execution_count": null,
      "outputs": [
        {
          "output_type": "stream",
          "name": "stdout",
          "text": [
            "futuro\n"
          ]
        }
      ]
    },
    {
      "cell_type": "markdown",
      "source": [
        "My own example 118"
      ],
      "metadata": {
        "id": "VUeuLydNiUWV"
      }
    },
    {
      "cell_type": "code",
      "source": [
        "print(dicc.keys())"
      ],
      "metadata": {
        "colab": {
          "base_uri": "https://localhost:8080/"
        },
        "id": "4T2lb7GkiTHr",
        "outputId": "d65483c1-0d21-4969-dcf2-af46397d6cb0"
      },
      "execution_count": null,
      "outputs": [
        {
          "output_type": "stream",
          "name": "stdout",
          "text": [
            "dict_keys(['sueño', 'ansiedad'])\n"
          ]
        }
      ]
    },
    {
      "cell_type": "markdown",
      "source": [
        "My own example 119"
      ],
      "metadata": {
        "id": "Qsg4LX0fiiiV"
      }
    },
    {
      "cell_type": "code",
      "source": [
        "print('Cuente las eeeeee'.count('e'))\n",
        "print('buscar la z'.find('z'))\n",
        "print('todos los o en i'.replace('o','i'))"
      ],
      "metadata": {
        "colab": {
          "base_uri": "https://localhost:8080/"
        },
        "id": "OtvWcTfhidgk",
        "outputId": "471c9e48-6cf8-4d06-bdce-931dd143a88b"
      },
      "execution_count": null,
      "outputs": [
        {
          "output_type": "stream",
          "name": "stdout",
          "text": [
            "8\n",
            "10\n",
            "tidis lis i en i\n"
          ]
        }
      ]
    },
    {
      "cell_type": "markdown",
      "source": [
        "My own example 120"
      ],
      "metadata": {
        "id": "LBl4yOXZi9P1"
      }
    },
    {
      "cell_type": "code",
      "source": [
        "print('el celular es %s'%('394589'))\n",
        "print('De la %s a la %s'%('A','Z'))"
      ],
      "metadata": {
        "colab": {
          "base_uri": "https://localhost:8080/"
        },
        "id": "cwmweydmi1ma",
        "outputId": "625ad3cb-587c-444e-cf03-30e1ad938d2d"
      },
      "execution_count": null,
      "outputs": [
        {
          "output_type": "stream",
          "name": "stdout",
          "text": [
            "el celular es 394589\n",
            "De la A a la Z\n"
          ]
        }
      ]
    },
    {
      "cell_type": "markdown",
      "source": [
        "LOGICAL OPERATIONS AND LOOPS"
      ],
      "metadata": {
        "id": "nq5WIUglke6H"
      }
    },
    {
      "cell_type": "markdown",
      "source": [
        "My own example 121"
      ],
      "metadata": {
        "id": "zHjq51-Hkopx"
      }
    },
    {
      "cell_type": "code",
      "source": [
        "print(900 == 900)\n",
        "print(1 == 5)\n",
        "print(11 != 11)\n",
        "print(50 >= 5)\n",
        "print(1 >= 6)"
      ],
      "metadata": {
        "colab": {
          "base_uri": "https://localhost:8080/"
        },
        "id": "aptDRVTNjGX-",
        "outputId": "8621e302-1eba-4e71-f6c3-a2e2ef3c8253"
      },
      "execution_count": null,
      "outputs": [
        {
          "output_type": "stream",
          "name": "stdout",
          "text": [
            "True\n",
            "False\n",
            "False\n",
            "True\n",
            "False\n"
          ]
        }
      ]
    },
    {
      "cell_type": "markdown",
      "source": [
        "My own example 122"
      ],
      "metadata": {
        "id": "f6k9tzZvk6-r"
      }
    },
    {
      "cell_type": "code",
      "source": [
        "print(11 != 11 and 3<8)\n",
        "print(50 >= 5 or 4!=4)\n",
        "print(1 >= 6 and 5<5)"
      ],
      "metadata": {
        "colab": {
          "base_uri": "https://localhost:8080/"
        },
        "id": "KJpAVTwGk6OY",
        "outputId": "4ac76347-7424-4750-9c15-8ba3bec1e68a"
      },
      "execution_count": null,
      "outputs": [
        {
          "output_type": "stream",
          "name": "stdout",
          "text": [
            "False\n",
            "True\n",
            "False\n"
          ]
        }
      ]
    },
    {
      "cell_type": "markdown",
      "source": [
        "My own example 123"
      ],
      "metadata": {
        "id": "BhNr0pLvmQNM"
      }
    },
    {
      "cell_type": "code",
      "source": [
        "print((11 != 11 and 3<8) or (50 >= 5 or 4!=4))\n",
        "print((1 >= 6 and 5<5) and not (900 == 900))"
      ],
      "metadata": {
        "colab": {
          "base_uri": "https://localhost:8080/"
        },
        "id": "4ayeiEqUmPP7",
        "outputId": "52e7b293-77c1-4ab2-c4c3-619042ab8bdb"
      },
      "execution_count": null,
      "outputs": [
        {
          "output_type": "stream",
          "name": "stdout",
          "text": [
            "True\n",
            "False\n"
          ]
        }
      ]
    },
    {
      "cell_type": "markdown",
      "source": [
        "My own example 124"
      ],
      "metadata": {
        "id": "x46hLi3umnf5"
      }
    },
    {
      "cell_type": "code",
      "source": [
        "letra = \"D\"\n",
        " \n",
        "if letra == \"B\":\n",
        "   print(\"letter es B\")\n",
        " \n",
        "elif letra == \"C\":\n",
        "   print(\"letter es C\")\n",
        " \n",
        "elif letra == \"A\":\n",
        "   print(\"letra es A\")\n",
        " \n",
        "else:\n",
        "   print(\"letra no es A, B o C\")"
      ],
      "metadata": {
        "colab": {
          "base_uri": "https://localhost:8080/"
        },
        "id": "xWZhiYxRmmZg",
        "outputId": "8c793fc8-d330-43cc-87ac-0dd10c5271d2"
      },
      "execution_count": null,
      "outputs": [
        {
          "output_type": "stream",
          "name": "stdout",
          "text": [
            "letra no es A, B o C\n"
          ]
        }
      ]
    },
    {
      "cell_type": "markdown",
      "source": [
        "My own example 125"
      ],
      "metadata": {
        "id": "Ug93C24Lnzkr"
      }
    },
    {
      "cell_type": "code",
      "source": [
        "n = 10\n",
        "sum = 0\n",
        "i = 1\n",
        "while i <= n:\n",
        "    sum = sum + i\n",
        "    i = i+1 \n",
        "print(\"La suma es\", sum)"
      ],
      "metadata": {
        "colab": {
          "base_uri": "https://localhost:8080/"
        },
        "id": "18n_ZT2rnqHR",
        "outputId": "b8e6a3c8-cb0b-4f65-de05-673736220a94"
      },
      "execution_count": null,
      "outputs": [
        {
          "output_type": "stream",
          "name": "stdout",
          "text": [
            "La suma es 55\n"
          ]
        }
      ]
    },
    {
      "cell_type": "markdown",
      "source": [
        "My own example 126"
      ],
      "metadata": {
        "id": "YWFyYy2koS3r"
      }
    },
    {
      "cell_type": "code",
      "source": [
        "for x in range(6):\n",
        "  if x == 4: break\n",
        "  print(x)\n",
        "else:\n",
        "  print(\"Fin\")"
      ],
      "metadata": {
        "colab": {
          "base_uri": "https://localhost:8080/"
        },
        "id": "y_X4sp8soLY9",
        "outputId": "0249f77e-842a-4133-d43a-2a363f9768ed"
      },
      "execution_count": null,
      "outputs": [
        {
          "output_type": "stream",
          "name": "stdout",
          "text": [
            "0\n",
            "1\n",
            "2\n",
            "3\n"
          ]
        }
      ]
    },
    {
      "cell_type": "markdown",
      "source": [
        "My own example 127"
      ],
      "metadata": {
        "id": "VenI5fpLpESh"
      }
    },
    {
      "cell_type": "code",
      "source": [
        "vocales = [\"a\", \"e\", \"i\", \"o\",\"u\"]\n",
        "for x in vocales:\n",
        "  print(x)\n",
        "  if x == \"e\":\n",
        "    break"
      ],
      "metadata": {
        "colab": {
          "base_uri": "https://localhost:8080/"
        },
        "id": "lUyZSbkCotJ0",
        "outputId": "2a9659d5-880d-461e-f43a-8e5c1ce3ac3f"
      },
      "execution_count": null,
      "outputs": [
        {
          "output_type": "stream",
          "name": "stdout",
          "text": [
            "a\n",
            "e\n"
          ]
        }
      ]
    },
    {
      "cell_type": "markdown",
      "source": [
        "My own example 128"
      ],
      "metadata": {
        "id": "xS-iZ-Jupg24"
      }
    },
    {
      "cell_type": "code",
      "source": [
        "cubicas = []\n",
        "for i in [1,2,3,4,5]:\n",
        "    cubicas.append(i**3)\n",
        "print(cubicas)"
      ],
      "metadata": {
        "colab": {
          "base_uri": "https://localhost:8080/"
        },
        "id": "_0fcX_d0pfSC",
        "outputId": "5ee7293c-ed9b-426a-8580-236c9e88d1b6"
      },
      "execution_count": null,
      "outputs": [
        {
          "output_type": "stream",
          "name": "stdout",
          "text": [
            "[1, 8, 27, 64, 125]\n"
          ]
        }
      ]
    },
    {
      "cell_type": "markdown",
      "source": [
        "My own example 129"
      ],
      "metadata": {
        "id": "GBE9ntNXpx03"
      }
    },
    {
      "cell_type": "code",
      "source": [
        "lis = [1,2,3,4,5]\n",
        "cubicas = [x**3 for x in lis]\n",
        "print(cubicas)"
      ],
      "metadata": {
        "colab": {
          "base_uri": "https://localhost:8080/"
        },
        "id": "URCFKGKNpwkF",
        "outputId": "674936d6-38d2-434b-ec68-24c242a60e96"
      },
      "execution_count": null,
      "outputs": [
        {
          "output_type": "stream",
          "name": "stdout",
          "text": [
            "[1, 8, 27, 64, 125]\n"
          ]
        }
      ]
    },
    {
      "cell_type": "markdown",
      "source": [
        "My own example 130"
      ],
      "metadata": {
        "id": "4pmvId3HqDnA"
      }
    },
    {
      "cell_type": "code",
      "source": [
        "for x in range(1, 15, 5):\n",
        "  print(x)"
      ],
      "metadata": {
        "colab": {
          "base_uri": "https://localhost:8080/"
        },
        "id": "iNcAVGbAqAJ0",
        "outputId": "6077dd74-21e5-47e2-e619-d776369b390b"
      },
      "execution_count": null,
      "outputs": [
        {
          "output_type": "stream",
          "name": "stdout",
          "text": [
            "1\n",
            "6\n",
            "11\n"
          ]
        }
      ]
    },
    {
      "cell_type": "markdown",
      "source": [
        "My own example 131"
      ],
      "metadata": {
        "id": "LXF4LuCEqcyV"
      }
    },
    {
      "cell_type": "code",
      "source": [
        "i = 8\n",
        "while i < 20:\n",
        "  print(i)\n",
        "  if i == 16:\n",
        "    break\n",
        "  i += 1"
      ],
      "metadata": {
        "colab": {
          "base_uri": "https://localhost:8080/"
        },
        "id": "OMKXZaQRqUQd",
        "outputId": "0b855984-2e1d-400c-d08f-93ccd1f210a2"
      },
      "execution_count": null,
      "outputs": [
        {
          "output_type": "stream",
          "name": "stdout",
          "text": [
            "8\n",
            "9\n",
            "10\n",
            "11\n",
            "12\n",
            "13\n",
            "14\n",
            "15\n",
            "16\n"
          ]
        }
      ]
    },
    {
      "cell_type": "markdown",
      "source": [
        "My own example 132"
      ],
      "metadata": {
        "id": "QtM8NaEPrVoU"
      }
    },
    {
      "cell_type": "code",
      "source": [
        "i = 1\n",
        "while i < 8:\n",
        "  print(i)\n",
        "  i += 1\n",
        "else:\n",
        "  print(\"i ya no es menor que 8\")"
      ],
      "metadata": {
        "colab": {
          "base_uri": "https://localhost:8080/"
        },
        "id": "YAYpUVGarUX_",
        "outputId": "8011943a-d40b-4a42-c125-6278474f6c57"
      },
      "execution_count": null,
      "outputs": [
        {
          "output_type": "stream",
          "name": "stdout",
          "text": [
            "1\n",
            "2\n",
            "3\n",
            "4\n",
            "5\n",
            "6\n",
            "7\n",
            "i ya no es menor que 8\n"
          ]
        }
      ]
    },
    {
      "cell_type": "markdown",
      "source": [
        "My own example 133"
      ],
      "metadata": {
        "id": "4gvW5uQ2rrbr"
      }
    },
    {
      "cell_type": "code",
      "source": [
        "mult5 = []\n",
        "for i in [1,2,3,4,5]:\n",
        "    mult5.append(i*5)\n",
        "print(mult5)"
      ],
      "metadata": {
        "colab": {
          "base_uri": "https://localhost:8080/"
        },
        "id": "NWuJaeFkrjAS",
        "outputId": "481f110d-e30c-4e81-e2fd-fe11e24f8f53"
      },
      "execution_count": null,
      "outputs": [
        {
          "output_type": "stream",
          "name": "stdout",
          "text": [
            "[5, 10, 15, 20, 25]\n"
          ]
        }
      ]
    },
    {
      "cell_type": "markdown",
      "source": [
        "My own example 134"
      ],
      "metadata": {
        "id": "GbS_k3kRsSDx"
      }
    },
    {
      "cell_type": "code",
      "source": [
        "onomat = ['oh','au','ay','puf','pum']\n",
        "selec = ['pum','puf']\n",
        "new_list = [x for x in onomat if x in selec]\n",
        "print(new_list)"
      ],
      "metadata": {
        "colab": {
          "base_uri": "https://localhost:8080/"
        },
        "id": "54j7ktPEr8Mt",
        "outputId": "8483483e-c13c-4340-f8bf-1ceb262d2579"
      },
      "execution_count": null,
      "outputs": [
        {
          "output_type": "stream",
          "name": "stdout",
          "text": [
            "['puf', 'pum']\n"
          ]
        }
      ]
    },
    {
      "cell_type": "markdown",
      "source": [
        "My own example 135"
      ],
      "metadata": {
        "id": "iOjA7hr2sy21"
      }
    },
    {
      "cell_type": "code",
      "source": [
        "print([str(x)+' y '+str(y) for x in ['Alejo','Andrea','Juan'] for y in ['Fabian','Vanessa','Gina'] if x!=y])"
      ],
      "metadata": {
        "colab": {
          "base_uri": "https://localhost:8080/"
        },
        "id": "1TRLk0sksx86",
        "outputId": "69b2639b-a203-4ebf-f223-07a345d10b0e"
      },
      "execution_count": null,
      "outputs": [
        {
          "output_type": "stream",
          "name": "stdout",
          "text": [
            "['Alejo y Fabian', 'Alejo y Vanessa', 'Alejo y Gina', 'Andrea y Fabian', 'Andrea y Vanessa', 'Andrea y Gina', 'Juan y Fabian', 'Juan y Vanessa', 'Juan y Gina']\n"
          ]
        }
      ]
    },
    {
      "cell_type": "markdown",
      "source": [
        "My own example 136"
      ],
      "metadata": {
        "id": "tTj8WSMVta56"
      }
    },
    {
      "cell_type": "code",
      "source": [
        "print([(x, y) for x in [3,6,8,0] for y in [2,1] if x != y])"
      ],
      "metadata": {
        "colab": {
          "base_uri": "https://localhost:8080/"
        },
        "id": "DZsHrwgvs8ES",
        "outputId": "aafc73aa-17d9-4f7e-fbb7-baf802475d81"
      },
      "execution_count": null,
      "outputs": [
        {
          "output_type": "stream",
          "name": "stdout",
          "text": [
            "[(3, 2), (3, 1), (6, 2), (6, 1), (8, 2), (8, 1), (0, 2), (0, 1)]\n"
          ]
        }
      ]
    },
    {
      "cell_type": "markdown",
      "source": [
        "My own example 137"
      ],
      "metadata": {
        "id": "hEaVm5jQtmRO"
      }
    },
    {
      "cell_type": "code",
      "source": [
        "sabores = ['fresa','vainilla','chocolate']\n",
        "cono = ['fresa','vainilla']\n",
        "orden = [x for x in sabores if x in cono]\n",
        "print(orden)"
      ],
      "metadata": {
        "colab": {
          "base_uri": "https://localhost:8080/"
        },
        "id": "Rvo84Smxte6j",
        "outputId": "127af5b2-1c21-4a8e-f70e-28825975f3d8"
      },
      "execution_count": null,
      "outputs": [
        {
          "output_type": "stream",
          "name": "stdout",
          "text": [
            "['fresa', 'vainilla']\n"
          ]
        }
      ]
    },
    {
      "cell_type": "markdown",
      "source": [
        "My own example 138"
      ],
      "metadata": {
        "id": "OH3k1kPfuOtS"
      }
    },
    {
      "cell_type": "code",
      "source": [
        "a = 81\n",
        "b = 81\n",
        "if b > a:\n",
        "  print(\"b mayor que a\")\n",
        "elif a == b:\n",
        "  print(\"a y b son iguales\")"
      ],
      "metadata": {
        "colab": {
          "base_uri": "https://localhost:8080/"
        },
        "id": "CWb53cCLuIZb",
        "outputId": "b9642e72-4ec8-4487-a481-489672ad4e39"
      },
      "execution_count": null,
      "outputs": [
        {
          "output_type": "stream",
          "name": "stdout",
          "text": [
            "a y b son iguales\n"
          ]
        }
      ]
    },
    {
      "cell_type": "markdown",
      "source": [
        "My own example 139"
      ],
      "metadata": {
        "id": "qe7a4sJRulhn"
      }
    },
    {
      "cell_type": "code",
      "source": [
        "for x in range(9, 21):\n",
        "  print(x)"
      ],
      "metadata": {
        "colab": {
          "base_uri": "https://localhost:8080/"
        },
        "id": "KvD39IYrukly",
        "outputId": "5c780d2b-beec-48f1-bb01-ac7b81c9ed24"
      },
      "execution_count": null,
      "outputs": [
        {
          "output_type": "stream",
          "name": "stdout",
          "text": [
            "9\n",
            "10\n",
            "11\n",
            "12\n",
            "13\n",
            "14\n",
            "15\n",
            "16\n",
            "17\n",
            "18\n",
            "19\n",
            "20\n"
          ]
        }
      ]
    },
    {
      "cell_type": "markdown",
      "source": [
        "My own example 140"
      ],
      "metadata": {
        "id": "MczDsB2Ku1i0"
      }
    },
    {
      "cell_type": "code",
      "source": [
        "pares = []\n",
        "for i in [1,3,5,7,9]:\n",
        "    pares.append(i+1)\n",
        "print(pares)"
      ],
      "metadata": {
        "colab": {
          "base_uri": "https://localhost:8080/"
        },
        "id": "58CiYtE5u0FN",
        "outputId": "5e06cd23-0aba-429f-a6cf-d50885574a02"
      },
      "execution_count": null,
      "outputs": [
        {
          "output_type": "stream",
          "name": "stdout",
          "text": [
            "[2, 4, 6, 8, 10]\n"
          ]
        }
      ]
    },
    {
      "cell_type": "markdown",
      "source": [
        "FUNCTIONS AND OBJETIVE-ORIENTED PROGRAMMING"
      ],
      "metadata": {
        "id": "uO2gQj-RvbjQ"
      }
    },
    {
      "cell_type": "markdown",
      "source": [
        "My own example 141"
      ],
      "metadata": {
        "id": "jt2WzgBLvfm6"
      }
    },
    {
      "cell_type": "code",
      "source": [
        "def division(a,b):\n",
        "    return a/b\n",
        "print(division(8,4))\n",
        "print(division(10,5))"
      ],
      "metadata": {
        "colab": {
          "base_uri": "https://localhost:8080/"
        },
        "id": "lE47rF05vIVr",
        "outputId": "c434732e-34b1-4910-8013-bbc583e03225"
      },
      "execution_count": null,
      "outputs": [
        {
          "output_type": "stream",
          "name": "stdout",
          "text": [
            "2.0\n",
            "2.0\n"
          ]
        }
      ]
    },
    {
      "cell_type": "markdown",
      "source": [
        "My own example 142"
      ],
      "metadata": {
        "id": "sswKW8AfH23x"
      }
    },
    {
      "cell_type": "code",
      "source": [
        "def mensaje():\n",
        "    print('llame más tarde')\n",
        "mensaje()"
      ],
      "metadata": {
        "colab": {
          "base_uri": "https://localhost:8080/"
        },
        "id": "RP0XakAaH17C",
        "outputId": "be5d7b04-d8ea-4aee-fe0f-1b7f84f24fd9"
      },
      "execution_count": null,
      "outputs": [
        {
          "output_type": "stream",
          "name": "stdout",
          "text": [
            "llame más tarde\n"
          ]
        }
      ]
    },
    {
      "cell_type": "markdown",
      "source": [
        "My own example 143"
      ],
      "metadata": {
        "id": "MH6bOiAuIQNs"
      }
    },
    {
      "cell_type": "code",
      "source": [
        "print(range(5))\n",
        "print(range(7,9))\n",
        "print(range(1,10,3))"
      ],
      "metadata": {
        "colab": {
          "base_uri": "https://localhost:8080/"
        },
        "id": "th1E70VyIPUV",
        "outputId": "e50cd8b7-60b4-4c2e-eda6-f14ef46f0c61"
      },
      "execution_count": null,
      "outputs": [
        {
          "output_type": "stream",
          "name": "stdout",
          "text": [
            "range(0, 5)\n",
            "range(7, 9)\n",
            "range(1, 10, 3)\n"
          ]
        }
      ]
    },
    {
      "cell_type": "markdown",
      "source": [
        "My own example 144"
      ],
      "metadata": {
        "id": "H29wfDO_JJ1a"
      }
    },
    {
      "cell_type": "code",
      "source": [
        "año = ['2015','2018','2021']\n",
        "print('Años de eclipses {}'.format(len(año)))\n",
        "for i in range(len(año)):\n",
        "    print(año[i])"
      ],
      "metadata": {
        "colab": {
          "base_uri": "https://localhost:8080/"
        },
        "id": "IKqh_fs9IbM8",
        "outputId": "b92cb6bc-8b9b-4bca-e980-1472657ca209"
      },
      "execution_count": null,
      "outputs": [
        {
          "output_type": "stream",
          "name": "stdout",
          "text": [
            "Años de eclipses 3\n",
            "2015\n",
            "2018\n",
            "2021\n"
          ]
        }
      ]
    },
    {
      "cell_type": "markdown",
      "source": [
        "My own example 145"
      ],
      "metadata": {
        "id": "sbfF05ZtJL10"
      }
    },
    {
      "cell_type": "code",
      "source": [
        "print(list(map(len,año)))"
      ],
      "metadata": {
        "colab": {
          "base_uri": "https://localhost:8080/"
        },
        "id": "iW_uvDDYI91n",
        "outputId": "3393832f-646f-4626-9298-5dcb2dda3670"
      },
      "execution_count": null,
      "outputs": [
        {
          "output_type": "stream",
          "name": "stdout",
          "text": [
            "[4, 4, 4]\n"
          ]
        }
      ]
    },
    {
      "cell_type": "markdown",
      "source": [
        "My own example 146"
      ],
      "metadata": {
        "id": "hfWyxvMJJaak"
      }
    },
    {
      "cell_type": "code",
      "source": [
        "list(map(lambda x: x*4, range(20)))"
      ],
      "metadata": {
        "colab": {
          "base_uri": "https://localhost:8080/"
        },
        "id": "WmOy2X9lJWSo",
        "outputId": "d5e8db4a-0d58-4896-e13f-08f7b8b94d73"
      },
      "execution_count": null,
      "outputs": [
        {
          "output_type": "execute_result",
          "data": {
            "text/plain": [
              "[0, 4, 8, 12, 16, 20, 24, 28, 32, 36, 40, 44, 48, 52, 56, 60, 64, 68, 72, 76]"
            ]
          },
          "metadata": {},
          "execution_count": 88
        }
      ]
    },
    {
      "cell_type": "markdown",
      "source": [
        "My own example 147"
      ],
      "metadata": {
        "id": "o3jJDw5HJpch"
      }
    },
    {
      "cell_type": "code",
      "source": [
        "list(map(lambda a, b: a-b, [9,7,2],[5,2,1]))"
      ],
      "metadata": {
        "colab": {
          "base_uri": "https://localhost:8080/"
        },
        "id": "4NOf9pHkJfnT",
        "outputId": "83201b54-625d-41a0-ad79-902a05037e1c"
      },
      "execution_count": null,
      "outputs": [
        {
          "output_type": "execute_result",
          "data": {
            "text/plain": [
              "[4, 5, 1]"
            ]
          },
          "metadata": {},
          "execution_count": 92
        }
      ]
    },
    {
      "cell_type": "markdown",
      "source": [
        "My own example 148"
      ],
      "metadata": {
        "id": "sIgYDBkaJ--i"
      }
    },
    {
      "cell_type": "code",
      "source": [
        "sorted(['m','a','n','o'])"
      ],
      "metadata": {
        "colab": {
          "base_uri": "https://localhost:8080/"
        },
        "id": "bOXRnYpGJxg6",
        "outputId": "fc83f2d6-6393-49c4-c39a-18c680e33a4b"
      },
      "execution_count": null,
      "outputs": [
        {
          "output_type": "execute_result",
          "data": {
            "text/plain": [
              "['a', 'm', 'n', 'o']"
            ]
          },
          "metadata": {},
          "execution_count": 93
        }
      ]
    },
    {
      "cell_type": "markdown",
      "source": [
        "My own example 149"
      ],
      "metadata": {
        "id": "mmvrQBbUKMOc"
      }
    },
    {
      "cell_type": "code",
      "source": [
        "class stock:\n",
        "    def __init__(self, ticker, open, close, volume):\n",
        "        self.ticker = ticker\n",
        "        self.open = open\n",
        "        self.close = close\n",
        "        self.volume = volume\n",
        "        self.rate_return = float(close)/open - 1\n",
        " \n",
        "    def update(self, open, close):\n",
        "        self.open = open\n",
        "        self.close = close\n",
        "        self.rate_return = float(self.close)/self.open - 1\n",
        " \n",
        "    def print_return(self):\n",
        "        print(self.rate_return)\n",
        "nvda = stock('AAPL', 150, 500.9, 2010)\n",
        "vale = stock('GOOG', 98.7, 917, 1616)\n",
        "nvda.ticker\n",
        "vale.print_return()\n",
        "nvda.update(912.8,913.4)\n",
        "nvda.print_return()"
      ],
      "metadata": {
        "colab": {
          "base_uri": "https://localhost:8080/"
        },
        "id": "xQaRwwVBKKn0",
        "outputId": "46e533af-1b50-4d63-facd-836778916b1b"
      },
      "execution_count": null,
      "outputs": [
        {
          "output_type": "stream",
          "name": "stdout",
          "text": [
            "8.290780141843971\n",
            "0.0006573181419806673\n"
          ]
        }
      ]
    },
    {
      "cell_type": "markdown",
      "source": [
        "My own example 150"
      ],
      "metadata": {
        "id": "pZGGVByNL1E_"
      }
    },
    {
      "cell_type": "code",
      "source": [
        "class child(stock):\n",
        "    def __init__(self,name):\n",
        "        self.name = name\n",
        "awa = child('awa')\n",
        "print(awa.name)\n",
        "awa.update(100,102)\n",
        "print(awa.open)\n",
        "print(awa.close)\n",
        "print(awa.print_return())"
      ],
      "metadata": {
        "colab": {
          "base_uri": "https://localhost:8080/"
        },
        "id": "E8Fqq6dfKvVQ",
        "outputId": "edcbc102-5369-4a2c-889e-ad8eecfc2f9f"
      },
      "execution_count": null,
      "outputs": [
        {
          "output_type": "stream",
          "name": "stdout",
          "text": [
            "awa\n",
            "100\n",
            "102\n",
            "0.020000000000000018\n",
            "None\n"
          ]
        }
      ]
    },
    {
      "cell_type": "markdown",
      "source": [
        "My own example 151"
      ],
      "metadata": {
        "id": "LqedNj8YMm6z"
      }
    },
    {
      "cell_type": "code",
      "source": [
        "pb = child('pb')\n",
        "print(pb.name)\n",
        "pb.update(50,10)\n",
        "print(pb.open)\n",
        "print(pb.close)\n",
        "print(pb.print_return())"
      ],
      "metadata": {
        "colab": {
          "base_uri": "https://localhost:8080/"
        },
        "id": "9Q2m5yulMIT2",
        "outputId": "f9c0fa7a-489c-4da1-f219-92ae275e12fc"
      },
      "execution_count": null,
      "outputs": [
        {
          "output_type": "stream",
          "name": "stdout",
          "text": [
            "pb\n",
            "50\n",
            "10\n",
            "-0.8\n",
            "None\n"
          ]
        }
      ]
    },
    {
      "cell_type": "markdown",
      "source": [
        "My own example 152"
      ],
      "metadata": {
        "id": "Q0d1guqONGDO"
      }
    },
    {
      "cell_type": "code",
      "source": [
        "nvda.ticker\n",
        "vale.print_return()\n",
        "nvda.update(60,91)\n",
        "nvda.print_return()"
      ],
      "metadata": {
        "colab": {
          "base_uri": "https://localhost:8080/"
        },
        "id": "g144pD1TNDuo",
        "outputId": "1e1c080d-64a8-4791-95ba-d3b8d90d8a38"
      },
      "execution_count": null,
      "outputs": [
        {
          "output_type": "stream",
          "name": "stdout",
          "text": [
            "8.290780141843971\n",
            "0.5166666666666666\n"
          ]
        }
      ]
    },
    {
      "cell_type": "markdown",
      "source": [
        "My own example 153"
      ],
      "metadata": {
        "id": "IlZttvNvNo0L"
      }
    },
    {
      "cell_type": "code",
      "source": [
        "nvda.product = 'Tarjeta grafica'\n",
        "nvda.product"
      ],
      "metadata": {
        "colab": {
          "base_uri": "https://localhost:8080/",
          "height": 35
        },
        "id": "l7F6S0UHNYIA",
        "outputId": "8b9b63fb-a0ac-4e22-aa24-792a7462a365"
      },
      "execution_count": null,
      "outputs": [
        {
          "output_type": "execute_result",
          "data": {
            "text/plain": [
              "'Tarjeta grafica'"
            ],
            "application/vnd.google.colaboratory.intrinsic+json": {
              "type": "string"
            }
          },
          "metadata": {},
          "execution_count": 104
        }
      ]
    },
    {
      "cell_type": "markdown",
      "source": [
        "My own example 154"
      ],
      "metadata": {
        "id": "qnZXuWFzNrBd"
      }
    },
    {
      "cell_type": "code",
      "source": [
        "dir(vale)"
      ],
      "metadata": {
        "colab": {
          "base_uri": "https://localhost:8080/"
        },
        "id": "4PD5hhyFNnkg",
        "outputId": "4c786a0b-2abd-49a2-d9da-42b1f75031b7"
      },
      "execution_count": null,
      "outputs": [
        {
          "output_type": "execute_result",
          "data": {
            "text/plain": [
              "['__class__',\n",
              " '__delattr__',\n",
              " '__dict__',\n",
              " '__dir__',\n",
              " '__doc__',\n",
              " '__eq__',\n",
              " '__format__',\n",
              " '__ge__',\n",
              " '__getattribute__',\n",
              " '__gt__',\n",
              " '__hash__',\n",
              " '__init__',\n",
              " '__init_subclass__',\n",
              " '__le__',\n",
              " '__lt__',\n",
              " '__module__',\n",
              " '__ne__',\n",
              " '__new__',\n",
              " '__reduce__',\n",
              " '__reduce_ex__',\n",
              " '__repr__',\n",
              " '__setattr__',\n",
              " '__sizeof__',\n",
              " '__str__',\n",
              " '__subclasshook__',\n",
              " '__weakref__',\n",
              " 'close',\n",
              " 'open',\n",
              " 'print_return',\n",
              " 'rate_return',\n",
              " 'ticker',\n",
              " 'update',\n",
              " 'volume']"
            ]
          },
          "metadata": {},
          "execution_count": 105
        }
      ]
    },
    {
      "cell_type": "markdown",
      "source": [
        "My own example 155"
      ],
      "metadata": {
        "id": "PCO0GXhNNxOQ"
      }
    },
    {
      "cell_type": "code",
      "source": [
        "price_list = [('FB',150),('WMT',75.32),('KJS',563.09)]\n",
        "price_list.sort(key = lambda x: x[0])\n",
        "print(price_list)"
      ],
      "metadata": {
        "colab": {
          "base_uri": "https://localhost:8080/"
        },
        "id": "tCrFx_oBNvOh",
        "outputId": "493485ec-baa5-42bc-f736-e1e54413f492"
      },
      "execution_count": null,
      "outputs": [
        {
          "output_type": "stream",
          "name": "stdout",
          "text": [
            "[('FB', 150), ('KJS', 563.09), ('WMT', 75.32)]\n"
          ]
        }
      ]
    },
    {
      "cell_type": "markdown",
      "source": [
        "My own example 156"
      ],
      "metadata": {
        "id": "LUD-kNeAOPmb"
      }
    },
    {
      "cell_type": "code",
      "source": [
        "loteria=sorted([9,8,7,6,5,4,3,2,1])\n",
        "loteria"
      ],
      "metadata": {
        "colab": {
          "base_uri": "https://localhost:8080/"
        },
        "id": "fOFeNuUAODkb",
        "outputId": "89e4a9f8-d266-4620-fd5c-ac10cf31ca33"
      },
      "execution_count": null,
      "outputs": [
        {
          "output_type": "execute_result",
          "data": {
            "text/plain": [
              "[1, 2, 3, 4, 5, 6, 7, 8, 9]"
            ]
          },
          "metadata": {},
          "execution_count": 112
        }
      ]
    },
    {
      "cell_type": "markdown",
      "source": [
        "My own example 157"
      ],
      "metadata": {
        "id": "KkmckUKGOlHo"
      }
    },
    {
      "cell_type": "code",
      "source": [
        "list(map(lambda x, y: x-y, [1,2,3,4],[5,3,2,1]))"
      ],
      "metadata": {
        "colab": {
          "base_uri": "https://localhost:8080/"
        },
        "id": "ij9-WqIEOgDf",
        "outputId": "d68271a2-1b38-43ad-dc3b-cc967927f621"
      },
      "execution_count": null,
      "outputs": [
        {
          "output_type": "execute_result",
          "data": {
            "text/plain": [
              "[-4, -1, 1, 3]"
            ]
          },
          "metadata": {},
          "execution_count": 114
        }
      ]
    },
    {
      "cell_type": "markdown",
      "source": [
        "My own example 158"
      ],
      "metadata": {
        "id": "1cRikDK1PUq0"
      }
    },
    {
      "cell_type": "code",
      "source": [
        "list(map(lambda x: (x*2)/3, range(30)))"
      ],
      "metadata": {
        "colab": {
          "base_uri": "https://localhost:8080/"
        },
        "id": "l4M8ocZWPDLA",
        "outputId": "09c0ac7b-bd4a-49f3-ccb3-7668c70d1e6b"
      },
      "execution_count": null,
      "outputs": [
        {
          "output_type": "execute_result",
          "data": {
            "text/plain": [
              "[0.0,\n",
              " 0.6666666666666666,\n",
              " 1.3333333333333333,\n",
              " 2.0,\n",
              " 2.6666666666666665,\n",
              " 3.3333333333333335,\n",
              " 4.0,\n",
              " 4.666666666666667,\n",
              " 5.333333333333333,\n",
              " 6.0,\n",
              " 6.666666666666667,\n",
              " 7.333333333333333,\n",
              " 8.0,\n",
              " 8.666666666666666,\n",
              " 9.333333333333334,\n",
              " 10.0,\n",
              " 10.666666666666666,\n",
              " 11.333333333333334,\n",
              " 12.0,\n",
              " 12.666666666666666,\n",
              " 13.333333333333334,\n",
              " 14.0,\n",
              " 14.666666666666666,\n",
              " 15.333333333333334,\n",
              " 16.0,\n",
              " 16.666666666666668,\n",
              " 17.333333333333332,\n",
              " 18.0,\n",
              " 18.666666666666668,\n",
              " 19.333333333333332]"
            ]
          },
          "metadata": {},
          "execution_count": 115
        }
      ]
    },
    {
      "cell_type": "markdown",
      "source": [
        "My own example 159"
      ],
      "metadata": {
        "id": "dWmT-jT_PmT2"
      }
    },
    {
      "cell_type": "code",
      "source": [
        "print(range(1,10))\n",
        "print(range(40,80,4))"
      ],
      "metadata": {
        "colab": {
          "base_uri": "https://localhost:8080/"
        },
        "id": "Wc8okGVQPkXa",
        "outputId": "8fee1a8d-361d-4692-b6f3-f343e78344bb"
      },
      "execution_count": null,
      "outputs": [
        {
          "output_type": "stream",
          "name": "stdout",
          "text": [
            "range(1, 10)\n",
            "range(40, 80, 4)\n"
          ]
        }
      ]
    },
    {
      "cell_type": "markdown",
      "source": [
        "My own example 160"
      ],
      "metadata": {
        "id": "QypQ9ezKPy1K"
      }
    },
    {
      "cell_type": "code",
      "source": [
        "tickers = ['899','78','989','35','56']\n",
        "print(list(map(min,tickers)))"
      ],
      "metadata": {
        "colab": {
          "base_uri": "https://localhost:8080/"
        },
        "id": "gs3LFjTePx5e",
        "outputId": "59d8d7c3-a4f6-4c56-ed9e-5784b2b2425a"
      },
      "execution_count": null,
      "outputs": [
        {
          "output_type": "stream",
          "name": "stdout",
          "text": [
            "['8', '7', '8', '3', '5']\n"
          ]
        }
      ]
    },
    {
      "cell_type": "markdown",
      "source": [
        "NUMPY AND BASIC PANDAS"
      ],
      "metadata": {
        "id": "1XtZwPQtceGd"
      }
    },
    {
      "cell_type": "markdown",
      "source": [
        "My own example 161"
      ],
      "metadata": {
        "id": "anJQxUxacmVF"
      }
    },
    {
      "cell_type": "code",
      "source": [
        "import numpy as np\n",
        "variables = ['x', 'y', 'z']\n",
        "varray = np.array(variables)\n",
        "print(varray, type(varray))"
      ],
      "metadata": {
        "id": "gQ1xYHFAQm2T",
        "colab": {
          "base_uri": "https://localhost:8080/"
        },
        "outputId": "946324fe-4334-4404-d138-e207def73b81"
      },
      "execution_count": 1,
      "outputs": [
        {
          "output_type": "stream",
          "name": "stdout",
          "text": [
            "['x' 'y' 'z'] <class 'numpy.ndarray'>\n"
          ]
        }
      ]
    },
    {
      "cell_type": "markdown",
      "source": [
        "My own example 162"
      ],
      "metadata": {
        "id": "jL96xV9hg23F"
      }
    },
    {
      "cell_type": "code",
      "source": [
        "valvar = np.array([['x','y','z'],[5,6,8]])\n",
        "print(valvar, type(valvar))"
      ],
      "metadata": {
        "colab": {
          "base_uri": "https://localhost:8080/"
        },
        "id": "uKlK61ragaIU",
        "outputId": "753700c7-8e8a-45fc-c012-db47e2a14ef8"
      },
      "execution_count": 2,
      "outputs": [
        {
          "output_type": "stream",
          "name": "stdout",
          "text": [
            "[['x' 'y' 'z']\n",
            " ['5' '6' '8']] <class 'numpy.ndarray'>\n"
          ]
        }
      ]
    },
    {
      "cell_type": "markdown",
      "source": [
        "My own example 163"
      ],
      "metadata": {
        "id": "hJMft0zSg6Dt"
      }
    },
    {
      "cell_type": "code",
      "source": [
        "print(valvar.shape)"
      ],
      "metadata": {
        "colab": {
          "base_uri": "https://localhost:8080/"
        },
        "id": "0t5evYs7gw1o",
        "outputId": "27d631b0-98e9-47d4-ae77-23777bba856e"
      },
      "execution_count": 3,
      "outputs": [
        {
          "output_type": "stream",
          "name": "stdout",
          "text": [
            "(2, 3)\n"
          ]
        }
      ]
    },
    {
      "cell_type": "markdown",
      "source": [
        "My own example 164"
      ],
      "metadata": {
        "id": "U3lVMg2jhTda"
      }
    },
    {
      "cell_type": "code",
      "source": [
        "print(valvar[1])\n",
        "print(valvar[0])"
      ],
      "metadata": {
        "colab": {
          "base_uri": "https://localhost:8080/"
        },
        "id": "rrG_WLStg1U8",
        "outputId": "6858f377-2738-4360-91a5-66bbf4014879"
      },
      "execution_count": 5,
      "outputs": [
        {
          "output_type": "stream",
          "name": "stdout",
          "text": [
            "['5' '6' '8']\n",
            "['x' 'y' 'z']\n"
          ]
        }
      ]
    },
    {
      "cell_type": "markdown",
      "source": [
        "My own example 165"
      ],
      "metadata": {
        "id": "PgM6NDwmhWEM"
      }
    },
    {
      "cell_type": "code",
      "source": [
        "print('Columna 2: ', valvar[:,1])\n",
        "print('Fila 2: ', valvar[1,:])"
      ],
      "metadata": {
        "colab": {
          "base_uri": "https://localhost:8080/"
        },
        "id": "XTCjlew6hJLD",
        "outputId": "743f92e7-4fe1-4015-d628-df109cbae110"
      },
      "execution_count": 7,
      "outputs": [
        {
          "output_type": "stream",
          "name": "stdout",
          "text": [
            "Columna 2:  ['y' '6']\n",
            "Fila 2:  ['5' '6' '8']\n"
          ]
        }
      ]
    },
    {
      "cell_type": "markdown",
      "source": [
        "My own example 166"
      ],
      "metadata": {
        "id": "KN-yOL-ohySw"
      }
    },
    {
      "cell_type": "code",
      "source": [
        "print('Columna 3: ', valvar[:,2])\n",
        "print('Fila 1: ', valvar[0,:])"
      ],
      "metadata": {
        "colab": {
          "base_uri": "https://localhost:8080/"
        },
        "id": "YYKwbq4Lhs9B",
        "outputId": "16a51a30-4115-4bb0-c12f-3e5719bc9807"
      },
      "execution_count": 8,
      "outputs": [
        {
          "output_type": "stream",
          "name": "stdout",
          "text": [
            "Columna 3:  ['z' '8']\n",
            "Fila 1:  ['x' 'y' 'z']\n"
          ]
        }
      ]
    },
    {
      "cell_type": "markdown",
      "source": [
        "My own example 167"
      ],
      "metadata": {
        "id": "ivEho-Pyh76_"
      }
    },
    {
      "cell_type": "code",
      "source": [
        "numeritos=[78,23,6,23,98,34]\n",
        "print(\"logartimo natural\")\n",
        "print(np.log(numeritos))"
      ],
      "metadata": {
        "colab": {
          "base_uri": "https://localhost:8080/"
        },
        "id": "enPcW0rph67-",
        "outputId": "514846f8-a466-42ba-a913-3e716a0c6e62"
      },
      "execution_count": 11,
      "outputs": [
        {
          "output_type": "stream",
          "name": "stdout",
          "text": [
            "logartimo natural\n",
            "[4.35670883 3.13549422 1.79175947 3.13549422 4.58496748 3.52636052]\n"
          ]
        }
      ]
    },
    {
      "cell_type": "markdown",
      "source": [
        "My own example 168"
      ],
      "metadata": {
        "id": "-xcNC64siuGX"
      }
    },
    {
      "cell_type": "code",
      "source": [
        "print(\"Media:\")\n",
        "print(np.mean(numeritos))\n",
        "print(\"Desviación estándar:\")\n",
        "print(np.std(numeritos))"
      ],
      "metadata": {
        "colab": {
          "base_uri": "https://localhost:8080/"
        },
        "id": "Ea7jt8W3iFoC",
        "outputId": "417cf8ec-3cba-456f-b4dc-599ec5d707cd"
      },
      "execution_count": 12,
      "outputs": [
        {
          "output_type": "stream",
          "name": "stdout",
          "text": [
            "Media:\n",
            "43.666666666666664\n",
            "Desviación estándar:\n",
            "32.90727714182516\n"
          ]
        }
      ]
    },
    {
      "cell_type": "markdown",
      "source": [
        "My own example 169"
      ],
      "metadata": {
        "id": "sQOf8Oc7jED3"
      }
    },
    {
      "cell_type": "code",
      "source": [
        "print(\"Sumatoria:\")\n",
        "print(np.sum(numeritos))\n",
        "print(\"Máximo:\")\n",
        "print(np.max(numeritos))"
      ],
      "metadata": {
        "colab": {
          "base_uri": "https://localhost:8080/"
        },
        "id": "27Xo_MkdjCFW",
        "outputId": "20a763e2-223a-4082-ef43-c2e0578f4fb2"
      },
      "execution_count": 13,
      "outputs": [
        {
          "output_type": "stream",
          "name": "stdout",
          "text": [
            "Sumatoria:\n",
            "262\n",
            "Máximo:\n",
            "98\n"
          ]
        }
      ]
    },
    {
      "cell_type": "markdown",
      "source": [
        "My own example 170"
      ],
      "metadata": {
        "id": "tPPW8mVCjXrw"
      }
    },
    {
      "cell_type": "code",
      "source": [
        "print(\"Mínimo:\")\n",
        "print(np.min(numeritos))\n",
        "print(\"Bytes:\")\n",
        "print(np.byte(numeritos))\n"
      ],
      "metadata": {
        "colab": {
          "base_uri": "https://localhost:8080/"
        },
        "id": "n4gjrOQbjV0h",
        "outputId": "1e9afc06-ee9d-4178-e455-f17840d47d59"
      },
      "execution_count": 15,
      "outputs": [
        {
          "output_type": "stream",
          "name": "stdout",
          "text": [
            "Mínimo:\n",
            "6\n",
            "Bytes:\n",
            "[78 23  6 23 98 34]\n"
          ]
        }
      ]
    },
    {
      "cell_type": "markdown",
      "source": [
        "My own example 171"
      ],
      "metadata": {
        "id": "24oFuoI3jzlA"
      }
    },
    {
      "cell_type": "code",
      "source": [
        "import pandas as pd\n",
        "temps = [143.73, 145.83, 89.56, 100.5, 95.62]\n",
        "t = pd.Series(temps)\n",
        "t"
      ],
      "metadata": {
        "colab": {
          "base_uri": "https://localhost:8080/"
        },
        "id": "so74ZJNCjuvE",
        "outputId": "9fe71fd7-ee4a-4f41-dc67-c1295b8a1323"
      },
      "execution_count": 16,
      "outputs": [
        {
          "output_type": "execute_result",
          "data": {
            "text/plain": [
              "0    143.73\n",
              "1    145.83\n",
              "2     89.56\n",
              "3    100.50\n",
              "4     95.62\n",
              "dtype: float64"
            ]
          },
          "metadata": {},
          "execution_count": 16
        }
      ]
    },
    {
      "cell_type": "markdown",
      "source": [
        "My own example 172"
      ],
      "metadata": {
        "id": "J5g41lwIoe3O"
      }
    },
    {
      "cell_type": "code",
      "source": [
        "t = pd.Series(temps,index = ['a','b','c','d','e'])\n",
        "t"
      ],
      "metadata": {
        "colab": {
          "base_uri": "https://localhost:8080/"
        },
        "id": "DdemNytZodtm",
        "outputId": "1c9b1ac4-f894-4493-aaae-8678a1bb90b6"
      },
      "execution_count": 18,
      "outputs": [
        {
          "output_type": "execute_result",
          "data": {
            "text/plain": [
              "a    143.73\n",
              "b    145.83\n",
              "c     89.56\n",
              "d    100.50\n",
              "e     95.62\n",
              "dtype: float64"
            ]
          },
          "metadata": {},
          "execution_count": 18
        }
      ]
    },
    {
      "cell_type": "markdown",
      "source": [
        "My own example 173"
      ],
      "metadata": {
        "id": "-BznjY71orTJ"
      }
    },
    {
      "cell_type": "code",
      "source": [
        "t.index = [5,4,3,2,1]\n",
        "t"
      ],
      "metadata": {
        "colab": {
          "base_uri": "https://localhost:8080/"
        },
        "id": "1-5SfeZFoqDt",
        "outputId": "5b24c822-f3a5-4b42-e361-8f388080dede"
      },
      "execution_count": 19,
      "outputs": [
        {
          "output_type": "execute_result",
          "data": {
            "text/plain": [
              "5    143.73\n",
              "4    145.83\n",
              "3     89.56\n",
              "2    100.50\n",
              "1     95.62\n",
              "dtype: float64"
            ]
          },
          "metadata": {},
          "execution_count": 19
        }
      ]
    },
    {
      "cell_type": "markdown",
      "source": [
        "My own example 174"
      ],
      "metadata": {
        "id": "wNxiYKnmpDPi"
      }
    },
    {
      "cell_type": "code",
      "source": [
        "print(t[4:])\n",
        "print(t[:-1])\n"
      ],
      "metadata": {
        "colab": {
          "base_uri": "https://localhost:8080/"
        },
        "id": "2Txcpft9o-I6",
        "outputId": "8f3b6688-c4b7-4d11-d081-813646a72629"
      },
      "execution_count": 23,
      "outputs": [
        {
          "output_type": "stream",
          "name": "stdout",
          "text": [
            "1    95.62\n",
            "dtype: float64\n",
            "5    143.73\n",
            "4    145.83\n",
            "3     89.56\n",
            "2    100.50\n",
            "dtype: float64\n"
          ]
        }
      ]
    },
    {
      "cell_type": "markdown",
      "source": [
        "My own example 175"
      ],
      "metadata": {
        "id": "eFc7bLOOpZXs"
      }
    },
    {
      "cell_type": "code",
      "source": [
        "print(t[3])\n",
        "t[3] = 000\n",
        "print(t)"
      ],
      "metadata": {
        "colab": {
          "base_uri": "https://localhost:8080/"
        },
        "id": "3PgfCPEKpIe1",
        "outputId": "3421d000-acbf-4513-f22c-72ac8dccd755"
      },
      "execution_count": 24,
      "outputs": [
        {
          "output_type": "stream",
          "name": "stdout",
          "text": [
            "89.56\n",
            "5    143.73\n",
            "4    145.83\n",
            "3      0.00\n",
            "2    100.50\n",
            "1     95.62\n",
            "dtype: float64\n"
          ]
        }
      ]
    },
    {
      "cell_type": "markdown",
      "source": [
        "My own example 176"
      ],
      "metadata": {
        "id": "WwSAzfR1poBU"
      }
    },
    {
      "cell_type": "code",
      "source": [
        "t = pd.Series(temps, name = 'Temperaturas hornos')\n",
        "print(t)\n",
        "print(t.name)"
      ],
      "metadata": {
        "colab": {
          "base_uri": "https://localhost:8080/"
        },
        "id": "RUyV9FLfpl3m",
        "outputId": "3f5147a6-df07-4ae5-c756-0f4ac8df7f3f"
      },
      "execution_count": 25,
      "outputs": [
        {
          "output_type": "stream",
          "name": "stdout",
          "text": [
            "0    143.73\n",
            "1    145.83\n",
            "2     89.56\n",
            "3    100.50\n",
            "4     95.62\n",
            "Name: Temperaturas hornos, dtype: float64\n",
            "Temperaturas hornos\n"
          ]
        }
      ]
    },
    {
      "cell_type": "markdown",
      "source": [
        "My own example 177"
      ],
      "metadata": {
        "id": "yNxXjXpnqBoK"
      }
    },
    {
      "cell_type": "code",
      "source": [
        "print(\"Resumen estadístico:\")\n",
        "print(t.describe())"
      ],
      "metadata": {
        "colab": {
          "base_uri": "https://localhost:8080/"
        },
        "id": "lawRa8Sip9r9",
        "outputId": "e5051bb4-442b-4d74-acc5-71cfb7ced765"
      },
      "execution_count": 26,
      "outputs": [
        {
          "output_type": "stream",
          "name": "stdout",
          "text": [
            "Resumen estadístico:\n",
            "count      5.000000\n",
            "mean     115.048000\n",
            "std       27.426804\n",
            "min       89.560000\n",
            "25%       95.620000\n",
            "50%      100.500000\n",
            "75%      143.730000\n",
            "max      145.830000\n",
            "Name: Temperaturas hornos, dtype: float64\n"
          ]
        }
      ]
    },
    {
      "cell_type": "markdown",
      "source": [
        "My own example 178"
      ],
      "metadata": {
        "id": "g_-LD_1lqOcA"
      }
    },
    {
      "cell_type": "code",
      "source": [
        "intem = pd.date_range('2019-03-06',periods = len(t),freq = 'D')\n",
        "print(intem)\n",
        "t.index = intem\n",
        "print(t)"
      ],
      "metadata": {
        "colab": {
          "base_uri": "https://localhost:8080/"
        },
        "id": "AWb-MiTpqNAm",
        "outputId": "82b3eced-2470-45e1-ab2e-e925b477191a"
      },
      "execution_count": 28,
      "outputs": [
        {
          "output_type": "stream",
          "name": "stdout",
          "text": [
            "DatetimeIndex(['2019-03-06', '2019-03-07', '2019-03-08', '2019-03-09',\n",
            "               '2019-03-10'],\n",
            "              dtype='datetime64[ns]', freq='D')\n",
            "2019-03-06    143.73\n",
            "2019-03-07    145.83\n",
            "2019-03-08     89.56\n",
            "2019-03-09    100.50\n",
            "2019-03-10     95.62\n",
            "Freq: D, Name: Temperaturas hornos, dtype: float64\n"
          ]
        }
      ]
    },
    {
      "cell_type": "markdown",
      "source": [
        "My own example 179"
      ],
      "metadata": {
        "id": "WF7SaEV2rFqN"
      }
    },
    {
      "cell_type": "code",
      "source": [
        "t.index = [5,4,3,2,1]\n",
        "print(t)\n",
        "print(t[1])"
      ],
      "metadata": {
        "colab": {
          "base_uri": "https://localhost:8080/"
        },
        "id": "Ma3P9hsgq7nD",
        "outputId": "9602d73f-1ef6-4833-c90b-8c5cfa905dc2"
      },
      "execution_count": 29,
      "outputs": [
        {
          "output_type": "stream",
          "name": "stdout",
          "text": [
            "5    143.73\n",
            "4    145.83\n",
            "3     89.56\n",
            "2    100.50\n",
            "1     95.62\n",
            "Name: Temperaturas hornos, dtype: float64\n",
            "95.62\n"
          ]
        }
      ]
    },
    {
      "cell_type": "markdown",
      "source": [
        "My own example 180"
      ],
      "metadata": {
        "id": "xD5NJr5TrffC"
      }
    },
    {
      "cell_type": "code",
      "source": [
        "print(t.iloc[1])"
      ],
      "metadata": {
        "colab": {
          "base_uri": "https://localhost:8080/"
        },
        "id": "JrcZ9eOhrcli",
        "outputId": "96345d59-1c04-4245-ddb2-ea615a915117"
      },
      "execution_count": 30,
      "outputs": [
        {
          "output_type": "stream",
          "name": "stdout",
          "text": [
            "145.83\n"
          ]
        }
      ]
    },
    {
      "cell_type": "code",
      "source": [
        "t.index = intem\n",
        "print(t['2019-03-08'])"
      ],
      "metadata": {
        "colab": {
          "base_uri": "https://localhost:8080/"
        },
        "id": "pVu5dcaEroHX",
        "outputId": "aec39691-aa88-4570-825a-b66a17609243"
      },
      "execution_count": 32,
      "outputs": [
        {
          "output_type": "stream",
          "name": "stdout",
          "text": [
            "89.56\n"
          ]
        }
      ]
    },
    {
      "cell_type": "markdown",
      "source": [
        "PANDAS RESAMPLING AND DATAFRAME"
      ],
      "metadata": {
        "id": "bs_dXKdCr9mg"
      }
    },
    {
      "cell_type": "markdown",
      "source": [
        "My own example 181"
      ],
      "metadata": {
        "id": "9TddvZScsJz3"
      }
    },
    {
      "cell_type": "code",
      "source": [
        "datac = yf.download(\"ABT,MMM\", start=\"2017-01-01\", end=\"2018-01-01\")\n",
        "datac"
      ],
      "metadata": {
        "colab": {
          "base_uri": "https://localhost:8080/",
          "height": 504
        },
        "id": "S3wRl06Kr5Rb",
        "outputId": "f1837c77-5fb9-4f0e-a1e8-f7e0b12a7193"
      },
      "execution_count": 8,
      "outputs": [
        {
          "output_type": "stream",
          "name": "stdout",
          "text": [
            "[*********************100%***********************]  2 of 2 completed\n"
          ]
        },
        {
          "output_type": "execute_result",
          "data": {
            "text/plain": [
              "            Adj Close                  Close                   High  \\\n",
              "                  ABT         MMM        ABT         MMM        ABT   \n",
              "Date                                                                  \n",
              "2017-01-03  35.317619  148.686218  39.049999  178.050003  39.080002   \n",
              "2017-01-04  35.597992  148.911697  39.360001  178.320007  39.730000   \n",
              "2017-01-05  35.905499  148.402298  39.700001  177.710007  39.750000   \n",
              "2017-01-06  36.882271  148.836533  40.779999  178.229996  40.990002   \n",
              "2017-01-09  36.846081  148.034866  40.740002  177.270004  41.060001   \n",
              "...               ...         ...        ...         ...        ...   \n",
              "2017-12-22  52.683197  200.622101  56.930000  234.729996  57.320000   \n",
              "2017-12-26  52.747982  201.237473  57.000000  235.449997  57.250000   \n",
              "2017-12-27  53.182919  201.878479  57.470001  236.199997  57.599998   \n",
              "2017-12-28  53.173664  201.468246  57.459999  235.720001  57.689999   \n",
              "2017-12-29  52.812756  201.169067  57.070000  235.369995  57.770000   \n",
              "\n",
              "                              Low                   Open              \\\n",
              "                   MMM        ABT         MMM        ABT         MMM   \n",
              "Date                                                                   \n",
              "2017-01-03  180.000000  38.340000  177.220001  38.630001  178.830002   \n",
              "2017-01-04  178.899994  39.060001  177.610001  39.060001  178.029999   \n",
              "2017-01-05  179.139999  38.980000  176.889999  39.240002  178.259995   \n",
              "2017-01-06  178.600006  39.660000  175.800003  39.700001  177.289993   \n",
              "2017-01-09  178.380005  40.619999  177.199997  40.790001  178.369995   \n",
              "...                ...        ...         ...        ...         ...   \n",
              "2017-12-22  236.080002  56.759998  234.279999  56.939999  235.360001   \n",
              "2017-12-26  236.279999  56.900002  235.029999  57.009998  235.080002   \n",
              "2017-12-27  236.539993  57.049999  234.839996  57.090000  235.520004   \n",
              "2017-12-28  237.080002  57.369999  235.279999  57.439999  236.940002   \n",
              "2017-12-29  237.309998  57.070000  235.369995  57.599998  236.479996   \n",
              "\n",
              "              Volume           \n",
              "                 ABT      MMM  \n",
              "Date                           \n",
              "2017-01-03   9677300  2509300  \n",
              "2017-01-04  22644500  1542000  \n",
              "2017-01-05  12080100  1447800  \n",
              "2017-01-06  14628900  1625000  \n",
              "2017-01-09  10992500  1622600  \n",
              "...              ...      ...  \n",
              "2017-12-22   5449300  1280600  \n",
              "2017-12-26   3187900   789100  \n",
              "2017-12-27   5243900   970500  \n",
              "2017-12-28   3387100  1189700  \n",
              "2017-12-29   3995200  1343900  \n",
              "\n",
              "[251 rows x 12 columns]"
            ],
            "text/html": [
              "\n",
              "  <div id=\"df-58cc40b8-c25d-42e1-91e9-d1ab1bc55706\">\n",
              "    <div class=\"colab-df-container\">\n",
              "      <div>\n",
              "<style scoped>\n",
              "    .dataframe tbody tr th:only-of-type {\n",
              "        vertical-align: middle;\n",
              "    }\n",
              "\n",
              "    .dataframe tbody tr th {\n",
              "        vertical-align: top;\n",
              "    }\n",
              "\n",
              "    .dataframe thead tr th {\n",
              "        text-align: left;\n",
              "    }\n",
              "\n",
              "    .dataframe thead tr:last-of-type th {\n",
              "        text-align: right;\n",
              "    }\n",
              "</style>\n",
              "<table border=\"1\" class=\"dataframe\">\n",
              "  <thead>\n",
              "    <tr>\n",
              "      <th></th>\n",
              "      <th colspan=\"2\" halign=\"left\">Adj Close</th>\n",
              "      <th colspan=\"2\" halign=\"left\">Close</th>\n",
              "      <th colspan=\"2\" halign=\"left\">High</th>\n",
              "      <th colspan=\"2\" halign=\"left\">Low</th>\n",
              "      <th colspan=\"2\" halign=\"left\">Open</th>\n",
              "      <th colspan=\"2\" halign=\"left\">Volume</th>\n",
              "    </tr>\n",
              "    <tr>\n",
              "      <th></th>\n",
              "      <th>ABT</th>\n",
              "      <th>MMM</th>\n",
              "      <th>ABT</th>\n",
              "      <th>MMM</th>\n",
              "      <th>ABT</th>\n",
              "      <th>MMM</th>\n",
              "      <th>ABT</th>\n",
              "      <th>MMM</th>\n",
              "      <th>ABT</th>\n",
              "      <th>MMM</th>\n",
              "      <th>ABT</th>\n",
              "      <th>MMM</th>\n",
              "    </tr>\n",
              "    <tr>\n",
              "      <th>Date</th>\n",
              "      <th></th>\n",
              "      <th></th>\n",
              "      <th></th>\n",
              "      <th></th>\n",
              "      <th></th>\n",
              "      <th></th>\n",
              "      <th></th>\n",
              "      <th></th>\n",
              "      <th></th>\n",
              "      <th></th>\n",
              "      <th></th>\n",
              "      <th></th>\n",
              "    </tr>\n",
              "  </thead>\n",
              "  <tbody>\n",
              "    <tr>\n",
              "      <th>2017-01-03</th>\n",
              "      <td>35.317619</td>\n",
              "      <td>148.686218</td>\n",
              "      <td>39.049999</td>\n",
              "      <td>178.050003</td>\n",
              "      <td>39.080002</td>\n",
              "      <td>180.000000</td>\n",
              "      <td>38.340000</td>\n",
              "      <td>177.220001</td>\n",
              "      <td>38.630001</td>\n",
              "      <td>178.830002</td>\n",
              "      <td>9677300</td>\n",
              "      <td>2509300</td>\n",
              "    </tr>\n",
              "    <tr>\n",
              "      <th>2017-01-04</th>\n",
              "      <td>35.597992</td>\n",
              "      <td>148.911697</td>\n",
              "      <td>39.360001</td>\n",
              "      <td>178.320007</td>\n",
              "      <td>39.730000</td>\n",
              "      <td>178.899994</td>\n",
              "      <td>39.060001</td>\n",
              "      <td>177.610001</td>\n",
              "      <td>39.060001</td>\n",
              "      <td>178.029999</td>\n",
              "      <td>22644500</td>\n",
              "      <td>1542000</td>\n",
              "    </tr>\n",
              "    <tr>\n",
              "      <th>2017-01-05</th>\n",
              "      <td>35.905499</td>\n",
              "      <td>148.402298</td>\n",
              "      <td>39.700001</td>\n",
              "      <td>177.710007</td>\n",
              "      <td>39.750000</td>\n",
              "      <td>179.139999</td>\n",
              "      <td>38.980000</td>\n",
              "      <td>176.889999</td>\n",
              "      <td>39.240002</td>\n",
              "      <td>178.259995</td>\n",
              "      <td>12080100</td>\n",
              "      <td>1447800</td>\n",
              "    </tr>\n",
              "    <tr>\n",
              "      <th>2017-01-06</th>\n",
              "      <td>36.882271</td>\n",
              "      <td>148.836533</td>\n",
              "      <td>40.779999</td>\n",
              "      <td>178.229996</td>\n",
              "      <td>40.990002</td>\n",
              "      <td>178.600006</td>\n",
              "      <td>39.660000</td>\n",
              "      <td>175.800003</td>\n",
              "      <td>39.700001</td>\n",
              "      <td>177.289993</td>\n",
              "      <td>14628900</td>\n",
              "      <td>1625000</td>\n",
              "    </tr>\n",
              "    <tr>\n",
              "      <th>2017-01-09</th>\n",
              "      <td>36.846081</td>\n",
              "      <td>148.034866</td>\n",
              "      <td>40.740002</td>\n",
              "      <td>177.270004</td>\n",
              "      <td>41.060001</td>\n",
              "      <td>178.380005</td>\n",
              "      <td>40.619999</td>\n",
              "      <td>177.199997</td>\n",
              "      <td>40.790001</td>\n",
              "      <td>178.369995</td>\n",
              "      <td>10992500</td>\n",
              "      <td>1622600</td>\n",
              "    </tr>\n",
              "    <tr>\n",
              "      <th>...</th>\n",
              "      <td>...</td>\n",
              "      <td>...</td>\n",
              "      <td>...</td>\n",
              "      <td>...</td>\n",
              "      <td>...</td>\n",
              "      <td>...</td>\n",
              "      <td>...</td>\n",
              "      <td>...</td>\n",
              "      <td>...</td>\n",
              "      <td>...</td>\n",
              "      <td>...</td>\n",
              "      <td>...</td>\n",
              "    </tr>\n",
              "    <tr>\n",
              "      <th>2017-12-22</th>\n",
              "      <td>52.683197</td>\n",
              "      <td>200.622101</td>\n",
              "      <td>56.930000</td>\n",
              "      <td>234.729996</td>\n",
              "      <td>57.320000</td>\n",
              "      <td>236.080002</td>\n",
              "      <td>56.759998</td>\n",
              "      <td>234.279999</td>\n",
              "      <td>56.939999</td>\n",
              "      <td>235.360001</td>\n",
              "      <td>5449300</td>\n",
              "      <td>1280600</td>\n",
              "    </tr>\n",
              "    <tr>\n",
              "      <th>2017-12-26</th>\n",
              "      <td>52.747982</td>\n",
              "      <td>201.237473</td>\n",
              "      <td>57.000000</td>\n",
              "      <td>235.449997</td>\n",
              "      <td>57.250000</td>\n",
              "      <td>236.279999</td>\n",
              "      <td>56.900002</td>\n",
              "      <td>235.029999</td>\n",
              "      <td>57.009998</td>\n",
              "      <td>235.080002</td>\n",
              "      <td>3187900</td>\n",
              "      <td>789100</td>\n",
              "    </tr>\n",
              "    <tr>\n",
              "      <th>2017-12-27</th>\n",
              "      <td>53.182919</td>\n",
              "      <td>201.878479</td>\n",
              "      <td>57.470001</td>\n",
              "      <td>236.199997</td>\n",
              "      <td>57.599998</td>\n",
              "      <td>236.539993</td>\n",
              "      <td>57.049999</td>\n",
              "      <td>234.839996</td>\n",
              "      <td>57.090000</td>\n",
              "      <td>235.520004</td>\n",
              "      <td>5243900</td>\n",
              "      <td>970500</td>\n",
              "    </tr>\n",
              "    <tr>\n",
              "      <th>2017-12-28</th>\n",
              "      <td>53.173664</td>\n",
              "      <td>201.468246</td>\n",
              "      <td>57.459999</td>\n",
              "      <td>235.720001</td>\n",
              "      <td>57.689999</td>\n",
              "      <td>237.080002</td>\n",
              "      <td>57.369999</td>\n",
              "      <td>235.279999</td>\n",
              "      <td>57.439999</td>\n",
              "      <td>236.940002</td>\n",
              "      <td>3387100</td>\n",
              "      <td>1189700</td>\n",
              "    </tr>\n",
              "    <tr>\n",
              "      <th>2017-12-29</th>\n",
              "      <td>52.812756</td>\n",
              "      <td>201.169067</td>\n",
              "      <td>57.070000</td>\n",
              "      <td>235.369995</td>\n",
              "      <td>57.770000</td>\n",
              "      <td>237.309998</td>\n",
              "      <td>57.070000</td>\n",
              "      <td>235.369995</td>\n",
              "      <td>57.599998</td>\n",
              "      <td>236.479996</td>\n",
              "      <td>3995200</td>\n",
              "      <td>1343900</td>\n",
              "    </tr>\n",
              "  </tbody>\n",
              "</table>\n",
              "<p>251 rows × 12 columns</p>\n",
              "</div>\n",
              "      <button class=\"colab-df-convert\" onclick=\"convertToInteractive('df-58cc40b8-c25d-42e1-91e9-d1ab1bc55706')\"\n",
              "              title=\"Convert this dataframe to an interactive table.\"\n",
              "              style=\"display:none;\">\n",
              "        \n",
              "  <svg xmlns=\"http://www.w3.org/2000/svg\" height=\"24px\"viewBox=\"0 0 24 24\"\n",
              "       width=\"24px\">\n",
              "    <path d=\"M0 0h24v24H0V0z\" fill=\"none\"/>\n",
              "    <path d=\"M18.56 5.44l.94 2.06.94-2.06 2.06-.94-2.06-.94-.94-2.06-.94 2.06-2.06.94zm-11 1L8.5 8.5l.94-2.06 2.06-.94-2.06-.94L8.5 2.5l-.94 2.06-2.06.94zm10 10l.94 2.06.94-2.06 2.06-.94-2.06-.94-.94-2.06-.94 2.06-2.06.94z\"/><path d=\"M17.41 7.96l-1.37-1.37c-.4-.4-.92-.59-1.43-.59-.52 0-1.04.2-1.43.59L10.3 9.45l-7.72 7.72c-.78.78-.78 2.05 0 2.83L4 21.41c.39.39.9.59 1.41.59.51 0 1.02-.2 1.41-.59l7.78-7.78 2.81-2.81c.8-.78.8-2.07 0-2.86zM5.41 20L4 18.59l7.72-7.72 1.47 1.35L5.41 20z\"/>\n",
              "  </svg>\n",
              "      </button>\n",
              "      \n",
              "  <style>\n",
              "    .colab-df-container {\n",
              "      display:flex;\n",
              "      flex-wrap:wrap;\n",
              "      gap: 12px;\n",
              "    }\n",
              "\n",
              "    .colab-df-convert {\n",
              "      background-color: #E8F0FE;\n",
              "      border: none;\n",
              "      border-radius: 50%;\n",
              "      cursor: pointer;\n",
              "      display: none;\n",
              "      fill: #1967D2;\n",
              "      height: 32px;\n",
              "      padding: 0 0 0 0;\n",
              "      width: 32px;\n",
              "    }\n",
              "\n",
              "    .colab-df-convert:hover {\n",
              "      background-color: #E2EBFA;\n",
              "      box-shadow: 0px 1px 2px rgba(60, 64, 67, 0.3), 0px 1px 3px 1px rgba(60, 64, 67, 0.15);\n",
              "      fill: #174EA6;\n",
              "    }\n",
              "\n",
              "    [theme=dark] .colab-df-convert {\n",
              "      background-color: #3B4455;\n",
              "      fill: #D2E3FC;\n",
              "    }\n",
              "\n",
              "    [theme=dark] .colab-df-convert:hover {\n",
              "      background-color: #434B5C;\n",
              "      box-shadow: 0px 1px 3px 1px rgba(0, 0, 0, 0.15);\n",
              "      filter: drop-shadow(0px 1px 2px rgba(0, 0, 0, 0.3));\n",
              "      fill: #FFFFFF;\n",
              "    }\n",
              "  </style>\n",
              "\n",
              "      <script>\n",
              "        const buttonEl =\n",
              "          document.querySelector('#df-58cc40b8-c25d-42e1-91e9-d1ab1bc55706 button.colab-df-convert');\n",
              "        buttonEl.style.display =\n",
              "          google.colab.kernel.accessAllowed ? 'block' : 'none';\n",
              "\n",
              "        async function convertToInteractive(key) {\n",
              "          const element = document.querySelector('#df-58cc40b8-c25d-42e1-91e9-d1ab1bc55706');\n",
              "          const dataTable =\n",
              "            await google.colab.kernel.invokeFunction('convertToInteractive',\n",
              "                                                     [key], {});\n",
              "          if (!dataTable) return;\n",
              "\n",
              "          const docLinkHtml = 'Like what you see? Visit the ' +\n",
              "            '<a target=\"_blank\" href=https://colab.research.google.com/notebooks/data_table.ipynb>data table notebook</a>'\n",
              "            + ' to learn more about interactive tables.';\n",
              "          element.innerHTML = '';\n",
              "          dataTable['output_type'] = 'display_data';\n",
              "          await google.colab.output.renderOutput(dataTable, element);\n",
              "          const docLink = document.createElement('div');\n",
              "          docLink.innerHTML = docLinkHtml;\n",
              "          element.appendChild(docLink);\n",
              "        }\n",
              "      </script>\n",
              "    </div>\n",
              "  </div>\n",
              "  "
            ]
          },
          "metadata": {},
          "execution_count": 8
        }
      ]
    },
    {
      "cell_type": "markdown",
      "source": [
        "My own example 182"
      ],
      "metadata": {
        "id": "ga1XENds2oOS"
      }
    },
    {
      "cell_type": "code",
      "source": [
        "d1 = datac[\"Close\"]\n",
        "d1.head()\n",
        "d1['MMM'].head()\n"
      ],
      "metadata": {
        "colab": {
          "base_uri": "https://localhost:8080/"
        },
        "id": "DAM1De9MtvDq",
        "outputId": "95157953-fd44-49fb-e62c-5ca1dd8459a4"
      },
      "execution_count": 9,
      "outputs": [
        {
          "output_type": "execute_result",
          "data": {
            "text/plain": [
              "Date\n",
              "2017-01-03    178.050003\n",
              "2017-01-04    178.320007\n",
              "2017-01-05    177.710007\n",
              "2017-01-06    178.229996\n",
              "2017-01-09    177.270004\n",
              "Name: MMM, dtype: float64"
            ]
          },
          "metadata": {},
          "execution_count": 9
        }
      ]
    },
    {
      "cell_type": "markdown",
      "source": [
        "My own example 183"
      ],
      "metadata": {
        "id": "RR2aDOe--d0n"
      }
    },
    {
      "cell_type": "code",
      "source": [
        "print(d1['2017-01'])"
      ],
      "metadata": {
        "colab": {
          "base_uri": "https://localhost:8080/"
        },
        "id": "NqIgJSL894ml",
        "outputId": "5848d19b-67c8-41a1-8835-4bb8ca3118fd"
      },
      "execution_count": 10,
      "outputs": [
        {
          "output_type": "stream",
          "name": "stdout",
          "text": [
            "                  ABT         MMM\n",
            "Date                             \n",
            "2017-01-03  39.049999  178.050003\n",
            "2017-01-04  39.360001  178.320007\n",
            "2017-01-05  39.700001  177.710007\n",
            "2017-01-06  40.779999  178.229996\n",
            "2017-01-09  40.740002  177.270004\n",
            "2017-01-10  41.290001  176.580002\n",
            "2017-01-11  41.080002  177.889999\n",
            "2017-01-12  40.720001  177.440002\n",
            "2017-01-13  40.930000  177.389999\n",
            "2017-01-17  40.900002  177.259995\n",
            "2017-01-18  40.759998  178.490005\n",
            "2017-01-19  40.400002  178.679993\n",
            "2017-01-20  40.459999  178.490005\n",
            "2017-01-23  40.340000  178.509995\n",
            "2017-01-24  40.310001  175.970001\n",
            "2017-01-25  40.310001  176.729996\n",
            "2017-01-26  40.959999  176.820007\n",
            "2017-01-27  41.000000  177.479996\n",
            "2017-01-30  41.009998  175.419998\n",
            "2017-01-31  41.770000  174.820007\n"
          ]
        },
        {
          "output_type": "stream",
          "name": "stderr",
          "text": [
            "/usr/local/lib/python3.7/dist-packages/ipykernel_launcher.py:1: FutureWarning: Indexing a DataFrame with a datetimelike index using a single string to slice the rows, like `frame[string]`, is deprecated and will be removed in a future version. Use `frame.loc[string]` instead.\n",
            "  \"\"\"Entry point for launching an IPython kernel.\n"
          ]
        }
      ]
    },
    {
      "cell_type": "markdown",
      "source": [
        "My own example 184"
      ],
      "metadata": {
        "id": "MgNH_fw1-t9e"
      }
    },
    {
      "cell_type": "code",
      "source": [
        "d1['2017-2':'2017-4']"
      ],
      "metadata": {
        "colab": {
          "base_uri": "https://localhost:8080/",
          "height": 455
        },
        "id": "Ek0J-zcq-bsj",
        "outputId": "0a8361f0-1b2f-4dbf-8246-eb8e9fc3c1e3"
      },
      "execution_count": 11,
      "outputs": [
        {
          "output_type": "execute_result",
          "data": {
            "text/plain": [
              "                  ABT         MMM\n",
              "Date                             \n",
              "2017-02-01  42.330002  175.169998\n",
              "2017-02-02  42.750000  174.179993\n",
              "2017-02-03  42.779999  175.039993\n",
              "2017-02-06  42.430000  175.100006\n",
              "2017-02-07  42.889999  175.759995\n",
              "...               ...         ...\n",
              "2017-04-24  44.130001  194.229996\n",
              "2017-04-25  43.759998  195.130005\n",
              "2017-04-26  43.799999  195.000000\n",
              "2017-04-27  43.650002  196.110001\n",
              "2017-04-28  43.639999  195.830002\n",
              "\n",
              "[61 rows x 2 columns]"
            ],
            "text/html": [
              "\n",
              "  <div id=\"df-5dbffc71-c259-4a26-8f69-ce22822816bd\">\n",
              "    <div class=\"colab-df-container\">\n",
              "      <div>\n",
              "<style scoped>\n",
              "    .dataframe tbody tr th:only-of-type {\n",
              "        vertical-align: middle;\n",
              "    }\n",
              "\n",
              "    .dataframe tbody tr th {\n",
              "        vertical-align: top;\n",
              "    }\n",
              "\n",
              "    .dataframe thead th {\n",
              "        text-align: right;\n",
              "    }\n",
              "</style>\n",
              "<table border=\"1\" class=\"dataframe\">\n",
              "  <thead>\n",
              "    <tr style=\"text-align: right;\">\n",
              "      <th></th>\n",
              "      <th>ABT</th>\n",
              "      <th>MMM</th>\n",
              "    </tr>\n",
              "    <tr>\n",
              "      <th>Date</th>\n",
              "      <th></th>\n",
              "      <th></th>\n",
              "    </tr>\n",
              "  </thead>\n",
              "  <tbody>\n",
              "    <tr>\n",
              "      <th>2017-02-01</th>\n",
              "      <td>42.330002</td>\n",
              "      <td>175.169998</td>\n",
              "    </tr>\n",
              "    <tr>\n",
              "      <th>2017-02-02</th>\n",
              "      <td>42.750000</td>\n",
              "      <td>174.179993</td>\n",
              "    </tr>\n",
              "    <tr>\n",
              "      <th>2017-02-03</th>\n",
              "      <td>42.779999</td>\n",
              "      <td>175.039993</td>\n",
              "    </tr>\n",
              "    <tr>\n",
              "      <th>2017-02-06</th>\n",
              "      <td>42.430000</td>\n",
              "      <td>175.100006</td>\n",
              "    </tr>\n",
              "    <tr>\n",
              "      <th>2017-02-07</th>\n",
              "      <td>42.889999</td>\n",
              "      <td>175.759995</td>\n",
              "    </tr>\n",
              "    <tr>\n",
              "      <th>...</th>\n",
              "      <td>...</td>\n",
              "      <td>...</td>\n",
              "    </tr>\n",
              "    <tr>\n",
              "      <th>2017-04-24</th>\n",
              "      <td>44.130001</td>\n",
              "      <td>194.229996</td>\n",
              "    </tr>\n",
              "    <tr>\n",
              "      <th>2017-04-25</th>\n",
              "      <td>43.759998</td>\n",
              "      <td>195.130005</td>\n",
              "    </tr>\n",
              "    <tr>\n",
              "      <th>2017-04-26</th>\n",
              "      <td>43.799999</td>\n",
              "      <td>195.000000</td>\n",
              "    </tr>\n",
              "    <tr>\n",
              "      <th>2017-04-27</th>\n",
              "      <td>43.650002</td>\n",
              "      <td>196.110001</td>\n",
              "    </tr>\n",
              "    <tr>\n",
              "      <th>2017-04-28</th>\n",
              "      <td>43.639999</td>\n",
              "      <td>195.830002</td>\n",
              "    </tr>\n",
              "  </tbody>\n",
              "</table>\n",
              "<p>61 rows × 2 columns</p>\n",
              "</div>\n",
              "      <button class=\"colab-df-convert\" onclick=\"convertToInteractive('df-5dbffc71-c259-4a26-8f69-ce22822816bd')\"\n",
              "              title=\"Convert this dataframe to an interactive table.\"\n",
              "              style=\"display:none;\">\n",
              "        \n",
              "  <svg xmlns=\"http://www.w3.org/2000/svg\" height=\"24px\"viewBox=\"0 0 24 24\"\n",
              "       width=\"24px\">\n",
              "    <path d=\"M0 0h24v24H0V0z\" fill=\"none\"/>\n",
              "    <path d=\"M18.56 5.44l.94 2.06.94-2.06 2.06-.94-2.06-.94-.94-2.06-.94 2.06-2.06.94zm-11 1L8.5 8.5l.94-2.06 2.06-.94-2.06-.94L8.5 2.5l-.94 2.06-2.06.94zm10 10l.94 2.06.94-2.06 2.06-.94-2.06-.94-.94-2.06-.94 2.06-2.06.94z\"/><path d=\"M17.41 7.96l-1.37-1.37c-.4-.4-.92-.59-1.43-.59-.52 0-1.04.2-1.43.59L10.3 9.45l-7.72 7.72c-.78.78-.78 2.05 0 2.83L4 21.41c.39.39.9.59 1.41.59.51 0 1.02-.2 1.41-.59l7.78-7.78 2.81-2.81c.8-.78.8-2.07 0-2.86zM5.41 20L4 18.59l7.72-7.72 1.47 1.35L5.41 20z\"/>\n",
              "  </svg>\n",
              "      </button>\n",
              "      \n",
              "  <style>\n",
              "    .colab-df-container {\n",
              "      display:flex;\n",
              "      flex-wrap:wrap;\n",
              "      gap: 12px;\n",
              "    }\n",
              "\n",
              "    .colab-df-convert {\n",
              "      background-color: #E8F0FE;\n",
              "      border: none;\n",
              "      border-radius: 50%;\n",
              "      cursor: pointer;\n",
              "      display: none;\n",
              "      fill: #1967D2;\n",
              "      height: 32px;\n",
              "      padding: 0 0 0 0;\n",
              "      width: 32px;\n",
              "    }\n",
              "\n",
              "    .colab-df-convert:hover {\n",
              "      background-color: #E2EBFA;\n",
              "      box-shadow: 0px 1px 2px rgba(60, 64, 67, 0.3), 0px 1px 3px 1px rgba(60, 64, 67, 0.15);\n",
              "      fill: #174EA6;\n",
              "    }\n",
              "\n",
              "    [theme=dark] .colab-df-convert {\n",
              "      background-color: #3B4455;\n",
              "      fill: #D2E3FC;\n",
              "    }\n",
              "\n",
              "    [theme=dark] .colab-df-convert:hover {\n",
              "      background-color: #434B5C;\n",
              "      box-shadow: 0px 1px 3px 1px rgba(0, 0, 0, 0.15);\n",
              "      filter: drop-shadow(0px 1px 2px rgba(0, 0, 0, 0.3));\n",
              "      fill: #FFFFFF;\n",
              "    }\n",
              "  </style>\n",
              "\n",
              "      <script>\n",
              "        const buttonEl =\n",
              "          document.querySelector('#df-5dbffc71-c259-4a26-8f69-ce22822816bd button.colab-df-convert');\n",
              "        buttonEl.style.display =\n",
              "          google.colab.kernel.accessAllowed ? 'block' : 'none';\n",
              "\n",
              "        async function convertToInteractive(key) {\n",
              "          const element = document.querySelector('#df-5dbffc71-c259-4a26-8f69-ce22822816bd');\n",
              "          const dataTable =\n",
              "            await google.colab.kernel.invokeFunction('convertToInteractive',\n",
              "                                                     [key], {});\n",
              "          if (!dataTable) return;\n",
              "\n",
              "          const docLinkHtml = 'Like what you see? Visit the ' +\n",
              "            '<a target=\"_blank\" href=https://colab.research.google.com/notebooks/data_table.ipynb>data table notebook</a>'\n",
              "            + ' to learn more about interactive tables.';\n",
              "          element.innerHTML = '';\n",
              "          dataTable['output_type'] = 'display_data';\n",
              "          await google.colab.output.renderOutput(dataTable, element);\n",
              "          const docLink = document.createElement('div');\n",
              "          docLink.innerHTML = docLinkHtml;\n",
              "          element.appendChild(docLink);\n",
              "        }\n",
              "      </script>\n",
              "    </div>\n",
              "  </div>\n",
              "  "
            ]
          },
          "metadata": {},
          "execution_count": 11
        }
      ]
    },
    {
      "cell_type": "markdown",
      "source": [
        "My own example 185"
      ],
      "metadata": {
        "id": "dAbovMt4_NUZ"
      }
    },
    {
      "cell_type": "code",
      "source": [
        "print(d1.head(5))\n",
        "print(d1.tail(10))"
      ],
      "metadata": {
        "colab": {
          "base_uri": "https://localhost:8080/"
        },
        "id": "9csFxyfr_L9V",
        "outputId": "d5b6336c-806e-477c-d480-08b04f4e2942"
      },
      "execution_count": 12,
      "outputs": [
        {
          "output_type": "stream",
          "name": "stdout",
          "text": [
            "                  ABT         MMM\n",
            "Date                             \n",
            "2017-01-03  39.049999  178.050003\n",
            "2017-01-04  39.360001  178.320007\n",
            "2017-01-05  39.700001  177.710007\n",
            "2017-01-06  40.779999  178.229996\n",
            "2017-01-09  40.740002  177.270004\n",
            "                  ABT         MMM\n",
            "Date                             \n",
            "2017-12-15  55.500000  238.000000\n",
            "2017-12-18  56.400002  238.419998\n",
            "2017-12-19  56.799999  238.389999\n",
            "2017-12-20  57.020000  236.919998\n",
            "2017-12-21  56.930000  234.779999\n",
            "2017-12-22  56.930000  234.729996\n",
            "2017-12-26  57.000000  235.449997\n",
            "2017-12-27  57.470001  236.199997\n",
            "2017-12-28  57.459999  235.720001\n",
            "2017-12-29  57.070000  235.369995\n"
          ]
        }
      ]
    },
    {
      "cell_type": "markdown",
      "source": [
        "My own example 186"
      ],
      "metadata": {
        "id": "lRuBWX3Z_Xep"
      }
    },
    {
      "cell_type": "code",
      "source": [
        "mensual = d1.resample('M').mean()\n",
        "print(mensual)"
      ],
      "metadata": {
        "colab": {
          "base_uri": "https://localhost:8080/"
        },
        "id": "q4CWO4Ou_Vgd",
        "outputId": "133df661-d9a8-485c-81d2-2c348cb1f91b"
      },
      "execution_count": 14,
      "outputs": [
        {
          "output_type": "stream",
          "name": "stdout",
          "text": [
            "                  ABT         MMM\n",
            "Date                             \n",
            "2017-01-31  40.593500  177.377501\n",
            "2017-02-28  43.803158  180.918421\n",
            "2017-03-31  45.056956  190.830868\n",
            "2017-04-30  43.688947  191.501580\n",
            "2017-05-31  44.041363  198.032727\n",
            "2017-06-30  47.851363  209.334090\n",
            "2017-07-31  49.272000  207.978500\n",
            "2017-08-31  49.326522  205.134347\n",
            "2017-09-30  52.049500  208.996499\n",
            "2017-10-31  54.984091  221.820910\n",
            "2017-11-30  55.390953  231.605238\n",
            "2017-12-31  55.924000  237.640999\n"
          ]
        }
      ]
    },
    {
      "cell_type": "markdown",
      "source": [
        "My own example 187"
      ],
      "metadata": {
        "id": "ewM5aFZaAnNm"
      }
    },
    {
      "cell_type": "code",
      "source": [
        "semanal = d1.resample('W').mean()\n",
        "print(semanal.head())"
      ],
      "metadata": {
        "colab": {
          "base_uri": "https://localhost:8080/"
        },
        "id": "jRTAtrvrAiQ0",
        "outputId": "d3b8b0ac-eafe-4ab0-afbe-168d4b47b2f7"
      },
      "execution_count": 15,
      "outputs": [
        {
          "output_type": "stream",
          "name": "stdout",
          "text": [
            "                  ABT         MMM\n",
            "Date                             \n",
            "2017-01-08  39.722500  178.077503\n",
            "2017-01-15  40.952001  177.314001\n",
            "2017-01-22  40.630000  178.230000\n",
            "2017-01-29  40.584000  177.101999\n",
            "2017-02-05  42.128000  174.925998\n"
          ]
        }
      ]
    },
    {
      "cell_type": "markdown",
      "source": [
        "My own example 188"
      ],
      "metadata": {
        "id": "VNhvxLNXAxE3"
      }
    },
    {
      "cell_type": "code",
      "source": [
        "d1.resample('M').max()"
      ],
      "metadata": {
        "colab": {
          "base_uri": "https://localhost:8080/",
          "height": 457
        },
        "id": "MKYMCl1SAwGr",
        "outputId": "c782032a-c4bc-4ea4-b6cf-44fab3e605e4"
      },
      "execution_count": 16,
      "outputs": [
        {
          "output_type": "execute_result",
          "data": {
            "text/plain": [
              "                  ABT         MMM\n",
              "Date                             \n",
              "2017-01-31  41.770000  178.679993\n",
              "2017-02-28  45.680000  187.410004\n",
              "2017-03-31  45.720001  193.009995\n",
              "2017-04-30  44.470001  196.110001\n",
              "2017-05-31  45.660000  204.470001\n",
              "2017-06-30  49.270000  213.360001\n",
              "2017-07-31  50.849998  212.449997\n",
              "2017-08-31  50.939999  207.919998\n",
              "2017-09-30  53.639999  213.759995\n",
              "2017-10-31  56.320000  237.679993\n",
              "2017-11-30  56.369999  243.139999\n",
              "2017-12-31  57.470001  241.149994"
            ],
            "text/html": [
              "\n",
              "  <div id=\"df-10a965ee-4ab9-40f6-a7e6-e074b7e0e7cb\">\n",
              "    <div class=\"colab-df-container\">\n",
              "      <div>\n",
              "<style scoped>\n",
              "    .dataframe tbody tr th:only-of-type {\n",
              "        vertical-align: middle;\n",
              "    }\n",
              "\n",
              "    .dataframe tbody tr th {\n",
              "        vertical-align: top;\n",
              "    }\n",
              "\n",
              "    .dataframe thead th {\n",
              "        text-align: right;\n",
              "    }\n",
              "</style>\n",
              "<table border=\"1\" class=\"dataframe\">\n",
              "  <thead>\n",
              "    <tr style=\"text-align: right;\">\n",
              "      <th></th>\n",
              "      <th>ABT</th>\n",
              "      <th>MMM</th>\n",
              "    </tr>\n",
              "    <tr>\n",
              "      <th>Date</th>\n",
              "      <th></th>\n",
              "      <th></th>\n",
              "    </tr>\n",
              "  </thead>\n",
              "  <tbody>\n",
              "    <tr>\n",
              "      <th>2017-01-31</th>\n",
              "      <td>41.770000</td>\n",
              "      <td>178.679993</td>\n",
              "    </tr>\n",
              "    <tr>\n",
              "      <th>2017-02-28</th>\n",
              "      <td>45.680000</td>\n",
              "      <td>187.410004</td>\n",
              "    </tr>\n",
              "    <tr>\n",
              "      <th>2017-03-31</th>\n",
              "      <td>45.720001</td>\n",
              "      <td>193.009995</td>\n",
              "    </tr>\n",
              "    <tr>\n",
              "      <th>2017-04-30</th>\n",
              "      <td>44.470001</td>\n",
              "      <td>196.110001</td>\n",
              "    </tr>\n",
              "    <tr>\n",
              "      <th>2017-05-31</th>\n",
              "      <td>45.660000</td>\n",
              "      <td>204.470001</td>\n",
              "    </tr>\n",
              "    <tr>\n",
              "      <th>2017-06-30</th>\n",
              "      <td>49.270000</td>\n",
              "      <td>213.360001</td>\n",
              "    </tr>\n",
              "    <tr>\n",
              "      <th>2017-07-31</th>\n",
              "      <td>50.849998</td>\n",
              "      <td>212.449997</td>\n",
              "    </tr>\n",
              "    <tr>\n",
              "      <th>2017-08-31</th>\n",
              "      <td>50.939999</td>\n",
              "      <td>207.919998</td>\n",
              "    </tr>\n",
              "    <tr>\n",
              "      <th>2017-09-30</th>\n",
              "      <td>53.639999</td>\n",
              "      <td>213.759995</td>\n",
              "    </tr>\n",
              "    <tr>\n",
              "      <th>2017-10-31</th>\n",
              "      <td>56.320000</td>\n",
              "      <td>237.679993</td>\n",
              "    </tr>\n",
              "    <tr>\n",
              "      <th>2017-11-30</th>\n",
              "      <td>56.369999</td>\n",
              "      <td>243.139999</td>\n",
              "    </tr>\n",
              "    <tr>\n",
              "      <th>2017-12-31</th>\n",
              "      <td>57.470001</td>\n",
              "      <td>241.149994</td>\n",
              "    </tr>\n",
              "  </tbody>\n",
              "</table>\n",
              "</div>\n",
              "      <button class=\"colab-df-convert\" onclick=\"convertToInteractive('df-10a965ee-4ab9-40f6-a7e6-e074b7e0e7cb')\"\n",
              "              title=\"Convert this dataframe to an interactive table.\"\n",
              "              style=\"display:none;\">\n",
              "        \n",
              "  <svg xmlns=\"http://www.w3.org/2000/svg\" height=\"24px\"viewBox=\"0 0 24 24\"\n",
              "       width=\"24px\">\n",
              "    <path d=\"M0 0h24v24H0V0z\" fill=\"none\"/>\n",
              "    <path d=\"M18.56 5.44l.94 2.06.94-2.06 2.06-.94-2.06-.94-.94-2.06-.94 2.06-2.06.94zm-11 1L8.5 8.5l.94-2.06 2.06-.94-2.06-.94L8.5 2.5l-.94 2.06-2.06.94zm10 10l.94 2.06.94-2.06 2.06-.94-2.06-.94-.94-2.06-.94 2.06-2.06.94z\"/><path d=\"M17.41 7.96l-1.37-1.37c-.4-.4-.92-.59-1.43-.59-.52 0-1.04.2-1.43.59L10.3 9.45l-7.72 7.72c-.78.78-.78 2.05 0 2.83L4 21.41c.39.39.9.59 1.41.59.51 0 1.02-.2 1.41-.59l7.78-7.78 2.81-2.81c.8-.78.8-2.07 0-2.86zM5.41 20L4 18.59l7.72-7.72 1.47 1.35L5.41 20z\"/>\n",
              "  </svg>\n",
              "      </button>\n",
              "      \n",
              "  <style>\n",
              "    .colab-df-container {\n",
              "      display:flex;\n",
              "      flex-wrap:wrap;\n",
              "      gap: 12px;\n",
              "    }\n",
              "\n",
              "    .colab-df-convert {\n",
              "      background-color: #E8F0FE;\n",
              "      border: none;\n",
              "      border-radius: 50%;\n",
              "      cursor: pointer;\n",
              "      display: none;\n",
              "      fill: #1967D2;\n",
              "      height: 32px;\n",
              "      padding: 0 0 0 0;\n",
              "      width: 32px;\n",
              "    }\n",
              "\n",
              "    .colab-df-convert:hover {\n",
              "      background-color: #E2EBFA;\n",
              "      box-shadow: 0px 1px 2px rgba(60, 64, 67, 0.3), 0px 1px 3px 1px rgba(60, 64, 67, 0.15);\n",
              "      fill: #174EA6;\n",
              "    }\n",
              "\n",
              "    [theme=dark] .colab-df-convert {\n",
              "      background-color: #3B4455;\n",
              "      fill: #D2E3FC;\n",
              "    }\n",
              "\n",
              "    [theme=dark] .colab-df-convert:hover {\n",
              "      background-color: #434B5C;\n",
              "      box-shadow: 0px 1px 3px 1px rgba(0, 0, 0, 0.15);\n",
              "      filter: drop-shadow(0px 1px 2px rgba(0, 0, 0, 0.3));\n",
              "      fill: #FFFFFF;\n",
              "    }\n",
              "  </style>\n",
              "\n",
              "      <script>\n",
              "        const buttonEl =\n",
              "          document.querySelector('#df-10a965ee-4ab9-40f6-a7e6-e074b7e0e7cb button.colab-df-convert');\n",
              "        buttonEl.style.display =\n",
              "          google.colab.kernel.accessAllowed ? 'block' : 'none';\n",
              "\n",
              "        async function convertToInteractive(key) {\n",
              "          const element = document.querySelector('#df-10a965ee-4ab9-40f6-a7e6-e074b7e0e7cb');\n",
              "          const dataTable =\n",
              "            await google.colab.kernel.invokeFunction('convertToInteractive',\n",
              "                                                     [key], {});\n",
              "          if (!dataTable) return;\n",
              "\n",
              "          const docLinkHtml = 'Like what you see? Visit the ' +\n",
              "            '<a target=\"_blank\" href=https://colab.research.google.com/notebooks/data_table.ipynb>data table notebook</a>'\n",
              "            + ' to learn more about interactive tables.';\n",
              "          element.innerHTML = '';\n",
              "          dataTable['output_type'] = 'display_data';\n",
              "          await google.colab.output.renderOutput(dataTable, element);\n",
              "          const docLink = document.createElement('div');\n",
              "          docLink.innerHTML = docLinkHtml;\n",
              "          element.appendChild(docLink);\n",
              "        }\n",
              "      </script>\n",
              "    </div>\n",
              "  </div>\n",
              "  "
            ]
          },
          "metadata": {},
          "execution_count": 16
        }
      ]
    },
    {
      "cell_type": "markdown",
      "source": [
        "My own example 189"
      ],
      "metadata": {
        "id": "Xi4RIqUSA7qr"
      }
    },
    {
      "cell_type": "code",
      "source": [
        "diadxmedio = d1.resample('2D').mean()\n",
        "print(diadxmedio)"
      ],
      "metadata": {
        "colab": {
          "base_uri": "https://localhost:8080/"
        },
        "id": "2saWrcRYA3RM",
        "outputId": "cfa21181-ce00-4529-e574-a55ee892a15b"
      },
      "execution_count": 20,
      "outputs": [
        {
          "output_type": "stream",
          "name": "stdout",
          "text": [
            "                  ABT         MMM\n",
            "Date                             \n",
            "2017-01-03  39.205000  178.185005\n",
            "2017-01-05  40.240000  177.970001\n",
            "2017-01-07        NaN         NaN\n",
            "2017-01-09  41.015001  176.925003\n",
            "2017-01-11  40.900002  177.665001\n",
            "...               ...         ...\n",
            "2017-12-21  56.930000  234.754997\n",
            "2017-12-23        NaN         NaN\n",
            "2017-12-25  57.000000  235.449997\n",
            "2017-12-27  57.465000  235.959999\n",
            "2017-12-29  57.070000  235.369995\n",
            "\n",
            "[181 rows x 2 columns]\n"
          ]
        }
      ]
    },
    {
      "cell_type": "markdown",
      "source": [
        "My own example 190"
      ],
      "metadata": {
        "id": "sE_jSRoCMYLg"
      }
    },
    {
      "cell_type": "code",
      "source": [
        "quincenal = d1.resample('15D').mean()\n",
        "print(quincenal)"
      ],
      "metadata": {
        "colab": {
          "base_uri": "https://localhost:8080/"
        },
        "id": "TZI6k7QuBkg1",
        "outputId": "be630c69-622f-4ad0-85d0-8bd9c6ee0ae6"
      },
      "execution_count": 18,
      "outputs": [
        {
          "output_type": "stream",
          "name": "stdout",
          "text": [
            "                  ABT         MMM\n",
            "Date                             \n",
            "2017-01-03  40.455001  177.614001\n",
            "2017-01-18  40.877273  176.961818\n",
            "2017-02-02  43.054546  178.369091\n",
            "2017-02-17  45.286000  186.928000\n",
            "2017-03-04  45.266000  190.432999\n",
            "2017-03-19  44.712000  191.571999\n",
            "2017-04-03  43.658000  189.952002\n",
            "2017-04-18  43.690000  193.668182\n",
            "2017-05-03  44.130000  197.590000\n",
            "2017-05-18  44.250000  199.624001\n",
            "2017-06-02  47.150000  207.931817\n",
            "2017-06-17  48.798000  211.375000\n",
            "2017-07-02  48.432222  210.167779\n",
            "2017-07-17  49.959091  206.187273\n",
            "2017-08-01  48.931819  206.451814\n",
            "2017-08-16  49.574546  203.890911\n",
            "2017-08-31  51.624000  206.118001\n",
            "2017-09-15  52.335454  211.188180\n",
            "2017-09-30  54.555000  216.198999\n",
            "2017-10-15  55.558001  225.686002\n",
            "2017-10-30  54.848182  230.008181\n",
            "2017-11-14  55.645000  231.368001\n",
            "2017-11-29  55.192727  239.264544\n",
            "2017-12-14  56.624000  236.668999\n",
            "2017-12-29  57.070000  235.369995\n"
          ]
        }
      ]
    },
    {
      "cell_type": "markdown",
      "source": [
        "My own example 191"
      ],
      "metadata": {
        "id": "YswRJBIFMblJ"
      }
    },
    {
      "cell_type": "code",
      "source": [
        "semestral = d1.resample('6M').mean()\n",
        "print(semestral )"
      ],
      "metadata": {
        "colab": {
          "base_uri": "https://localhost:8080/"
        },
        "id": "7jg6hr8wMJ7P",
        "outputId": "bb924862-90c8-4e05-8be1-b733dd7ee985"
      },
      "execution_count": 19,
      "outputs": [
        {
          "output_type": "stream",
          "name": "stdout",
          "text": [
            "                  ABT         MMM\n",
            "Date                             \n",
            "2017-01-31  40.593500  177.377501\n",
            "2017-07-31  45.645920  196.693840\n",
            "2018-01-31  53.460755  220.703867\n"
          ]
        }
      ]
    },
    {
      "cell_type": "markdown",
      "source": [
        "My own example 192"
      ],
      "metadata": {
        "id": "6BijlmfHMsNQ"
      }
    },
    {
      "cell_type": "code",
      "source": [
        "std = d1.resample('M').std()\n",
        "print(std)"
      ],
      "metadata": {
        "colab": {
          "base_uri": "https://localhost:8080/"
        },
        "id": "N4HKY7D4MRrI",
        "outputId": "5f906ed8-07b4-47de-c9bc-0aa449ed9cd6"
      },
      "execution_count": 24,
      "outputs": [
        {
          "output_type": "stream",
          "name": "stdout",
          "text": [
            "                 ABT       MMM\n",
            "Date                          \n",
            "2017-01-31  0.643537  1.067573\n",
            "2017-02-28  1.212147  4.654722\n",
            "2017-03-31  0.391703  1.134722\n",
            "2017-04-30  0.375173  2.405076\n",
            "2017-05-31  0.681729  2.358649\n",
            "2017-06-30  1.029430  3.072371\n",
            "2017-07-31  1.021869  4.924011\n",
            "2017-08-31  0.636621  1.978569\n",
            "2017-09-30  0.707386  3.691624\n",
            "2017-10-31  0.724672  7.692714\n",
            "2017-11-30  0.603928  3.768502\n",
            "2017-12-31  1.084389  1.836971\n"
          ]
        }
      ]
    },
    {
      "cell_type": "markdown",
      "source": [
        "My own example 193"
      ],
      "metadata": {
        "id": "jv_Jh76HMvxN"
      }
    },
    {
      "cell_type": "code",
      "source": [
        "max = d1.resample('M').max()\n",
        "print(max)"
      ],
      "metadata": {
        "colab": {
          "base_uri": "https://localhost:8080/"
        },
        "id": "Np8LZNseMj9W",
        "outputId": "eb5a4a1b-383b-46c2-ce46-a7f43240e2ac"
      },
      "execution_count": 26,
      "outputs": [
        {
          "output_type": "stream",
          "name": "stdout",
          "text": [
            "                  ABT         MMM\n",
            "Date                             \n",
            "2017-01-31  41.770000  178.679993\n",
            "2017-02-28  45.680000  187.410004\n",
            "2017-03-31  45.720001  193.009995\n",
            "2017-04-30  44.470001  196.110001\n",
            "2017-05-31  45.660000  204.470001\n",
            "2017-06-30  49.270000  213.360001\n",
            "2017-07-31  50.849998  212.449997\n",
            "2017-08-31  50.939999  207.919998\n",
            "2017-09-30  53.639999  213.759995\n",
            "2017-10-31  56.320000  237.679993\n",
            "2017-11-30  56.369999  243.139999\n",
            "2017-12-31  57.470001  241.149994\n"
          ]
        }
      ]
    },
    {
      "cell_type": "markdown",
      "source": [
        "My own example 194"
      ],
      "metadata": {
        "id": "Fe1_9iLwNIxb"
      }
    },
    {
      "cell_type": "code",
      "source": [
        "min = d1.resample('5W').min()\n",
        "print(min)"
      ],
      "metadata": {
        "colab": {
          "base_uri": "https://localhost:8080/"
        },
        "id": "BPQdh070NFIB",
        "outputId": "490f316c-e606-46f8-a737-9159c6673e8f"
      },
      "execution_count": 27,
      "outputs": [
        {
          "output_type": "stream",
          "name": "stdout",
          "text": [
            "                  ABT         MMM\n",
            "Date                             \n",
            "2017-01-08  39.049999  177.710007\n",
            "2017-02-12  40.310001  174.179993\n",
            "2017-03-19  43.220001  181.020004\n",
            "2017-04-23  42.669998  188.649994\n",
            "2017-05-28  42.980000  194.229996\n",
            "2017-07-02  45.000000  202.440002\n",
            "2017-08-06  47.939999  199.029999\n",
            "2017-09-10  48.060001  200.979996\n",
            "2017-10-15  51.410000  209.479996\n",
            "2017-11-19  54.000000  217.750000\n",
            "2017-12-24  54.639999  231.380005\n",
            "2018-01-28  57.000000  235.369995\n"
          ]
        }
      ]
    },
    {
      "cell_type": "markdown",
      "source": [
        "My own example 195"
      ],
      "metadata": {
        "id": "oqn0oEXPNXf7"
      }
    },
    {
      "cell_type": "code",
      "source": [
        "ultdia = d1.resample('M').agg(lambda x: x[-1])\n",
        "print(ultdia)"
      ],
      "metadata": {
        "colab": {
          "base_uri": "https://localhost:8080/"
        },
        "id": "WKbzVdOrNSoA",
        "outputId": "989d7027-5436-4b81-8279-953826a00529"
      },
      "execution_count": 29,
      "outputs": [
        {
          "output_type": "stream",
          "name": "stdout",
          "text": [
            "                  ABT         MMM\n",
            "Date                             \n",
            "2017-01-31  41.770000  174.820007\n",
            "2017-02-28  45.080002  186.350006\n",
            "2017-03-31  44.410000  191.330002\n",
            "2017-04-30  43.639999  195.830002\n",
            "2017-05-31  45.660000  204.470001\n",
            "2017-06-30  48.610001  208.190002\n",
            "2017-07-31  49.180000  201.169998\n",
            "2017-08-31  50.939999  204.320007\n",
            "2017-09-30  53.360001  209.899994\n",
            "2017-10-31  54.230000  230.190002\n",
            "2017-11-30  56.369999  243.139999\n",
            "2017-12-31  57.070000  235.369995\n"
          ]
        }
      ]
    },
    {
      "cell_type": "markdown",
      "source": [
        "My own example 196"
      ],
      "metadata": {
        "id": "i7VUDCuSNn9Z"
      }
    },
    {
      "cell_type": "code",
      "source": [
        "rmen= d1.resample('M').agg(lambda x: x[-1]/x[0] - 1)\n",
        "print(rmen)"
      ],
      "metadata": {
        "colab": {
          "base_uri": "https://localhost:8080/"
        },
        "id": "o1ExaRxpNgUf",
        "outputId": "b680a60f-91fa-430d-a9ab-b823916377f4"
      },
      "execution_count": 30,
      "outputs": [
        {
          "output_type": "stream",
          "name": "stdout",
          "text": [
            "                 ABT       MMM\n",
            "Date                          \n",
            "2017-01-31  0.069654 -0.018141\n",
            "2017-02-28  0.064966  0.063824\n",
            "2017-03-31 -0.025883  0.007743\n",
            "2017-04-30 -0.018664  0.026793\n",
            "2017-05-31  0.050138  0.049587\n",
            "2017-06-30  0.054447  0.018791\n",
            "2017-07-31  0.009649 -0.041272\n",
            "2017-08-31  0.036419  0.005611\n",
            "2017-09-30  0.042595  0.031146\n",
            "2017-10-31  0.010246  0.081923\n",
            "2017-11-30  0.043889  0.056304\n",
            "2017-12-31  0.019471 -0.023968\n"
          ]
        }
      ]
    },
    {
      "cell_type": "markdown",
      "source": [
        "My own example 197"
      ],
      "metadata": {
        "id": "9dQjqlwYN12X"
      }
    },
    {
      "cell_type": "code",
      "source": [
        "print(rmen.mean())\n",
        "print(rmen.std())\n",
        "print(rmen.min())"
      ],
      "metadata": {
        "colab": {
          "base_uri": "https://localhost:8080/"
        },
        "id": "N76F6uMkN0p9",
        "outputId": "e7457bbf-2a27-4853-cb42-eb639d6f694e"
      },
      "execution_count": 31,
      "outputs": [
        {
          "output_type": "stream",
          "name": "stdout",
          "text": [
            "ABT    0.029744\n",
            "MMM    0.021528\n",
            "dtype: float64\n",
            "ABT    0.031037\n",
            "MMM    0.037649\n",
            "dtype: float64\n",
            "ABT   -0.025883\n",
            "MMM   -0.041272\n",
            "dtype: float64\n"
          ]
        }
      ]
    },
    {
      "cell_type": "markdown",
      "source": [
        "My own example 198"
      ],
      "metadata": {
        "id": "xg_EIPB2ONKk"
      }
    },
    {
      "cell_type": "code",
      "source": [
        "print(ultdia.diff())\n",
        "print(ultdia.pct_change())"
      ],
      "metadata": {
        "colab": {
          "base_uri": "https://localhost:8080/"
        },
        "id": "JmwIDiu2OGsF",
        "outputId": "091d669e-8026-4048-b158-3ee5392a65d6"
      },
      "execution_count": 32,
      "outputs": [
        {
          "output_type": "stream",
          "name": "stdout",
          "text": [
            "                 ABT        MMM\n",
            "Date                           \n",
            "2017-01-31       NaN        NaN\n",
            "2017-02-28  3.310001  11.529999\n",
            "2017-03-31 -0.670002   4.979996\n",
            "2017-04-30 -0.770000   4.500000\n",
            "2017-05-31  2.020000   8.639999\n",
            "2017-06-30  2.950001   3.720001\n",
            "2017-07-31  0.570000  -7.020004\n",
            "2017-08-31  1.759998   3.150009\n",
            "2017-09-30  2.420002   5.579987\n",
            "2017-10-31  0.869999  20.290009\n",
            "2017-11-30  2.139999  12.949997\n",
            "2017-12-31  0.700001  -7.770004\n",
            "                 ABT       MMM\n",
            "Date                          \n",
            "2017-01-31       NaN       NaN\n",
            "2017-02-28  0.079244  0.065954\n",
            "2017-03-31 -0.014863  0.026724\n",
            "2017-04-30 -0.017338  0.023520\n",
            "2017-05-31  0.046288  0.044120\n",
            "2017-06-30  0.064608  0.018193\n",
            "2017-07-31  0.011726 -0.033719\n",
            "2017-08-31  0.035787  0.015658\n",
            "2017-09-30  0.047507  0.027310\n",
            "2017-10-31  0.016304  0.096665\n",
            "2017-11-30  0.039462  0.056258\n",
            "2017-12-31  0.012418 -0.031957\n"
          ]
        }
      ]
    },
    {
      "cell_type": "markdown",
      "source": [
        "My own example 199"
      ],
      "metadata": {
        "id": "hjMbNCqtOjTV"
      }
    },
    {
      "cell_type": "code",
      "source": [
        "d_r = ultdia.pct_change()\n",
        "print(d_r.fillna(0))"
      ],
      "metadata": {
        "colab": {
          "base_uri": "https://localhost:8080/"
        },
        "id": "G-szsOONOaBR",
        "outputId": "a4b16032-75e8-4e2a-9651-acefa3c70992"
      },
      "execution_count": 38,
      "outputs": [
        {
          "output_type": "stream",
          "name": "stdout",
          "text": [
            "                 ABT       MMM\n",
            "Date                          \n",
            "2017-01-31  0.000000  0.000000\n",
            "2017-02-28  0.079244  0.065954\n",
            "2017-03-31 -0.014863  0.026724\n",
            "2017-04-30 -0.017338  0.023520\n",
            "2017-05-31  0.046288  0.044120\n",
            "2017-06-30  0.064608  0.018193\n",
            "2017-07-31  0.011726 -0.033719\n",
            "2017-08-31  0.035787  0.015658\n",
            "2017-09-30  0.047507  0.027310\n",
            "2017-10-31  0.016304  0.096665\n",
            "2017-11-30  0.039462  0.056258\n",
            "2017-12-31  0.012418 -0.031957\n"
          ]
        }
      ]
    },
    {
      "cell_type": "markdown",
      "source": [
        "My own example 200"
      ],
      "metadata": {
        "id": "s43xROWvOxOQ"
      }
    },
    {
      "cell_type": "code",
      "source": [
        "d_r = ultdia.pct_change()\n",
        "print(d_r.fillna(method = 'bfill'))"
      ],
      "metadata": {
        "colab": {
          "base_uri": "https://localhost:8080/"
        },
        "id": "mEfhs64SOnFf",
        "outputId": "5e28553e-d6e8-4f90-b9e3-dc0a4a19bb0b"
      },
      "execution_count": 39,
      "outputs": [
        {
          "output_type": "stream",
          "name": "stdout",
          "text": [
            "                 ABT       MMM\n",
            "Date                          \n",
            "2017-01-31  0.079244  0.065954\n",
            "2017-02-28  0.079244  0.065954\n",
            "2017-03-31 -0.014863  0.026724\n",
            "2017-04-30 -0.017338  0.023520\n",
            "2017-05-31  0.046288  0.044120\n",
            "2017-06-30  0.064608  0.018193\n",
            "2017-07-31  0.011726 -0.033719\n",
            "2017-08-31  0.035787  0.015658\n",
            "2017-09-30  0.047507  0.027310\n",
            "2017-10-31  0.016304  0.096665\n",
            "2017-11-30  0.039462  0.056258\n",
            "2017-12-31  0.012418 -0.031957\n"
          ]
        }
      ]
    },
    {
      "cell_type": "markdown",
      "source": [
        "My own example 201"
      ],
      "metadata": {
        "id": "YPIyP4NaO19Q"
      }
    },
    {
      "cell_type": "code",
      "source": [
        "d_r = ultdia.pct_change()\n",
        "d_r.dropna()"
      ],
      "metadata": {
        "colab": {
          "base_uri": "https://localhost:8080/",
          "height": 426
        },
        "id": "EhixqSsUO0Lv",
        "outputId": "bbda8c79-025b-4461-9aa3-7d4af69ca98f"
      },
      "execution_count": 36,
      "outputs": [
        {
          "output_type": "execute_result",
          "data": {
            "text/plain": [
              "                 ABT       MMM\n",
              "Date                          \n",
              "2017-02-28  0.079244  0.065954\n",
              "2017-03-31 -0.014863  0.026724\n",
              "2017-04-30 -0.017338  0.023520\n",
              "2017-05-31  0.046288  0.044120\n",
              "2017-06-30  0.064608  0.018193\n",
              "2017-07-31  0.011726 -0.033719\n",
              "2017-08-31  0.035787  0.015658\n",
              "2017-09-30  0.047507  0.027310\n",
              "2017-10-31  0.016304  0.096665\n",
              "2017-11-30  0.039462  0.056258\n",
              "2017-12-31  0.012418 -0.031957"
            ],
            "text/html": [
              "\n",
              "  <div id=\"df-37176d2d-b189-40dc-bbf0-756fb17ab239\">\n",
              "    <div class=\"colab-df-container\">\n",
              "      <div>\n",
              "<style scoped>\n",
              "    .dataframe tbody tr th:only-of-type {\n",
              "        vertical-align: middle;\n",
              "    }\n",
              "\n",
              "    .dataframe tbody tr th {\n",
              "        vertical-align: top;\n",
              "    }\n",
              "\n",
              "    .dataframe thead th {\n",
              "        text-align: right;\n",
              "    }\n",
              "</style>\n",
              "<table border=\"1\" class=\"dataframe\">\n",
              "  <thead>\n",
              "    <tr style=\"text-align: right;\">\n",
              "      <th></th>\n",
              "      <th>ABT</th>\n",
              "      <th>MMM</th>\n",
              "    </tr>\n",
              "    <tr>\n",
              "      <th>Date</th>\n",
              "      <th></th>\n",
              "      <th></th>\n",
              "    </tr>\n",
              "  </thead>\n",
              "  <tbody>\n",
              "    <tr>\n",
              "      <th>2017-02-28</th>\n",
              "      <td>0.079244</td>\n",
              "      <td>0.065954</td>\n",
              "    </tr>\n",
              "    <tr>\n",
              "      <th>2017-03-31</th>\n",
              "      <td>-0.014863</td>\n",
              "      <td>0.026724</td>\n",
              "    </tr>\n",
              "    <tr>\n",
              "      <th>2017-04-30</th>\n",
              "      <td>-0.017338</td>\n",
              "      <td>0.023520</td>\n",
              "    </tr>\n",
              "    <tr>\n",
              "      <th>2017-05-31</th>\n",
              "      <td>0.046288</td>\n",
              "      <td>0.044120</td>\n",
              "    </tr>\n",
              "    <tr>\n",
              "      <th>2017-06-30</th>\n",
              "      <td>0.064608</td>\n",
              "      <td>0.018193</td>\n",
              "    </tr>\n",
              "    <tr>\n",
              "      <th>2017-07-31</th>\n",
              "      <td>0.011726</td>\n",
              "      <td>-0.033719</td>\n",
              "    </tr>\n",
              "    <tr>\n",
              "      <th>2017-08-31</th>\n",
              "      <td>0.035787</td>\n",
              "      <td>0.015658</td>\n",
              "    </tr>\n",
              "    <tr>\n",
              "      <th>2017-09-30</th>\n",
              "      <td>0.047507</td>\n",
              "      <td>0.027310</td>\n",
              "    </tr>\n",
              "    <tr>\n",
              "      <th>2017-10-31</th>\n",
              "      <td>0.016304</td>\n",
              "      <td>0.096665</td>\n",
              "    </tr>\n",
              "    <tr>\n",
              "      <th>2017-11-30</th>\n",
              "      <td>0.039462</td>\n",
              "      <td>0.056258</td>\n",
              "    </tr>\n",
              "    <tr>\n",
              "      <th>2017-12-31</th>\n",
              "      <td>0.012418</td>\n",
              "      <td>-0.031957</td>\n",
              "    </tr>\n",
              "  </tbody>\n",
              "</table>\n",
              "</div>\n",
              "      <button class=\"colab-df-convert\" onclick=\"convertToInteractive('df-37176d2d-b189-40dc-bbf0-756fb17ab239')\"\n",
              "              title=\"Convert this dataframe to an interactive table.\"\n",
              "              style=\"display:none;\">\n",
              "        \n",
              "  <svg xmlns=\"http://www.w3.org/2000/svg\" height=\"24px\"viewBox=\"0 0 24 24\"\n",
              "       width=\"24px\">\n",
              "    <path d=\"M0 0h24v24H0V0z\" fill=\"none\"/>\n",
              "    <path d=\"M18.56 5.44l.94 2.06.94-2.06 2.06-.94-2.06-.94-.94-2.06-.94 2.06-2.06.94zm-11 1L8.5 8.5l.94-2.06 2.06-.94-2.06-.94L8.5 2.5l-.94 2.06-2.06.94zm10 10l.94 2.06.94-2.06 2.06-.94-2.06-.94-.94-2.06-.94 2.06-2.06.94z\"/><path d=\"M17.41 7.96l-1.37-1.37c-.4-.4-.92-.59-1.43-.59-.52 0-1.04.2-1.43.59L10.3 9.45l-7.72 7.72c-.78.78-.78 2.05 0 2.83L4 21.41c.39.39.9.59 1.41.59.51 0 1.02-.2 1.41-.59l7.78-7.78 2.81-2.81c.8-.78.8-2.07 0-2.86zM5.41 20L4 18.59l7.72-7.72 1.47 1.35L5.41 20z\"/>\n",
              "  </svg>\n",
              "      </button>\n",
              "      \n",
              "  <style>\n",
              "    .colab-df-container {\n",
              "      display:flex;\n",
              "      flex-wrap:wrap;\n",
              "      gap: 12px;\n",
              "    }\n",
              "\n",
              "    .colab-df-convert {\n",
              "      background-color: #E8F0FE;\n",
              "      border: none;\n",
              "      border-radius: 50%;\n",
              "      cursor: pointer;\n",
              "      display: none;\n",
              "      fill: #1967D2;\n",
              "      height: 32px;\n",
              "      padding: 0 0 0 0;\n",
              "      width: 32px;\n",
              "    }\n",
              "\n",
              "    .colab-df-convert:hover {\n",
              "      background-color: #E2EBFA;\n",
              "      box-shadow: 0px 1px 2px rgba(60, 64, 67, 0.3), 0px 1px 3px 1px rgba(60, 64, 67, 0.15);\n",
              "      fill: #174EA6;\n",
              "    }\n",
              "\n",
              "    [theme=dark] .colab-df-convert {\n",
              "      background-color: #3B4455;\n",
              "      fill: #D2E3FC;\n",
              "    }\n",
              "\n",
              "    [theme=dark] .colab-df-convert:hover {\n",
              "      background-color: #434B5C;\n",
              "      box-shadow: 0px 1px 3px 1px rgba(0, 0, 0, 0.15);\n",
              "      filter: drop-shadow(0px 1px 2px rgba(0, 0, 0, 0.3));\n",
              "      fill: #FFFFFF;\n",
              "    }\n",
              "  </style>\n",
              "\n",
              "      <script>\n",
              "        const buttonEl =\n",
              "          document.querySelector('#df-37176d2d-b189-40dc-bbf0-756fb17ab239 button.colab-df-convert');\n",
              "        buttonEl.style.display =\n",
              "          google.colab.kernel.accessAllowed ? 'block' : 'none';\n",
              "\n",
              "        async function convertToInteractive(key) {\n",
              "          const element = document.querySelector('#df-37176d2d-b189-40dc-bbf0-756fb17ab239');\n",
              "          const dataTable =\n",
              "            await google.colab.kernel.invokeFunction('convertToInteractive',\n",
              "                                                     [key], {});\n",
              "          if (!dataTable) return;\n",
              "\n",
              "          const docLinkHtml = 'Like what you see? Visit the ' +\n",
              "            '<a target=\"_blank\" href=https://colab.research.google.com/notebooks/data_table.ipynb>data table notebook</a>'\n",
              "            + ' to learn more about interactive tables.';\n",
              "          element.innerHTML = '';\n",
              "          dataTable['output_type'] = 'display_data';\n",
              "          await google.colab.output.renderOutput(dataTable, element);\n",
              "          const docLink = document.createElement('div');\n",
              "          docLink.innerHTML = docLinkHtml;\n",
              "          element.appendChild(docLink);\n",
              "        }\n",
              "      </script>\n",
              "    </div>\n",
              "  </div>\n",
              "  "
            ]
          },
          "metadata": {},
          "execution_count": 36
        }
      ]
    },
    {
      "cell_type": "markdown",
      "source": [
        "My own example 202"
      ],
      "metadata": {
        "id": "V-J5vMfNPZCb"
      }
    },
    {
      "cell_type": "code",
      "source": [
        "import pandas as pd\n",
        "dict = {'MMM': [78.9, 65.01, 42.73, 41.8, 14.77],'ABT':[88.1, 11.72, 96.69, 18.89, 96.29]}\n",
        "data_index = pd.date_range('2017-09-03',periods = 5, freq = 'D')\n",
        "df = pd.DataFrame(dict, index = data_index)\n",
        "print(df)"
      ],
      "metadata": {
        "colab": {
          "base_uri": "https://localhost:8080/"
        },
        "id": "ASuf1jPmPEaK",
        "outputId": "559537ac-57a2-416f-cf8b-2ac11a067ada"
      },
      "execution_count": 42,
      "outputs": [
        {
          "output_type": "stream",
          "name": "stdout",
          "text": [
            "              MMM    ABT\n",
            "2017-09-03  78.90  88.10\n",
            "2017-09-04  65.01  11.72\n",
            "2017-09-05  42.73  96.69\n",
            "2017-09-06  41.80  18.89\n",
            "2017-09-07  14.77  96.29\n"
          ]
        }
      ]
    },
    {
      "cell_type": "markdown",
      "source": [
        "My own example 203"
      ],
      "metadata": {
        "id": "CmIgFr0pQa85"
      }
    },
    {
      "cell_type": "code",
      "source": [
        "df = datac\n",
        "print(df.Close.tail(5))"
      ],
      "metadata": {
        "colab": {
          "base_uri": "https://localhost:8080/"
        },
        "id": "VE2d7FKBPv7U",
        "outputId": "8bf352f5-468e-4da4-a30c-52efdeb962b7"
      },
      "execution_count": 52,
      "outputs": [
        {
          "output_type": "stream",
          "name": "stdout",
          "text": [
            "                  ABT         MMM\n",
            "Date                             \n",
            "2017-12-22  56.930000  234.729996\n",
            "2017-12-26  57.000000  235.449997\n",
            "2017-12-27  57.470001  236.199997\n",
            "2017-12-28  57.459999  235.720001\n",
            "2017-12-29  57.070000  235.369995\n"
          ]
        }
      ]
    },
    {
      "cell_type": "markdown",
      "source": [
        "My own example 204"
      ],
      "metadata": {
        "id": "qw6Lp9naSLr1"
      }
    },
    {
      "cell_type": "code",
      "source": [
        "mmm = df['2017']\n",
        "mmmm = mmm.resample('M').agg(lambda x: x[-1])\n",
        "print(mmmm)"
      ],
      "metadata": {
        "colab": {
          "base_uri": "https://localhost:8080/"
        },
        "id": "Xo9NLXaAQzIo",
        "outputId": "c5ec0926-2799-4e9b-e1ac-c8c8ef8ee7b7"
      },
      "execution_count": 53,
      "outputs": [
        {
          "output_type": "stream",
          "name": "stdout",
          "text": [
            "            Adj Close                  Close                   High  \\\n",
            "                  ABT         MMM        ABT         MMM        ABT   \n",
            "Date                                                                  \n",
            "2017-01-31  38.021671  145.988892  41.770000  174.820007  41.790001   \n",
            "2017-02-28  41.034641  156.630829  45.080002  186.350006  45.430000   \n",
            "2017-03-31  40.424763  160.816635  44.410000  191.330002  44.820000   \n",
            "2017-04-30  39.966820  164.598938  43.639999  195.830002  43.750000   \n",
            "2017-05-31  41.816811  172.887497  45.660000  204.470001  45.750000   \n",
            "2017-06-30  44.518513  176.032913  48.610001  208.190002  49.049999   \n",
            "2017-07-31  45.289795  170.097198  49.180000  201.169998  49.840000   \n",
            "2017-08-31  46.910568  173.754333  50.939999  204.320007  51.049999   \n",
            "2017-09-30  49.139141  178.499557  53.360001  209.899994  53.790001   \n",
            "2017-10-31  50.184608  195.754272  54.230000  230.190002  54.540001   \n",
            "2017-11-30  52.164970  207.810089  56.369999  243.139999  56.459999   \n",
            "2017-12-31  52.812756  201.169067  57.070000  235.369995  57.770000   \n",
            "\n",
            "                              Low                   Open              \\\n",
            "                   MMM        ABT         MMM        ABT         MMM   \n",
            "Date                                                                   \n",
            "2017-01-31  175.460007  40.599998  173.809998  40.730000  174.740005   \n",
            "2017-02-28  187.500000  44.830002  186.309998  45.410000  186.729996   \n",
            "2017-03-31  192.399994  44.330002  190.990005  44.330002  191.300003   \n",
            "2017-04-30  197.119995  43.500000  195.539993  43.669998  196.149994   \n",
            "2017-05-31  204.470001  45.180000  202.270004  45.200001  202.729996   \n",
            "2017-06-30  209.910004  48.610001  207.850006  48.779999  209.910004   \n",
            "2017-07-31  201.660004  49.160000  199.809998  49.610001  200.000000   \n",
            "2017-08-31  204.619995  50.110001  203.020004  50.299999  204.320007   \n",
            "2017-09-30  209.899994  53.290001  208.729996  53.639999  209.059998   \n",
            "2017-10-31  231.600006  54.029999  229.809998  54.480000  231.380005   \n",
            "2017-11-30  243.449997  55.310001  237.690002  55.669998  238.860001   \n",
            "2017-12-31  237.309998  57.070000  235.369995  57.599998  236.479996   \n",
            "\n",
            "              Volume           \n",
            "                 ABT      MMM  \n",
            "Date                           \n",
            "2017-01-31  12318200  1845500  \n",
            "2017-02-28  14211400  1932100  \n",
            "2017-03-31   7146500  1730000  \n",
            "2017-04-30   6014100  2467100  \n",
            "2017-05-31  10449800  3096800  \n",
            "2017-06-30   4723300  1770000  \n",
            "2017-07-31   6036200  1833600  \n",
            "2017-08-31   6207800  1567900  \n",
            "2017-09-30   8459000  1632200  \n",
            "2017-10-31   7676200  1908200  \n",
            "2017-11-30  10086300  4003400  \n",
            "2017-12-31   3995200  1343900  \n"
          ]
        },
        {
          "output_type": "stream",
          "name": "stderr",
          "text": [
            "/usr/local/lib/python3.7/dist-packages/ipykernel_launcher.py:1: FutureWarning: Indexing a DataFrame with a datetimelike index using a single string to slice the rows, like `frame[string]`, is deprecated and will be removed in a future version. Use `frame.loc[string]` instead.\n",
            "  \"\"\"Entry point for launching an IPython kernel.\n"
          ]
        }
      ]
    },
    {
      "cell_type": "markdown",
      "source": [
        "My own example 205"
      ],
      "metadata": {
        "id": "GNrFPCMsSfJq"
      }
    },
    {
      "cell_type": "code",
      "source": [
        "mbar = mmmm[['Open', 'High', 'Low', 'Close']]\n",
        "print(mbar)"
      ],
      "metadata": {
        "colab": {
          "base_uri": "https://localhost:8080/"
        },
        "id": "T9VrNMGySc9P",
        "outputId": "dc0c49f3-de22-46e9-88ca-720ee1d0e5f0"
      },
      "execution_count": 55,
      "outputs": [
        {
          "output_type": "stream",
          "name": "stdout",
          "text": [
            "                 Open                   High                    Low  \\\n",
            "                  ABT         MMM        ABT         MMM        ABT   \n",
            "Date                                                                  \n",
            "2017-01-31  40.730000  174.740005  41.790001  175.460007  40.599998   \n",
            "2017-02-28  45.410000  186.729996  45.430000  187.500000  44.830002   \n",
            "2017-03-31  44.330002  191.300003  44.820000  192.399994  44.330002   \n",
            "2017-04-30  43.669998  196.149994  43.750000  197.119995  43.500000   \n",
            "2017-05-31  45.200001  202.729996  45.750000  204.470001  45.180000   \n",
            "2017-06-30  48.779999  209.910004  49.049999  209.910004  48.610001   \n",
            "2017-07-31  49.610001  200.000000  49.840000  201.660004  49.160000   \n",
            "2017-08-31  50.299999  204.320007  51.049999  204.619995  50.110001   \n",
            "2017-09-30  53.639999  209.059998  53.790001  209.899994  53.290001   \n",
            "2017-10-31  54.480000  231.380005  54.540001  231.600006  54.029999   \n",
            "2017-11-30  55.669998  238.860001  56.459999  243.449997  55.310001   \n",
            "2017-12-31  57.599998  236.479996  57.770000  237.309998  57.070000   \n",
            "\n",
            "                            Close              \n",
            "                   MMM        ABT         MMM  \n",
            "Date                                           \n",
            "2017-01-31  173.809998  41.770000  174.820007  \n",
            "2017-02-28  186.309998  45.080002  186.350006  \n",
            "2017-03-31  190.990005  44.410000  191.330002  \n",
            "2017-04-30  195.539993  43.639999  195.830002  \n",
            "2017-05-31  202.270004  45.660000  204.470001  \n",
            "2017-06-30  207.850006  48.610001  208.190002  \n",
            "2017-07-31  199.809998  49.180000  201.169998  \n",
            "2017-08-31  203.020004  50.939999  204.320007  \n",
            "2017-09-30  208.729996  53.360001  209.899994  \n",
            "2017-10-31  229.809998  54.230000  230.190002  \n",
            "2017-11-30  237.690002  56.369999  243.139999  \n",
            "2017-12-31  235.369995  57.070000  235.369995  \n"
          ]
        }
      ]
    },
    {
      "cell_type": "markdown",
      "source": [
        "My own example 206"
      ],
      "metadata": {
        "id": "PEme5kS0SziQ"
      }
    },
    {
      "cell_type": "code",
      "source": [
        "print(mmmm.loc['2017-01':'2018-03', ['Open', 'High', 'Low', 'Close']])"
      ],
      "metadata": {
        "colab": {
          "base_uri": "https://localhost:8080/"
        },
        "id": "f_bJo3OASrv4",
        "outputId": "46238078-30da-43c5-90e8-fae2fbaff22d"
      },
      "execution_count": 56,
      "outputs": [
        {
          "output_type": "stream",
          "name": "stdout",
          "text": [
            "                 Open                   High                    Low  \\\n",
            "                  ABT         MMM        ABT         MMM        ABT   \n",
            "Date                                                                  \n",
            "2017-01-31  40.730000  174.740005  41.790001  175.460007  40.599998   \n",
            "2017-02-28  45.410000  186.729996  45.430000  187.500000  44.830002   \n",
            "2017-03-31  44.330002  191.300003  44.820000  192.399994  44.330002   \n",
            "2017-04-30  43.669998  196.149994  43.750000  197.119995  43.500000   \n",
            "2017-05-31  45.200001  202.729996  45.750000  204.470001  45.180000   \n",
            "2017-06-30  48.779999  209.910004  49.049999  209.910004  48.610001   \n",
            "2017-07-31  49.610001  200.000000  49.840000  201.660004  49.160000   \n",
            "2017-08-31  50.299999  204.320007  51.049999  204.619995  50.110001   \n",
            "2017-09-30  53.639999  209.059998  53.790001  209.899994  53.290001   \n",
            "2017-10-31  54.480000  231.380005  54.540001  231.600006  54.029999   \n",
            "2017-11-30  55.669998  238.860001  56.459999  243.449997  55.310001   \n",
            "2017-12-31  57.599998  236.479996  57.770000  237.309998  57.070000   \n",
            "\n",
            "                            Close              \n",
            "                   MMM        ABT         MMM  \n",
            "Date                                           \n",
            "2017-01-31  173.809998  41.770000  174.820007  \n",
            "2017-02-28  186.309998  45.080002  186.350006  \n",
            "2017-03-31  190.990005  44.410000  191.330002  \n",
            "2017-04-30  195.539993  43.639999  195.830002  \n",
            "2017-05-31  202.270004  45.660000  204.470001  \n",
            "2017-06-30  207.850006  48.610001  208.190002  \n",
            "2017-07-31  199.809998  49.180000  201.169998  \n",
            "2017-08-31  203.020004  50.939999  204.320007  \n",
            "2017-09-30  208.729996  53.360001  209.899994  \n",
            "2017-10-31  229.809998  54.230000  230.190002  \n",
            "2017-11-30  237.690002  56.369999  243.139999  \n",
            "2017-12-31  235.369995  57.070000  235.369995  \n"
          ]
        }
      ]
    },
    {
      "cell_type": "markdown",
      "source": [
        "My own example 207"
      ],
      "metadata": {
        "id": "_0uGIuKoTHh2"
      }
    },
    {
      "cell_type": "code",
      "source": [
        "perd = mbar.isnull()\n",
        "print(perd)"
      ],
      "metadata": {
        "colab": {
          "base_uri": "https://localhost:8080/"
        },
        "id": "icfH5Rk0TGPG",
        "outputId": "0606eb38-d505-4161-905d-ed16041ef475"
      },
      "execution_count": 77,
      "outputs": [
        {
          "output_type": "stream",
          "name": "stdout",
          "text": [
            "             Open          High           Low         Close       \n",
            "              ABT    MMM    ABT    MMM    ABT    MMM    ABT    MMM\n",
            "Date                                                              \n",
            "2017-01-31  False  False  False  False  False  False  False  False\n",
            "2017-02-28  False  False  False  False  False  False  False  False\n",
            "2017-03-31  False  False  False  False  False  False  False  False\n",
            "2017-04-30  False  False  False  False  False  False  False  False\n",
            "2017-05-31  False  False  False  False  False  False  False  False\n",
            "2017-06-30  False  False  False  False  False  False  False  False\n",
            "2017-07-31  False  False  False  False  False  False  False  False\n",
            "2017-08-31  False  False  False  False  False  False  False  False\n",
            "2017-09-30  False  False  False  False  False  False  False  False\n",
            "2017-10-31  False  False  False  False  False  False  False  False\n",
            "2017-11-30  False  False  False  False  False  False  False  False\n",
            "2017-12-31  False  False  False  False  False  False  False  False\n"
          ]
        }
      ]
    },
    {
      "cell_type": "markdown",
      "source": [
        "My own example 208"
      ],
      "metadata": {
        "id": "FPFn3StiVmac"
      }
    },
    {
      "cell_type": "code",
      "source": [
        "print(perd.describe())"
      ],
      "metadata": {
        "colab": {
          "base_uri": "https://localhost:8080/"
        },
        "id": "kuHbxHZ3TXBc",
        "outputId": "0a622011-09b3-404e-8f65-ca2155ce67df"
      },
      "execution_count": 78,
      "outputs": [
        {
          "output_type": "stream",
          "name": "stdout",
          "text": [
            "         Open          High           Low         Close       \n",
            "          ABT    MMM    ABT    MMM    ABT    MMM    ABT    MMM\n",
            "count      12     12     12     12     12     12     12     12\n",
            "unique      1      1      1      1      1      1      1      1\n",
            "top     False  False  False  False  False  False  False  False\n",
            "freq       12     12     12     12     12     12     12     12\n"
          ]
        }
      ]
    },
    {
      "cell_type": "markdown",
      "source": [
        "My own example 209"
      ],
      "metadata": {
        "id": "IfGDYwYpV3Vk"
      }
    },
    {
      "cell_type": "code",
      "source": [
        "drop = mbar.dropna()\n",
        "print(drop)"
      ],
      "metadata": {
        "colab": {
          "base_uri": "https://localhost:8080/"
        },
        "id": "nLMof8wAV2De",
        "outputId": "09f7b39c-33fa-4167-86c4-ce1c355b769d"
      },
      "execution_count": 80,
      "outputs": [
        {
          "output_type": "stream",
          "name": "stdout",
          "text": [
            "                 Open                   High                    Low  \\\n",
            "                  ABT         MMM        ABT         MMM        ABT   \n",
            "Date                                                                  \n",
            "2017-01-31  40.730000  174.740005  41.790001  175.460007  40.599998   \n",
            "2017-02-28  45.410000  186.729996  45.430000  187.500000  44.830002   \n",
            "2017-03-31  44.330002  191.300003  44.820000  192.399994  44.330002   \n",
            "2017-04-30  43.669998  196.149994  43.750000  197.119995  43.500000   \n",
            "2017-05-31  45.200001  202.729996  45.750000  204.470001  45.180000   \n",
            "2017-06-30  48.779999  209.910004  49.049999  209.910004  48.610001   \n",
            "2017-07-31  49.610001  200.000000  49.840000  201.660004  49.160000   \n",
            "2017-08-31  50.299999  204.320007  51.049999  204.619995  50.110001   \n",
            "2017-09-30  53.639999  209.059998  53.790001  209.899994  53.290001   \n",
            "2017-10-31  54.480000  231.380005  54.540001  231.600006  54.029999   \n",
            "2017-11-30  55.669998  238.860001  56.459999  243.449997  55.310001   \n",
            "2017-12-31  57.599998  236.479996  57.770000  237.309998  57.070000   \n",
            "\n",
            "                            Close              \n",
            "                   MMM        ABT         MMM  \n",
            "Date                                           \n",
            "2017-01-31  173.809998  41.770000  174.820007  \n",
            "2017-02-28  186.309998  45.080002  186.350006  \n",
            "2017-03-31  190.990005  44.410000  191.330002  \n",
            "2017-04-30  195.539993  43.639999  195.830002  \n",
            "2017-05-31  202.270004  45.660000  204.470001  \n",
            "2017-06-30  207.850006  48.610001  208.190002  \n",
            "2017-07-31  199.809998  49.180000  201.169998  \n",
            "2017-08-31  203.020004  50.939999  204.320007  \n",
            "2017-09-30  208.729996  53.360001  209.899994  \n",
            "2017-10-31  229.809998  54.230000  230.190002  \n",
            "2017-11-30  237.690002  56.369999  243.139999  \n",
            "2017-12-31  235.369995  57.070000  235.369995  \n"
          ]
        }
      ]
    },
    {
      "cell_type": "markdown",
      "source": [
        "My own example 210"
      ],
      "metadata": {
        "id": "6y5lMOXDWN_e"
      }
    },
    {
      "cell_type": "code",
      "source": [
        "fill = mbar.fillna(0)\n",
        "print(fill)"
      ],
      "metadata": {
        "colab": {
          "base_uri": "https://localhost:8080/"
        },
        "id": "-dQBEkP3WAE2",
        "outputId": "bace8086-ef5b-4651-f86b-1c7ee870284a"
      },
      "execution_count": 81,
      "outputs": [
        {
          "output_type": "stream",
          "name": "stdout",
          "text": [
            "                 Open                   High                    Low  \\\n",
            "                  ABT         MMM        ABT         MMM        ABT   \n",
            "Date                                                                  \n",
            "2017-01-31  40.730000  174.740005  41.790001  175.460007  40.599998   \n",
            "2017-02-28  45.410000  186.729996  45.430000  187.500000  44.830002   \n",
            "2017-03-31  44.330002  191.300003  44.820000  192.399994  44.330002   \n",
            "2017-04-30  43.669998  196.149994  43.750000  197.119995  43.500000   \n",
            "2017-05-31  45.200001  202.729996  45.750000  204.470001  45.180000   \n",
            "2017-06-30  48.779999  209.910004  49.049999  209.910004  48.610001   \n",
            "2017-07-31  49.610001  200.000000  49.840000  201.660004  49.160000   \n",
            "2017-08-31  50.299999  204.320007  51.049999  204.619995  50.110001   \n",
            "2017-09-30  53.639999  209.059998  53.790001  209.899994  53.290001   \n",
            "2017-10-31  54.480000  231.380005  54.540001  231.600006  54.029999   \n",
            "2017-11-30  55.669998  238.860001  56.459999  243.449997  55.310001   \n",
            "2017-12-31  57.599998  236.479996  57.770000  237.309998  57.070000   \n",
            "\n",
            "                            Close              \n",
            "                   MMM        ABT         MMM  \n",
            "Date                                           \n",
            "2017-01-31  173.809998  41.770000  174.820007  \n",
            "2017-02-28  186.309998  45.080002  186.350006  \n",
            "2017-03-31  190.990005  44.410000  191.330002  \n",
            "2017-04-30  195.539993  43.639999  195.830002  \n",
            "2017-05-31  202.270004  45.660000  204.470001  \n",
            "2017-06-30  207.850006  48.610001  208.190002  \n",
            "2017-07-31  199.809998  49.180000  201.169998  \n",
            "2017-08-31  203.020004  50.939999  204.320007  \n",
            "2017-09-30  208.729996  53.360001  209.899994  \n",
            "2017-10-31  229.809998  54.230000  230.190002  \n",
            "2017-11-30  237.690002  56.369999  243.139999  \n",
            "2017-12-31  235.369995  57.070000  235.369995  \n"
          ]
        }
      ]
    },
    {
      "cell_type": "markdown",
      "source": [
        "My own example 211"
      ],
      "metadata": {
        "id": "W4yl-pDDWYPM"
      }
    },
    {
      "cell_type": "code",
      "source": [
        "ser1 = pd.Series([13.5, 14.9, 42.7, 14.18, 43.7], name = 'MMM')\n",
        "ser2 = pd.Series([89.7,11.7, 6.69, 91.9, 9.99], name = 'ABT')\n",
        "dframe = pd.concat([ser1,ser2], axis = 1)\n",
        "print(dframe)"
      ],
      "metadata": {
        "colab": {
          "base_uri": "https://localhost:8080/"
        },
        "id": "P-01hZxiWVX8",
        "outputId": "9622c9d3-e892-4d77-a845-643e375a4349"
      },
      "execution_count": 82,
      "outputs": [
        {
          "output_type": "stream",
          "name": "stdout",
          "text": [
            "     MMM    ABT\n",
            "0  13.50  89.70\n",
            "1  14.90  11.70\n",
            "2  42.70   6.69\n",
            "3  14.18  91.90\n",
            "4  43.70   9.99\n"
          ]
        }
      ]
    },
    {
      "cell_type": "markdown",
      "source": [
        "My own example 212"
      ],
      "metadata": {
        "id": "cJJA6eARW7Oe"
      }
    },
    {
      "cell_type": "code",
      "source": [
        "log = np.log(mbar.Close)\n",
        "log.nn = 'logaritmo precios'\n",
        "print(log)\n",
        "print('\\n---------------------- separate line--------------------\\n')\n",
        "concat = pd.concat([mbar, log], axis = 1)\n",
        "print(concat)"
      ],
      "metadata": {
        "colab": {
          "base_uri": "https://localhost:8080/"
        },
        "id": "sqbBVPNgW6Pv",
        "outputId": "5156a80f-ef82-409f-b524-ae695c3144db"
      },
      "execution_count": 84,
      "outputs": [
        {
          "output_type": "stream",
          "name": "stdout",
          "text": [
            "                 ABT       MMM\n",
            "Date                          \n",
            "2017-01-31  3.732178  5.163757\n",
            "2017-02-28  3.808439  5.227627\n",
            "2017-03-31  3.793465  5.254000\n",
            "2017-04-30  3.775974  5.277247\n",
            "2017-05-31  3.821223  5.320421\n",
            "2017-06-30  3.883829  5.338451\n",
            "2017-07-31  3.895487  5.304150\n",
            "2017-08-31  3.930648  5.319687\n",
            "2017-09-30  3.977061  5.346631\n",
            "2017-10-31  3.993234  5.438905\n",
            "2017-11-30  4.031937  5.493637\n",
            "2017-12-31  4.044279  5.461159\n",
            "\n",
            "---------------------- separate line--------------------\n",
            "\n",
            "            (Open, ABT)  (Open, MMM)  (High, ABT)  (High, MMM)  (Low, ABT)  \\\n",
            "Date                                                                         \n",
            "2017-01-31    40.730000   174.740005    41.790001   175.460007   40.599998   \n",
            "2017-02-28    45.410000   186.729996    45.430000   187.500000   44.830002   \n",
            "2017-03-31    44.330002   191.300003    44.820000   192.399994   44.330002   \n",
            "2017-04-30    43.669998   196.149994    43.750000   197.119995   43.500000   \n",
            "2017-05-31    45.200001   202.729996    45.750000   204.470001   45.180000   \n",
            "2017-06-30    48.779999   209.910004    49.049999   209.910004   48.610001   \n",
            "2017-07-31    49.610001   200.000000    49.840000   201.660004   49.160000   \n",
            "2017-08-31    50.299999   204.320007    51.049999   204.619995   50.110001   \n",
            "2017-09-30    53.639999   209.059998    53.790001   209.899994   53.290001   \n",
            "2017-10-31    54.480000   231.380005    54.540001   231.600006   54.029999   \n",
            "2017-11-30    55.669998   238.860001    56.459999   243.449997   55.310001   \n",
            "2017-12-31    57.599998   236.479996    57.770000   237.309998   57.070000   \n",
            "\n",
            "            (Low, MMM)  (Close, ABT)  (Close, MMM)       ABT       MMM  \n",
            "Date                                                                    \n",
            "2017-01-31  173.809998     41.770000    174.820007  3.732178  5.163757  \n",
            "2017-02-28  186.309998     45.080002    186.350006  3.808439  5.227627  \n",
            "2017-03-31  190.990005     44.410000    191.330002  3.793465  5.254000  \n",
            "2017-04-30  195.539993     43.639999    195.830002  3.775974  5.277247  \n",
            "2017-05-31  202.270004     45.660000    204.470001  3.821223  5.320421  \n",
            "2017-06-30  207.850006     48.610001    208.190002  3.883829  5.338451  \n",
            "2017-07-31  199.809998     49.180000    201.169998  3.895487  5.304150  \n",
            "2017-08-31  203.020004     50.939999    204.320007  3.930648  5.319687  \n",
            "2017-09-30  208.729996     53.360001    209.899994  3.977061  5.346631  \n",
            "2017-10-31  229.809998     54.230000    230.190002  3.993234  5.438905  \n",
            "2017-11-30  237.690002     56.369999    243.139999  4.031937  5.493637  \n",
            "2017-12-31  235.369995     57.070000    235.369995  4.044279  5.461159  \n"
          ]
        }
      ]
    },
    {
      "cell_type": "markdown",
      "source": [
        "My own example 213"
      ],
      "metadata": {
        "id": "Y9ePLKQYXfqU"
      }
    },
    {
      "cell_type": "code",
      "source": [
        "df_2017 = datac.loc['2017-10':'2018-04', ['Open', 'High', 'Low', 'Close']].resample('M').agg(lambda x: x[-1])\n",
        "print(df_2017)"
      ],
      "metadata": {
        "colab": {
          "base_uri": "https://localhost:8080/"
        },
        "id": "CMhaV9RwXVcd",
        "outputId": "3e9fef84-0a03-41d1-b63e-70f7985eee30"
      },
      "execution_count": 89,
      "outputs": [
        {
          "output_type": "stream",
          "name": "stdout",
          "text": [
            "                 Open                   High                    Low  \\\n",
            "                  ABT         MMM        ABT         MMM        ABT   \n",
            "Date                                                                  \n",
            "2017-10-31  54.480000  231.380005  54.540001  231.600006  54.029999   \n",
            "2017-11-30  55.669998  238.860001  56.459999  243.449997  55.310001   \n",
            "2017-12-31  57.599998  236.479996  57.770000  237.309998  57.070000   \n",
            "\n",
            "                            Close              \n",
            "                   MMM        ABT         MMM  \n",
            "Date                                           \n",
            "2017-10-31  229.809998  54.230000  230.190002  \n",
            "2017-11-30  237.690002  56.369999  243.139999  \n",
            "2017-12-31  235.369995  57.070000  235.369995  \n"
          ]
        }
      ]
    },
    {
      "cell_type": "markdown",
      "source": [
        "My own example 214"
      ],
      "metadata": {
        "id": "ENvWU_c4Ygfc"
      }
    },
    {
      "cell_type": "code",
      "source": [
        "append = datac.append(df_2017)\n",
        "print(append)"
      ],
      "metadata": {
        "colab": {
          "base_uri": "https://localhost:8080/"
        },
        "id": "ERBh60EFYFQ7",
        "outputId": "69c8f0a9-e7d0-4320-f2a0-89aa1ab135da"
      },
      "execution_count": 90,
      "outputs": [
        {
          "output_type": "stream",
          "name": "stdout",
          "text": [
            "            Adj Close                  Close                   High  \\\n",
            "                  ABT         MMM        ABT         MMM        ABT   \n",
            "Date                                                                  \n",
            "2017-01-03  35.317619  148.686218  39.049999  178.050003  39.080002   \n",
            "2017-01-04  35.597992  148.911697  39.360001  178.320007  39.730000   \n",
            "2017-01-05  35.905499  148.402298  39.700001  177.710007  39.750000   \n",
            "2017-01-06  36.882271  148.836533  40.779999  178.229996  40.990002   \n",
            "2017-01-09  36.846081  148.034866  40.740002  177.270004  41.060001   \n",
            "...               ...         ...        ...         ...        ...   \n",
            "2017-12-28  53.173664  201.468246  57.459999  235.720001  57.689999   \n",
            "2017-12-29  52.812756  201.169067  57.070000  235.369995  57.770000   \n",
            "2017-10-31        NaN         NaN  54.230000  230.190002  54.540001   \n",
            "2017-11-30        NaN         NaN  56.369999  243.139999  56.459999   \n",
            "2017-12-31        NaN         NaN  57.070000  235.369995  57.770000   \n",
            "\n",
            "                              Low                   Open              \\\n",
            "                   MMM        ABT         MMM        ABT         MMM   \n",
            "Date                                                                   \n",
            "2017-01-03  180.000000  38.340000  177.220001  38.630001  178.830002   \n",
            "2017-01-04  178.899994  39.060001  177.610001  39.060001  178.029999   \n",
            "2017-01-05  179.139999  38.980000  176.889999  39.240002  178.259995   \n",
            "2017-01-06  178.600006  39.660000  175.800003  39.700001  177.289993   \n",
            "2017-01-09  178.380005  40.619999  177.199997  40.790001  178.369995   \n",
            "...                ...        ...         ...        ...         ...   \n",
            "2017-12-28  237.080002  57.369999  235.279999  57.439999  236.940002   \n",
            "2017-12-29  237.309998  57.070000  235.369995  57.599998  236.479996   \n",
            "2017-10-31  231.600006  54.029999  229.809998  54.480000  231.380005   \n",
            "2017-11-30  243.449997  55.310001  237.690002  55.669998  238.860001   \n",
            "2017-12-31  237.309998  57.070000  235.369995  57.599998  236.479996   \n",
            "\n",
            "                Volume             \n",
            "                   ABT        MMM  \n",
            "Date                               \n",
            "2017-01-03   9677300.0  2509300.0  \n",
            "2017-01-04  22644500.0  1542000.0  \n",
            "2017-01-05  12080100.0  1447800.0  \n",
            "2017-01-06  14628900.0  1625000.0  \n",
            "2017-01-09  10992500.0  1622600.0  \n",
            "...                ...        ...  \n",
            "2017-12-28   3387100.0  1189700.0  \n",
            "2017-12-29   3995200.0  1343900.0  \n",
            "2017-10-31         NaN        NaN  \n",
            "2017-11-30         NaN        NaN  \n",
            "2017-12-31         NaN        NaN  \n",
            "\n",
            "[254 rows x 12 columns]\n"
          ]
        }
      ]
    },
    {
      "cell_type": "markdown",
      "source": [
        "My own example 215"
      ],
      "metadata": {
        "id": "HcIG15LsY9Nv"
      }
    },
    {
      "cell_type": "code",
      "source": [
        "concat = pd.concat([datac, df_2017], axis = 0)\n",
        "print(concat)"
      ],
      "metadata": {
        "colab": {
          "base_uri": "https://localhost:8080/"
        },
        "id": "avkfxjYtY7jQ",
        "outputId": "8cabf2c8-a68f-4e30-f1b2-19dfc6d7bf45"
      },
      "execution_count": 91,
      "outputs": [
        {
          "output_type": "stream",
          "name": "stdout",
          "text": [
            "            Adj Close                  Close                   High  \\\n",
            "                  ABT         MMM        ABT         MMM        ABT   \n",
            "Date                                                                  \n",
            "2017-01-03  35.317619  148.686218  39.049999  178.050003  39.080002   \n",
            "2017-01-04  35.597992  148.911697  39.360001  178.320007  39.730000   \n",
            "2017-01-05  35.905499  148.402298  39.700001  177.710007  39.750000   \n",
            "2017-01-06  36.882271  148.836533  40.779999  178.229996  40.990002   \n",
            "2017-01-09  36.846081  148.034866  40.740002  177.270004  41.060001   \n",
            "...               ...         ...        ...         ...        ...   \n",
            "2017-12-28  53.173664  201.468246  57.459999  235.720001  57.689999   \n",
            "2017-12-29  52.812756  201.169067  57.070000  235.369995  57.770000   \n",
            "2017-10-31        NaN         NaN  54.230000  230.190002  54.540001   \n",
            "2017-11-30        NaN         NaN  56.369999  243.139999  56.459999   \n",
            "2017-12-31        NaN         NaN  57.070000  235.369995  57.770000   \n",
            "\n",
            "                              Low                   Open              \\\n",
            "                   MMM        ABT         MMM        ABT         MMM   \n",
            "Date                                                                   \n",
            "2017-01-03  180.000000  38.340000  177.220001  38.630001  178.830002   \n",
            "2017-01-04  178.899994  39.060001  177.610001  39.060001  178.029999   \n",
            "2017-01-05  179.139999  38.980000  176.889999  39.240002  178.259995   \n",
            "2017-01-06  178.600006  39.660000  175.800003  39.700001  177.289993   \n",
            "2017-01-09  178.380005  40.619999  177.199997  40.790001  178.369995   \n",
            "...                ...        ...         ...        ...         ...   \n",
            "2017-12-28  237.080002  57.369999  235.279999  57.439999  236.940002   \n",
            "2017-12-29  237.309998  57.070000  235.369995  57.599998  236.479996   \n",
            "2017-10-31  231.600006  54.029999  229.809998  54.480000  231.380005   \n",
            "2017-11-30  243.449997  55.310001  237.690002  55.669998  238.860001   \n",
            "2017-12-31  237.309998  57.070000  235.369995  57.599998  236.479996   \n",
            "\n",
            "                Volume             \n",
            "                   ABT        MMM  \n",
            "Date                               \n",
            "2017-01-03   9677300.0  2509300.0  \n",
            "2017-01-04  22644500.0  1542000.0  \n",
            "2017-01-05  12080100.0  1447800.0  \n",
            "2017-01-06  14628900.0  1625000.0  \n",
            "2017-01-09  10992500.0  1622600.0  \n",
            "...                ...        ...  \n",
            "2017-12-28   3387100.0  1189700.0  \n",
            "2017-12-29   3995200.0  1343900.0  \n",
            "2017-10-31         NaN        NaN  \n",
            "2017-11-30         NaN        NaN  \n",
            "2017-12-31         NaN        NaN  \n",
            "\n",
            "[254 rows x 12 columns]\n"
          ]
        }
      ]
    },
    {
      "cell_type": "markdown",
      "source": [
        "My own example 216"
      ],
      "metadata": {
        "id": "tNBcWzMvZGoe"
      }
    },
    {
      "cell_type": "code",
      "source": [
        "df = datac\n",
        "print(df.Close.tail(5))\n",
        "print(df['Volume'].tail(5))"
      ],
      "metadata": {
        "colab": {
          "base_uri": "https://localhost:8080/"
        },
        "id": "UYrRwuxCZFkb",
        "outputId": "7b827489-2860-47d6-b06c-74eb4b6a5180"
      },
      "execution_count": 96,
      "outputs": [
        {
          "output_type": "stream",
          "name": "stdout",
          "text": [
            "                  ABT         MMM\n",
            "Date                             \n",
            "2017-12-22  56.930000  234.729996\n",
            "2017-12-26  57.000000  235.449997\n",
            "2017-12-27  57.470001  236.199997\n",
            "2017-12-28  57.459999  235.720001\n",
            "2017-12-29  57.070000  235.369995\n",
            "                ABT      MMM\n",
            "Date                        \n",
            "2017-12-22  5449300  1280600\n",
            "2017-12-26  3187900   789100\n",
            "2017-12-27  5243900   970500\n",
            "2017-12-28  3387100  1189700\n",
            "2017-12-29  3995200  1343900\n"
          ]
        }
      ]
    },
    {
      "cell_type": "markdown",
      "source": [
        "My own example 217"
      ],
      "metadata": {
        "id": "kbC1Uet-Z2vo"
      }
    },
    {
      "cell_type": "code",
      "source": [
        "df = datac\n",
        "print(df.Close.tail(5))\n",
        "print(df['Low'].tail(5))"
      ],
      "metadata": {
        "colab": {
          "base_uri": "https://localhost:8080/"
        },
        "id": "x8cVTchuZOx8",
        "outputId": "c3778dd0-3346-415e-8e98-703d1f73177f"
      },
      "execution_count": 99,
      "outputs": [
        {
          "output_type": "stream",
          "name": "stdout",
          "text": [
            "                  ABT         MMM\n",
            "Date                             \n",
            "2017-12-22  56.930000  234.729996\n",
            "2017-12-26  57.000000  235.449997\n",
            "2017-12-27  57.470001  236.199997\n",
            "2017-12-28  57.459999  235.720001\n",
            "2017-12-29  57.070000  235.369995\n",
            "                  ABT         MMM\n",
            "Date                             \n",
            "2017-12-22  56.759998  234.279999\n",
            "2017-12-26  56.900002  235.029999\n",
            "2017-12-27  57.049999  234.839996\n",
            "2017-12-28  57.369999  235.279999\n",
            "2017-12-29  57.070000  235.369995\n"
          ]
        }
      ]
    },
    {
      "cell_type": "markdown",
      "source": [
        "My own example 218"
      ],
      "metadata": {
        "id": "pyeZ2FjuaazG"
      }
    },
    {
      "cell_type": "code",
      "source": [
        "print(datac.loc['2017-03':'2018-06', ['Open', 'High', 'Low', 'Close']])"
      ],
      "metadata": {
        "colab": {
          "base_uri": "https://localhost:8080/"
        },
        "id": "DiZAvyFbaH2l",
        "outputId": "f029b971-aa1c-4807-c9d4-7dce74d99168"
      },
      "execution_count": 100,
      "outputs": [
        {
          "output_type": "stream",
          "name": "stdout",
          "text": [
            "                 Open                   High                    Low  \\\n",
            "                  ABT         MMM        ABT         MMM        ABT   \n",
            "Date                                                                  \n",
            "2017-03-01  45.369999  188.080002  45.700001  190.539993  45.189999   \n",
            "2017-03-02  45.500000  189.460007  45.840000  190.100006  45.349998   \n",
            "2017-03-03  45.419998  189.889999  45.560001  190.240005  45.110001   \n",
            "2017-03-06  44.990002  188.929993  45.380001  189.240005  44.860001   \n",
            "2017-03-07  44.810001  188.289993  45.160000  189.259995  44.669998   \n",
            "...               ...         ...        ...         ...        ...   \n",
            "2017-12-22  56.939999  235.360001  57.320000  236.080002  56.759998   \n",
            "2017-12-26  57.009998  235.080002  57.250000  236.279999  56.900002   \n",
            "2017-12-27  57.090000  235.520004  57.599998  236.539993  57.049999   \n",
            "2017-12-28  57.439999  236.940002  57.689999  237.080002  57.369999   \n",
            "2017-12-29  57.599998  236.479996  57.770000  237.309998  57.070000   \n",
            "\n",
            "                            Close              \n",
            "                   MMM        ABT         MMM  \n",
            "Date                                           \n",
            "2017-03-01  188.009995  45.590000  189.860001  \n",
            "2017-03-02  189.029999  45.689999  189.889999  \n",
            "2017-03-03  188.539993  45.250000  189.309998  \n",
            "2017-03-06  188.270004  45.130001  188.899994  \n",
            "2017-03-07  188.250000  45.000000  189.089996  \n",
            "...                ...        ...         ...  \n",
            "2017-12-22  234.279999  56.930000  234.729996  \n",
            "2017-12-26  235.029999  57.000000  235.449997  \n",
            "2017-12-27  234.839996  57.470001  236.199997  \n",
            "2017-12-28  235.279999  57.459999  235.720001  \n",
            "2017-12-29  235.369995  57.070000  235.369995  \n",
            "\n",
            "[212 rows x 8 columns]\n"
          ]
        }
      ]
    },
    {
      "cell_type": "markdown",
      "source": [
        "My own example 219"
      ],
      "metadata": {
        "id": "1CcY3n_basP-"
      }
    },
    {
      "cell_type": "code",
      "source": [
        "csn = datac.pct_change()\n",
        "print(csn.fillna(method = 'bfill'))"
      ],
      "metadata": {
        "colab": {
          "base_uri": "https://localhost:8080/"
        },
        "id": "l0rDV9Uaaq0P",
        "outputId": "7515b82a-3f5a-417e-e58e-2a0684cd0069"
      },
      "execution_count": 105,
      "outputs": [
        {
          "output_type": "stream",
          "name": "stdout",
          "text": [
            "           Adj Close               Close                High            \\\n",
            "                 ABT       MMM       ABT       MMM       ABT       MMM   \n",
            "Date                                                                     \n",
            "2017-01-03  0.007939  0.001516  0.007939  0.001516  0.016632 -0.006111   \n",
            "2017-01-04  0.007939  0.001516  0.007939  0.001516  0.016632 -0.006111   \n",
            "2017-01-05  0.008638 -0.003421  0.008638 -0.003421  0.000503  0.001342   \n",
            "2017-01-06  0.027204  0.002926  0.027204  0.002926  0.031195 -0.003014   \n",
            "2017-01-09 -0.000981 -0.005386 -0.000981 -0.005386  0.001708 -0.001232   \n",
            "...              ...       ...       ...       ...       ...       ...   \n",
            "2017-12-22  0.000000 -0.000213  0.000000 -0.000213  0.000873 -0.004931   \n",
            "2017-12-26  0.001230  0.003067  0.001230  0.003067 -0.001221  0.000847   \n",
            "2017-12-27  0.008246  0.003185  0.008246  0.003185  0.006114  0.001100   \n",
            "2017-12-28 -0.000174 -0.002032 -0.000174 -0.002032  0.001563  0.002283   \n",
            "2017-12-29 -0.006787 -0.001485 -0.006787 -0.001485  0.001387  0.000970   \n",
            "\n",
            "                 Low                Open              Volume            \n",
            "                 ABT       MMM       ABT       MMM       ABT       MMM  \n",
            "Date                                                                    \n",
            "2017-01-03  0.018779  0.002201  0.011131 -0.004474  1.339961 -0.385486  \n",
            "2017-01-04  0.018779  0.002201  0.011131 -0.004474  1.339961 -0.385486  \n",
            "2017-01-05 -0.002048 -0.004054  0.004608  0.001292 -0.466533 -0.061089  \n",
            "2017-01-06  0.017445 -0.006162  0.011723 -0.005441  0.210992  0.122393  \n",
            "2017-01-09  0.024206  0.007964  0.027456  0.006092 -0.248576 -0.001477  \n",
            "...              ...       ...       ...       ...       ...       ...  \n",
            "2017-12-22  0.000352 -0.000555 -0.003500 -0.002712 -0.114612 -0.428712  \n",
            "2017-12-26  0.002467  0.003201  0.001229 -0.001190 -0.414989 -0.383804  \n",
            "2017-12-27  0.002636 -0.000808  0.001403  0.001872  0.644939  0.229882  \n",
            "2017-12-28  0.005609  0.001874  0.006131  0.006029 -0.354088  0.225863  \n",
            "2017-12-29 -0.005229  0.000383  0.002786 -0.001941  0.179534  0.129613  \n",
            "\n",
            "[251 rows x 12 columns]\n"
          ]
        }
      ]
    },
    {
      "cell_type": "markdown",
      "source": [
        "My own example 220"
      ],
      "metadata": {
        "id": "s5SfKiNIcJcC"
      }
    },
    {
      "cell_type": "code",
      "source": [
        "csn = datac.pct_change()\n",
        "csn.dropna()"
      ],
      "metadata": {
        "colab": {
          "base_uri": "https://localhost:8080/",
          "height": 486
        },
        "id": "a7seAN7Ra76_",
        "outputId": "ab7ee11f-1b9e-4a57-be68-f286cc6a13ba"
      },
      "execution_count": 106,
      "outputs": [
        {
          "output_type": "execute_result",
          "data": {
            "text/plain": [
              "           Adj Close               Close                High            \\\n",
              "                 ABT       MMM       ABT       MMM       ABT       MMM   \n",
              "Date                                                                     \n",
              "2017-01-04  0.007939  0.001516  0.007939  0.001516  0.016632 -0.006111   \n",
              "2017-01-05  0.008638 -0.003421  0.008638 -0.003421  0.000503  0.001342   \n",
              "2017-01-06  0.027204  0.002926  0.027204  0.002926  0.031195 -0.003014   \n",
              "2017-01-09 -0.000981 -0.005386 -0.000981 -0.005386  0.001708 -0.001232   \n",
              "2017-01-10  0.013501 -0.003893  0.013500 -0.003892  0.013639 -0.004989   \n",
              "...              ...       ...       ...       ...       ...       ...   \n",
              "2017-12-22  0.000000 -0.000213  0.000000 -0.000213  0.000873 -0.004931   \n",
              "2017-12-26  0.001230  0.003067  0.001230  0.003067 -0.001221  0.000847   \n",
              "2017-12-27  0.008246  0.003185  0.008246  0.003185  0.006114  0.001100   \n",
              "2017-12-28 -0.000174 -0.002032 -0.000174 -0.002032  0.001563  0.002283   \n",
              "2017-12-29 -0.006787 -0.001485 -0.006787 -0.001485  0.001387  0.000970   \n",
              "\n",
              "                 Low                Open              Volume            \n",
              "                 ABT       MMM       ABT       MMM       ABT       MMM  \n",
              "Date                                                                    \n",
              "2017-01-04  0.018779  0.002201  0.011131 -0.004474  1.339961 -0.385486  \n",
              "2017-01-05 -0.002048 -0.004054  0.004608  0.001292 -0.466533 -0.061089  \n",
              "2017-01-06  0.017445 -0.006162  0.011723 -0.005441  0.210992  0.122393  \n",
              "2017-01-09  0.024206  0.007964  0.027456  0.006092 -0.248576 -0.001477  \n",
              "2017-01-10  0.003939 -0.005023  0.000490 -0.005662 -0.157944  0.251140  \n",
              "...              ...       ...       ...       ...       ...       ...  \n",
              "2017-12-22  0.000352 -0.000555 -0.003500 -0.002712 -0.114612 -0.428712  \n",
              "2017-12-26  0.002467  0.003201  0.001229 -0.001190 -0.414989 -0.383804  \n",
              "2017-12-27  0.002636 -0.000808  0.001403  0.001872  0.644939  0.229882  \n",
              "2017-12-28  0.005609  0.001874  0.006131  0.006029 -0.354088  0.225863  \n",
              "2017-12-29 -0.005229  0.000383  0.002786 -0.001941  0.179534  0.129613  \n",
              "\n",
              "[250 rows x 12 columns]"
            ],
            "text/html": [
              "\n",
              "  <div id=\"df-f7ef0e56-d152-4428-bdbf-fcf9e5ec47c5\">\n",
              "    <div class=\"colab-df-container\">\n",
              "      <div>\n",
              "<style scoped>\n",
              "    .dataframe tbody tr th:only-of-type {\n",
              "        vertical-align: middle;\n",
              "    }\n",
              "\n",
              "    .dataframe tbody tr th {\n",
              "        vertical-align: top;\n",
              "    }\n",
              "\n",
              "    .dataframe thead tr th {\n",
              "        text-align: left;\n",
              "    }\n",
              "\n",
              "    .dataframe thead tr:last-of-type th {\n",
              "        text-align: right;\n",
              "    }\n",
              "</style>\n",
              "<table border=\"1\" class=\"dataframe\">\n",
              "  <thead>\n",
              "    <tr>\n",
              "      <th></th>\n",
              "      <th colspan=\"2\" halign=\"left\">Adj Close</th>\n",
              "      <th colspan=\"2\" halign=\"left\">Close</th>\n",
              "      <th colspan=\"2\" halign=\"left\">High</th>\n",
              "      <th colspan=\"2\" halign=\"left\">Low</th>\n",
              "      <th colspan=\"2\" halign=\"left\">Open</th>\n",
              "      <th colspan=\"2\" halign=\"left\">Volume</th>\n",
              "    </tr>\n",
              "    <tr>\n",
              "      <th></th>\n",
              "      <th>ABT</th>\n",
              "      <th>MMM</th>\n",
              "      <th>ABT</th>\n",
              "      <th>MMM</th>\n",
              "      <th>ABT</th>\n",
              "      <th>MMM</th>\n",
              "      <th>ABT</th>\n",
              "      <th>MMM</th>\n",
              "      <th>ABT</th>\n",
              "      <th>MMM</th>\n",
              "      <th>ABT</th>\n",
              "      <th>MMM</th>\n",
              "    </tr>\n",
              "    <tr>\n",
              "      <th>Date</th>\n",
              "      <th></th>\n",
              "      <th></th>\n",
              "      <th></th>\n",
              "      <th></th>\n",
              "      <th></th>\n",
              "      <th></th>\n",
              "      <th></th>\n",
              "      <th></th>\n",
              "      <th></th>\n",
              "      <th></th>\n",
              "      <th></th>\n",
              "      <th></th>\n",
              "    </tr>\n",
              "  </thead>\n",
              "  <tbody>\n",
              "    <tr>\n",
              "      <th>2017-01-04</th>\n",
              "      <td>0.007939</td>\n",
              "      <td>0.001516</td>\n",
              "      <td>0.007939</td>\n",
              "      <td>0.001516</td>\n",
              "      <td>0.016632</td>\n",
              "      <td>-0.006111</td>\n",
              "      <td>0.018779</td>\n",
              "      <td>0.002201</td>\n",
              "      <td>0.011131</td>\n",
              "      <td>-0.004474</td>\n",
              "      <td>1.339961</td>\n",
              "      <td>-0.385486</td>\n",
              "    </tr>\n",
              "    <tr>\n",
              "      <th>2017-01-05</th>\n",
              "      <td>0.008638</td>\n",
              "      <td>-0.003421</td>\n",
              "      <td>0.008638</td>\n",
              "      <td>-0.003421</td>\n",
              "      <td>0.000503</td>\n",
              "      <td>0.001342</td>\n",
              "      <td>-0.002048</td>\n",
              "      <td>-0.004054</td>\n",
              "      <td>0.004608</td>\n",
              "      <td>0.001292</td>\n",
              "      <td>-0.466533</td>\n",
              "      <td>-0.061089</td>\n",
              "    </tr>\n",
              "    <tr>\n",
              "      <th>2017-01-06</th>\n",
              "      <td>0.027204</td>\n",
              "      <td>0.002926</td>\n",
              "      <td>0.027204</td>\n",
              "      <td>0.002926</td>\n",
              "      <td>0.031195</td>\n",
              "      <td>-0.003014</td>\n",
              "      <td>0.017445</td>\n",
              "      <td>-0.006162</td>\n",
              "      <td>0.011723</td>\n",
              "      <td>-0.005441</td>\n",
              "      <td>0.210992</td>\n",
              "      <td>0.122393</td>\n",
              "    </tr>\n",
              "    <tr>\n",
              "      <th>2017-01-09</th>\n",
              "      <td>-0.000981</td>\n",
              "      <td>-0.005386</td>\n",
              "      <td>-0.000981</td>\n",
              "      <td>-0.005386</td>\n",
              "      <td>0.001708</td>\n",
              "      <td>-0.001232</td>\n",
              "      <td>0.024206</td>\n",
              "      <td>0.007964</td>\n",
              "      <td>0.027456</td>\n",
              "      <td>0.006092</td>\n",
              "      <td>-0.248576</td>\n",
              "      <td>-0.001477</td>\n",
              "    </tr>\n",
              "    <tr>\n",
              "      <th>2017-01-10</th>\n",
              "      <td>0.013501</td>\n",
              "      <td>-0.003893</td>\n",
              "      <td>0.013500</td>\n",
              "      <td>-0.003892</td>\n",
              "      <td>0.013639</td>\n",
              "      <td>-0.004989</td>\n",
              "      <td>0.003939</td>\n",
              "      <td>-0.005023</td>\n",
              "      <td>0.000490</td>\n",
              "      <td>-0.005662</td>\n",
              "      <td>-0.157944</td>\n",
              "      <td>0.251140</td>\n",
              "    </tr>\n",
              "    <tr>\n",
              "      <th>...</th>\n",
              "      <td>...</td>\n",
              "      <td>...</td>\n",
              "      <td>...</td>\n",
              "      <td>...</td>\n",
              "      <td>...</td>\n",
              "      <td>...</td>\n",
              "      <td>...</td>\n",
              "      <td>...</td>\n",
              "      <td>...</td>\n",
              "      <td>...</td>\n",
              "      <td>...</td>\n",
              "      <td>...</td>\n",
              "    </tr>\n",
              "    <tr>\n",
              "      <th>2017-12-22</th>\n",
              "      <td>0.000000</td>\n",
              "      <td>-0.000213</td>\n",
              "      <td>0.000000</td>\n",
              "      <td>-0.000213</td>\n",
              "      <td>0.000873</td>\n",
              "      <td>-0.004931</td>\n",
              "      <td>0.000352</td>\n",
              "      <td>-0.000555</td>\n",
              "      <td>-0.003500</td>\n",
              "      <td>-0.002712</td>\n",
              "      <td>-0.114612</td>\n",
              "      <td>-0.428712</td>\n",
              "    </tr>\n",
              "    <tr>\n",
              "      <th>2017-12-26</th>\n",
              "      <td>0.001230</td>\n",
              "      <td>0.003067</td>\n",
              "      <td>0.001230</td>\n",
              "      <td>0.003067</td>\n",
              "      <td>-0.001221</td>\n",
              "      <td>0.000847</td>\n",
              "      <td>0.002467</td>\n",
              "      <td>0.003201</td>\n",
              "      <td>0.001229</td>\n",
              "      <td>-0.001190</td>\n",
              "      <td>-0.414989</td>\n",
              "      <td>-0.383804</td>\n",
              "    </tr>\n",
              "    <tr>\n",
              "      <th>2017-12-27</th>\n",
              "      <td>0.008246</td>\n",
              "      <td>0.003185</td>\n",
              "      <td>0.008246</td>\n",
              "      <td>0.003185</td>\n",
              "      <td>0.006114</td>\n",
              "      <td>0.001100</td>\n",
              "      <td>0.002636</td>\n",
              "      <td>-0.000808</td>\n",
              "      <td>0.001403</td>\n",
              "      <td>0.001872</td>\n",
              "      <td>0.644939</td>\n",
              "      <td>0.229882</td>\n",
              "    </tr>\n",
              "    <tr>\n",
              "      <th>2017-12-28</th>\n",
              "      <td>-0.000174</td>\n",
              "      <td>-0.002032</td>\n",
              "      <td>-0.000174</td>\n",
              "      <td>-0.002032</td>\n",
              "      <td>0.001563</td>\n",
              "      <td>0.002283</td>\n",
              "      <td>0.005609</td>\n",
              "      <td>0.001874</td>\n",
              "      <td>0.006131</td>\n",
              "      <td>0.006029</td>\n",
              "      <td>-0.354088</td>\n",
              "      <td>0.225863</td>\n",
              "    </tr>\n",
              "    <tr>\n",
              "      <th>2017-12-29</th>\n",
              "      <td>-0.006787</td>\n",
              "      <td>-0.001485</td>\n",
              "      <td>-0.006787</td>\n",
              "      <td>-0.001485</td>\n",
              "      <td>0.001387</td>\n",
              "      <td>0.000970</td>\n",
              "      <td>-0.005229</td>\n",
              "      <td>0.000383</td>\n",
              "      <td>0.002786</td>\n",
              "      <td>-0.001941</td>\n",
              "      <td>0.179534</td>\n",
              "      <td>0.129613</td>\n",
              "    </tr>\n",
              "  </tbody>\n",
              "</table>\n",
              "<p>250 rows × 12 columns</p>\n",
              "</div>\n",
              "      <button class=\"colab-df-convert\" onclick=\"convertToInteractive('df-f7ef0e56-d152-4428-bdbf-fcf9e5ec47c5')\"\n",
              "              title=\"Convert this dataframe to an interactive table.\"\n",
              "              style=\"display:none;\">\n",
              "        \n",
              "  <svg xmlns=\"http://www.w3.org/2000/svg\" height=\"24px\"viewBox=\"0 0 24 24\"\n",
              "       width=\"24px\">\n",
              "    <path d=\"M0 0h24v24H0V0z\" fill=\"none\"/>\n",
              "    <path d=\"M18.56 5.44l.94 2.06.94-2.06 2.06-.94-2.06-.94-.94-2.06-.94 2.06-2.06.94zm-11 1L8.5 8.5l.94-2.06 2.06-.94-2.06-.94L8.5 2.5l-.94 2.06-2.06.94zm10 10l.94 2.06.94-2.06 2.06-.94-2.06-.94-.94-2.06-.94 2.06-2.06.94z\"/><path d=\"M17.41 7.96l-1.37-1.37c-.4-.4-.92-.59-1.43-.59-.52 0-1.04.2-1.43.59L10.3 9.45l-7.72 7.72c-.78.78-.78 2.05 0 2.83L4 21.41c.39.39.9.59 1.41.59.51 0 1.02-.2 1.41-.59l7.78-7.78 2.81-2.81c.8-.78.8-2.07 0-2.86zM5.41 20L4 18.59l7.72-7.72 1.47 1.35L5.41 20z\"/>\n",
              "  </svg>\n",
              "      </button>\n",
              "      \n",
              "  <style>\n",
              "    .colab-df-container {\n",
              "      display:flex;\n",
              "      flex-wrap:wrap;\n",
              "      gap: 12px;\n",
              "    }\n",
              "\n",
              "    .colab-df-convert {\n",
              "      background-color: #E8F0FE;\n",
              "      border: none;\n",
              "      border-radius: 50%;\n",
              "      cursor: pointer;\n",
              "      display: none;\n",
              "      fill: #1967D2;\n",
              "      height: 32px;\n",
              "      padding: 0 0 0 0;\n",
              "      width: 32px;\n",
              "    }\n",
              "\n",
              "    .colab-df-convert:hover {\n",
              "      background-color: #E2EBFA;\n",
              "      box-shadow: 0px 1px 2px rgba(60, 64, 67, 0.3), 0px 1px 3px 1px rgba(60, 64, 67, 0.15);\n",
              "      fill: #174EA6;\n",
              "    }\n",
              "\n",
              "    [theme=dark] .colab-df-convert {\n",
              "      background-color: #3B4455;\n",
              "      fill: #D2E3FC;\n",
              "    }\n",
              "\n",
              "    [theme=dark] .colab-df-convert:hover {\n",
              "      background-color: #434B5C;\n",
              "      box-shadow: 0px 1px 3px 1px rgba(0, 0, 0, 0.15);\n",
              "      filter: drop-shadow(0px 1px 2px rgba(0, 0, 0, 0.3));\n",
              "      fill: #FFFFFF;\n",
              "    }\n",
              "  </style>\n",
              "\n",
              "      <script>\n",
              "        const buttonEl =\n",
              "          document.querySelector('#df-f7ef0e56-d152-4428-bdbf-fcf9e5ec47c5 button.colab-df-convert');\n",
              "        buttonEl.style.display =\n",
              "          google.colab.kernel.accessAllowed ? 'block' : 'none';\n",
              "\n",
              "        async function convertToInteractive(key) {\n",
              "          const element = document.querySelector('#df-f7ef0e56-d152-4428-bdbf-fcf9e5ec47c5');\n",
              "          const dataTable =\n",
              "            await google.colab.kernel.invokeFunction('convertToInteractive',\n",
              "                                                     [key], {});\n",
              "          if (!dataTable) return;\n",
              "\n",
              "          const docLinkHtml = 'Like what you see? Visit the ' +\n",
              "            '<a target=\"_blank\" href=https://colab.research.google.com/notebooks/data_table.ipynb>data table notebook</a>'\n",
              "            + ' to learn more about interactive tables.';\n",
              "          element.innerHTML = '';\n",
              "          dataTable['output_type'] = 'display_data';\n",
              "          await google.colab.output.renderOutput(dataTable, element);\n",
              "          const docLink = document.createElement('div');\n",
              "          docLink.innerHTML = docLinkHtml;\n",
              "          element.appendChild(docLink);\n",
              "        }\n",
              "      </script>\n",
              "    </div>\n",
              "  </div>\n",
              "  "
            ]
          },
          "metadata": {},
          "execution_count": 106
        }
      ]
    },
    {
      "cell_type": "code",
      "source": [],
      "metadata": {
        "id": "PmEdtR8qcUK6"
      },
      "execution_count": null,
      "outputs": []
    }
  ]
}